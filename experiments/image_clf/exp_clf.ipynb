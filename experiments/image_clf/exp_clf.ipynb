{
 "cells": [
  {
   "cell_type": "code",
   "execution_count": 3,
   "id": "6e7234a5-e154-44c0-8805-ef990c438d07",
   "metadata": {},
   "outputs": [
    {
     "name": "stdout",
     "output_type": "stream",
     "text": [
      "The autoreload extension is already loaded. To reload it, use:\n",
      "  %reload_ext autoreload\n"
     ]
    }
   ],
   "source": [
    "%load_ext autoreload\n",
    "%autoreload 2"
   ]
  },
  {
   "cell_type": "code",
   "execution_count": 4,
   "id": "6ed5517d-0666-47eb-b404-140d83b84322",
   "metadata": {},
   "outputs": [],
   "source": [
    "import sys\n",
    "import os\n",
    "import torch\n",
    "from legoml.utils.summary import summarize_model"
   ]
  },
  {
   "cell_type": "code",
   "execution_count": 69,
   "id": "3fe49712-a5c5-4d4c-b8d4-0e16ebdbdd5d",
   "metadata": {},
   "outputs": [],
   "source": [
    "from experiments.image_clf.config import Config\n",
    "from experiments.image_clf.data import get_dls\n",
    "from experiments.image_clf.models import CNN__MLP_tiny_28x28"
   ]
  },
  {
   "cell_type": "code",
   "execution_count": 70,
   "id": "45bc8394-612e-4df8-aabf-8616d1d430e0",
   "metadata": {},
   "outputs": [],
   "source": [
    "from legoml.utils.logging import get_logger\n",
    "from legoml.utils.seed import set_seed"
   ]
  },
  {
   "cell_type": "code",
   "execution_count": 71,
   "id": "956ed3da-cece-4ca8-8be7-fc6fdbc69500",
   "metadata": {},
   "outputs": [],
   "source": [
    "import matplotlib.pyplot as plt\n",
    "\n",
    "%matplotlib inline"
   ]
  },
  {
   "cell_type": "code",
   "execution_count": 72,
   "id": "273b5fcf-9755-4f2f-bd43-f5959d3eb318",
   "metadata": {},
   "outputs": [],
   "source": [
    "device = torch.device(\"mps\")\n",
    "set_seed(42)\n",
    "config = Config(max_epochs=1, data_root=\"../../raw_data/\")"
   ]
  },
  {
   "cell_type": "code",
   "execution_count": 73,
   "id": "535a284f-7232-4dac-b1a3-faf53d77b25a",
   "metadata": {},
   "outputs": [],
   "source": [
    "model = CNN__MLP_tiny_28x28()"
   ]
  },
  {
   "cell_type": "code",
   "execution_count": 74,
   "id": "84c1916c-ad87-4381-a679-01fe14947c1e",
   "metadata": {
    "scrolled": true
   },
   "outputs": [
    {
     "data": {
      "text/plain": [
       "CNN__MLP_tiny_28x28(\n",
       "  (0): Conv_3x3__BnAct__Pool(\n",
       "    (0): Conv_3x3__BnAct(\n",
       "      (0): Conv2d(1, 32, kernel_size=(3, 3), stride=(1, 1), padding=(1, 1), bias=False)\n",
       "      (1): BatchNorm2d(32, eps=1e-05, momentum=0.1, affine=True, track_running_stats=True)\n",
       "      (2): ReLU(inplace=True)\n",
       "    )\n",
       "    (1): MaxPool2d(kernel_size=2, stride=2, padding=0, dilation=1, ceil_mode=True)\n",
       "  )\n",
       "  (1): Conv_3x3__BnAct(\n",
       "    (0): Conv2d(32, 32, kernel_size=(3, 3), stride=(1, 1), padding=(1, 1), bias=False)\n",
       "    (1): BatchNorm2d(32, eps=1e-05, momentum=0.1, affine=True, track_running_stats=True)\n",
       "    (2): ReLU(inplace=True)\n",
       "  )\n",
       "  (2): Conv_3x3__BnAct__Pool(\n",
       "    (0): Conv_3x3__BnAct(\n",
       "      (0): Conv2d(32, 64, kernel_size=(3, 3), stride=(1, 1), padding=(1, 1), bias=False)\n",
       "      (1): BatchNorm2d(64, eps=1e-05, momentum=0.1, affine=True, track_running_stats=True)\n",
       "      (2): ReLU(inplace=True)\n",
       "    )\n",
       "    (1): MaxPool2d(kernel_size=2, stride=2, padding=0, dilation=1, ceil_mode=True)\n",
       "  )\n",
       "  (3): Conv_3x3__BnAct(\n",
       "    (0): Conv2d(64, 64, kernel_size=(3, 3), stride=(1, 1), padding=(1, 1), bias=False)\n",
       "    (1): BatchNorm2d(64, eps=1e-05, momentum=0.1, affine=True, track_running_stats=True)\n",
       "    (2): ReLU(inplace=True)\n",
       "  )\n",
       "  (4): Flatten(start_dim=1, end_dim=-1)\n",
       "  (5): Linear__LnAct(\n",
       "    (0): Linear(in_features=3136, out_features=128, bias=True)\n",
       "    (1): LayerNorm((128,), eps=1e-05, elementwise_affine=True)\n",
       "    (2): ReLU(inplace=True)\n",
       "    (3): Identity()\n",
       "  )\n",
       "  (6): Linear__LnAct(\n",
       "    (0): Linear(in_features=128, out_features=10, bias=True)\n",
       "    (1): LayerNorm((10,), eps=1e-05, elementwise_affine=True)\n",
       "    (2): ReLU(inplace=True)\n",
       "    (3): Identity()\n",
       "  )\n",
       ")"
      ]
     },
     "execution_count": 74,
     "metadata": {},
     "output_type": "execute_result"
    }
   ],
   "source": [
    "model"
   ]
  },
  {
   "cell_type": "code",
   "execution_count": 75,
   "id": "251b8aed-86de-497b-ada5-d7774fb6c165",
   "metadata": {
    "scrolled": true
   },
   "outputs": [],
   "source": [
    "from legoml.core.context import Context\n",
    "from legoml.callbacks.checkpoint import CheckpointCallback\n",
    "\n",
    "eval_context = Context(\n",
    "    config=config,\n",
    "    model=model,\n",
    "    loss_fn=torch.nn.CrossEntropyLoss(),\n",
    "    device=device,\n",
    ")\n",
    "\n",
    "checkpoint_path = \"../../runs/train_img_clf/run_20250824_183653/artifacts/checkpoints/ckpt_last.pt\"\n",
    "_ = CheckpointCallback.load_into(\n",
    "    context=eval_context,\n",
    "    path=checkpoint_path,\n",
    "    map_location=device.type,\n",
    ")\n"
   ]
  },
  {
   "cell_type": "code",
   "execution_count": 76,
   "id": "9388606e-a270-4245-bfff-293324d214de",
   "metadata": {},
   "outputs": [
    {
     "name": "stdout",
     "output_type": "stream",
     "text": [
      "\u001b[2m2025-08-24 19:44:53\u001b[0m [\u001b[32m\u001b[1minfo     \u001b[0m] \u001b[1mCreated data loaders          \u001b[0m \u001b[36mtrain_size\u001b[0m=\u001b[35m938\u001b[0m \u001b[36mval_size\u001b[0m=\u001b[35m313\u001b[0m\n"
     ]
    }
   ],
   "source": [
    "train_dl, eval_dl = get_dls(config)"
   ]
  },
  {
   "cell_type": "code",
   "execution_count": 77,
   "id": "3140e8ea-3cd1-4443-ba0b-5f73083a8343",
   "metadata": {},
   "outputs": [],
   "source": [
    "single_batch = next(iter(eval_dl))"
   ]
  },
  {
   "cell_type": "code",
   "execution_count": 80,
   "id": "e4c7e7c9-78ed-45c6-9a5b-7f48a6efc51c",
   "metadata": {},
   "outputs": [],
   "source": [
    "images, targets = single_batch.inputs, single_batch.targets"
   ]
  },
  {
   "cell_type": "code",
   "execution_count": 81,
   "id": "ca5238b1-26a8-41a0-83b7-25414dc3addd",
   "metadata": {},
   "outputs": [
    {
     "data": {
      "image/png": "[encoded data removed]",
      "text/plain": [
       "<Figure size 640x480 with 1 Axes>"
      ]
     },
     "metadata": {},
     "output_type": "display_data"
    }
   ],
   "source": [
    "plt.imshow(images[0].reshape((28, 28, 1)), cmap=\"gray\")\n",
    "plt.show();"
   ]
  },
  {
   "cell_type": "code",
   "execution_count": 82,
   "id": "917263a9-7c3b-49d1-b787-4b403ca7070f",
   "metadata": {},
   "outputs": [
    {
     "data": {
      "text/plain": [
       "7"
      ]
     },
     "execution_count": 82,
     "metadata": {},
     "output_type": "execute_result"
    }
   ],
   "source": [
    "targets[0].item()"
   ]
  },
  {
   "cell_type": "markdown",
   "id": "24e28b7a-92cd-4927-816b-31718ca5de0d",
   "metadata": {},
   "source": [
    "## Model outputs"
   ]
  },
  {
   "cell_type": "code",
   "execution_count": 83,
   "id": "8c61d5e1-c9d9-47fa-aa65-c29136415758",
   "metadata": {},
   "outputs": [
    {
     "data": {
      "text/plain": [
       "device(type='cpu')"
      ]
     },
     "execution_count": 83,
     "metadata": {},
     "output_type": "execute_result"
    }
   ],
   "source": [
    "next(eval_context.model.parameters()).device"
   ]
  },
  {
   "cell_type": "code",
   "execution_count": 84,
   "id": "1ab7413f-517f-45c5-8393-1d7dc38a46e7",
   "metadata": {},
   "outputs": [
    {
     "data": {
      "text/plain": [
       "torch.Size([1, 28, 28])"
      ]
     },
     "execution_count": 84,
     "metadata": {},
     "output_type": "execute_result"
    }
   ],
   "source": [
    "images[0].shape"
   ]
  },
  {
   "cell_type": "code",
   "execution_count": 85,
   "id": "0c3d0af6-1c17-44ca-aa80-c73d7a83dbfe",
   "metadata": {},
   "outputs": [
    {
     "name": "stdout",
     "output_type": "stream",
     "text": [
      "----------------------------------------------------------------\n",
      "        Layer (type)               Output Shape         Param #\n",
      "================================================================\n",
      "            Conv2d-1           [-1, 32, 28, 28]             288\n",
      "       BatchNorm2d-2           [-1, 32, 28, 28]              64\n",
      "              ReLU-3           [-1, 32, 28, 28]               0\n",
      "         MaxPool2d-4           [-1, 32, 14, 14]               0\n",
      "            Conv2d-5           [-1, 32, 14, 14]           9,216\n",
      "       BatchNorm2d-6           [-1, 32, 14, 14]              64\n",
      "              ReLU-7           [-1, 32, 14, 14]               0\n",
      "            Conv2d-8           [-1, 64, 14, 14]          18,432\n",
      "       BatchNorm2d-9           [-1, 64, 14, 14]             128\n",
      "             ReLU-10           [-1, 64, 14, 14]               0\n",
      "        MaxPool2d-11             [-1, 64, 7, 7]               0\n",
      "           Conv2d-12             [-1, 64, 7, 7]          36,864\n",
      "      BatchNorm2d-13             [-1, 64, 7, 7]             128\n",
      "             ReLU-14             [-1, 64, 7, 7]               0\n",
      "          Flatten-15                 [-1, 3136]               0\n",
      "           Linear-16                  [-1, 128]         401,536\n",
      "        LayerNorm-17                  [-1, 128]             256\n",
      "             ReLU-18                  [-1, 128]               0\n",
      "         Identity-19                  [-1, 128]               0\n",
      "           Linear-20                   [-1, 10]           1,290\n",
      "        LayerNorm-21                   [-1, 10]              20\n",
      "             ReLU-22                   [-1, 10]               0\n",
      "         Identity-23                   [-1, 10]               0\n",
      "================================================================\n",
      "Total params: 468,286\n",
      "Trainable params: 468,286\n",
      "Non-trainable params: 0\n",
      "----------------------------------------------------------------\n",
      "Input size (MB): 0.00\n",
      "Forward/backward pass size (MB): 1.18\n",
      "Params size (MB): 1.79\n",
      "Estimated Total Size (MB): 2.97\n",
      "----------------------------------------------------------------\n"
     ]
    }
   ],
   "source": [
    "torchsummary.summary(eval_context.model.cpu(), images[0].shape)"
   ]
  },
  {
   "cell_type": "code",
   "execution_count": null,
   "id": "cf5f36ba-3aba-4524-bb40-315f7b2f05f5",
   "metadata": {},
   "outputs": [],
   "source": []
  },
  {
   "cell_type": "code",
   "execution_count": 86,
   "id": "31e45655-2de6-484b-a08f-d56e587d5a0a",
   "metadata": {},
   "outputs": [],
   "source": [
    "_ = eval_context.model.to(device).eval()\n",
    "with torch.no_grad():\n",
    "    model_op = eval_context.model(images.to(device))"
   ]
  },
  {
   "cell_type": "code",
   "execution_count": 87,
   "id": "f55e10bd-4283-4cfd-a3f2-b98a2b5f599a",
   "metadata": {},
   "outputs": [
    {
     "name": "stdout",
     "output_type": "stream",
     "text": [
      "Pred: 7, target: 7\n",
      "Pred: 2, target: 2\n",
      "Pred: 1, target: 1\n",
      "Pred: 0, target: 0\n",
      "Pred: 4, target: 4\n"
     ]
    }
   ],
   "source": [
    "for idx in range(len(targets))[:5]:\n",
    "    pred = model_op[idx].argmax(dim=-1).item()\n",
    "    tgt = targets[idx].item()\n",
    "    print(f\"Pred: {pred}, target: {tgt}\")"
   ]
  },
  {
   "cell_type": "code",
   "execution_count": 112,
   "id": "1b44531e-bb65-488e-8c78-144d4d428b05",
   "metadata": {},
   "outputs": [],
   "source": [
    "from collections import OrderedDict\n",
    "\n",
    "class TestModel(torch.nn.Sequential):\n",
    "    def __init__(self):\n",
    "        super().__init__(\n",
    "            OrderedDict([\n",
    "                ('fc1', torch.nn.Linear(2, 10)),\n",
    "                ('activation', torch.nn.ReLU(inplace=True)),\n",
    "                ('fc2', torch.nn.Linear(10, 2))\n",
    "            ])\n",
    "        )"
   ]
  },
  {
   "cell_type": "code",
   "execution_count": 113,
   "id": "96af645f-e148-4401-9dd8-94dd3eb585e3",
   "metadata": {},
   "outputs": [],
   "source": [
    "md = TestModel()"
   ]
  },
  {
   "cell_type": "code",
   "execution_count": 114,
   "id": "447f9b98-27fd-4e5c-a0c5-21dc1308187a",
   "metadata": {},
   "outputs": [
    {
     "data": {
      "text/plain": [
       "Linear(in_features=2, out_features=10, bias=True)"
      ]
     },
     "execution_count": 114,
     "metadata": {},
     "output_type": "execute_result"
    }
   ],
   "source": [
    "md.fc1"
   ]
  },
  {
   "cell_type": "code",
   "execution_count": 116,
   "id": "e4c1bc5f-b04d-40f3-91c1-55c34e2a74a4",
   "metadata": {},
   "outputs": [
    {
     "data": {
      "text/plain": [
       "TestModel(\n",
       "  (fc1): Linear(in_features=2, out_features=10, bias=True)\n",
       "  (activation): ReLU(inplace=True)\n",
       "  (fc2): Linear(in_features=10, out_features=2, bias=True)\n",
       ")"
      ]
     },
     "execution_count": 116,
     "metadata": {},
     "output_type": "execute_result"
    }
   ],
   "source": [
    "md"
   ]
  },
  {
   "cell_type": "code",
   "execution_count": 118,
   "id": "b835cb38-282d-4cfc-a7ef-6b10b9ca3107",
   "metadata": {},
   "outputs": [],
   "source": [
    "import torch.nn as nn"
   ]
  },
  {
   "cell_type": "code",
   "execution_count": 121,
   "id": "643f2d43-8c55-44d9-9160-7b0730c2cc64",
   "metadata": {},
   "outputs": [],
   "source": [
    "class AEBackbone__MLP(nn.Sequential):\n",
    "    def __init__(self, encoder: nn.Module):\n",
    "        super().__init__(\n",
    "            OrderedDict(\n",
    "                [\n",
    "                    (\"encoder\", encoder),\n",
    "                    (\"head\", nn.Linear(128, 10)),  # [10]\n",
    "                ]\n",
    "            )\n",
    "        )"
   ]
  },
  {
   "cell_type": "code",
   "execution_count": 122,
   "id": "a42154fc-49e4-4f63-b8d8-304625978dae",
   "metadata": {},
   "outputs": [],
   "source": [
    "aemlp = AEBackbone__MLP(md)"
   ]
  },
  {
   "cell_type": "code",
   "execution_count": 124,
   "id": "d1d7e520-8a15-451d-b8bf-6444c9790912",
   "metadata": {},
   "outputs": [
    {
     "data": {
      "text/plain": [
       "TestModel(\n",
       "  (fc1): Linear(in_features=2, out_features=10, bias=True)\n",
       "  (activation): ReLU(inplace=True)\n",
       "  (fc2): Linear(in_features=10, out_features=2, bias=True)\n",
       ")"
      ]
     },
     "execution_count": 124,
     "metadata": {},
     "output_type": "execute_result"
    }
   ],
   "source": [
    "aemlp.encoder"
   ]
  },
  {
   "cell_type": "code",
   "execution_count": 13,
   "id": "5d965ed9-96a3-4885-8b5b-1929a4df04a9",
   "metadata": {},
   "outputs": [],
   "source": [
    "import torch\n",
    "import torch.nn as nn\n",
    "from collections import OrderedDict"
   ]
  },
  {
   "cell_type": "code",
   "execution_count": 20,
   "id": "60df8776-bd13-4551-87b4-17be5f1c1cfd",
   "metadata": {},
   "outputs": [],
   "source": [
    "class NormAct(nn.Module):\n",
    "    def __init__(self, norm: nn.Module, act: nn.Module):\n",
    "        super().__init__()\n",
    "        self.norm = norm\n",
    "        self.act = act\n",
    "\n",
    "    def forward(self, x: torch.Tensor): return self.act(self.norm(x))"
   ]
  },
  {
   "cell_type": "code",
   "execution_count": 73,
   "id": "4bdbba30-c149-45e6-9333-2183f4a6f798",
   "metadata": {},
   "outputs": [],
   "source": [
    "class ConvLayer(nn.Module):\n",
    "    def __init__(self, c1, c2, norm_fn, act_fn):\n",
    "        super().__init__()\n",
    "        self.norm = norm_fn(c2)\n",
    "        self.act = act_fn()\n",
    "        self.conv = nn.Conv2d(c1, c2, 3, 1, 1)\n",
    "        layers = [self.conv, NormAct(norm=self.norm, act=self.act)]\n",
    "        self.inner = nn.Sequential(*layers)\n",
    "\n",
    "    def forward(self, x):\n",
    "        return self.inner(x)"
   ]
  },
  {
   "cell_type": "code",
   "execution_count": 74,
   "id": "414f256d-4390-4a9b-b43c-6d4b99313639",
   "metadata": {},
   "outputs": [],
   "source": [
    "cv = ConvLayer(3, 16, norm_fn=nn.BatchNorm2d, act_fn=nn.ReLU)"
   ]
  },
  {
   "cell_type": "code",
   "execution_count": 75,
   "id": "c543773b-3bba-48de-bc09-522cc8f1a541",
   "metadata": {},
   "outputs": [
    {
     "data": {
      "text/plain": [
       "ConvLayer(\n",
       "  (norm): BatchNorm2d(16, eps=1e-05, momentum=0.1, affine=True, track_running_stats=True)\n",
       "  (act): ReLU()\n",
       "  (conv): Conv2d(3, 16, kernel_size=(3, 3), stride=(1, 1), padding=(1, 1))\n",
       "  (inner): Sequential(\n",
       "    (0): Conv2d(3, 16, kernel_size=(3, 3), stride=(1, 1), padding=(1, 1))\n",
       "    (1): NormAct(\n",
       "      (norm): BatchNorm2d(16, eps=1e-05, momentum=0.1, affine=True, track_running_stats=True)\n",
       "      (act): ReLU()\n",
       "    )\n",
       "  )\n",
       ")"
      ]
     },
     "execution_count": 75,
     "metadata": {},
     "output_type": "execute_result"
    }
   ],
   "source": [
    "cv"
   ]
  },
  {
   "cell_type": "code",
   "execution_count": 76,
   "id": "51a1ef2b-2cfc-4a49-8993-d9ae013eca3f",
   "metadata": {},
   "outputs": [],
   "source": [
    "cv.act = nn.ReLU6()"
   ]
  },
  {
   "cell_type": "code",
   "execution_count": 77,
   "id": "eea65c68-f1f9-475e-a8b6-a0fbfc685006",
   "metadata": {},
   "outputs": [
    {
     "data": {
      "text/plain": [
       "ConvLayer(\n",
       "  (norm): BatchNorm2d(16, eps=1e-05, momentum=0.1, affine=True, track_running_stats=True)\n",
       "  (act): ReLU6()\n",
       "  (conv): Conv2d(3, 16, kernel_size=(3, 3), stride=(1, 1), padding=(1, 1))\n",
       "  (inner): Sequential(\n",
       "    (0): Conv2d(3, 16, kernel_size=(3, 3), stride=(1, 1), padding=(1, 1))\n",
       "    (1): NormAct(\n",
       "      (norm): BatchNorm2d(16, eps=1e-05, momentum=0.1, affine=True, track_running_stats=True)\n",
       "      (act): ReLU()\n",
       "    )\n",
       "  )\n",
       ")"
      ]
     },
     "execution_count": 77,
     "metadata": {},
     "output_type": "execute_result"
    }
   ],
   "source": [
    "cv"
   ]
  },
  {
   "cell_type": "code",
   "execution_count": 44,
   "id": "2d9fc679-ef74-483b-818a-3edf888d354e",
   "metadata": {},
   "outputs": [
    {
     "data": {
      "text/plain": [
       "BatchNorm2d(16, eps=1e-05, momentum=0.1, affine=True, track_running_stats=True)"
      ]
     },
     "execution_count": 44,
     "metadata": {},
     "output_type": "execute_result"
    }
   ],
   "source": [
    "cv.norm"
   ]
  },
  {
   "cell_type": "code",
   "execution_count": 49,
   "id": "67defcc0-8b27-4ec5-abff-6aa1a6f30154",
   "metadata": {},
   "outputs": [
    {
     "data": {
      "text/plain": [
       "ConvLayer(\n",
       "  (conv): Conv2d(3, 16, kernel_size=(3, 3), stride=(1, 1), padding=(1, 1))\n",
       "  (norm): BatchNorm2d(16, eps=1e-05, momentum=0.1, affine=True, track_running_stats=True)\n",
       "  (act): ReLU6()\n",
       ")"
      ]
     },
     "execution_count": 49,
     "metadata": {},
     "output_type": "execute_result"
    }
   ],
   "source": [
    "cv"
   ]
  },
  {
   "cell_type": "code",
   "execution_count": 52,
   "id": "8ff224fb-319a-4f03-9e54-42e5932ff7ec",
   "metadata": {},
   "outputs": [],
   "source": [
    "cv.conv = nn.Conv2d(cv.conv.in_channels, 32, cv.conv.kernel_size)"
   ]
  },
  {
   "cell_type": "code",
   "execution_count": 53,
   "id": "f3ef686e-267a-4d69-b1cc-e960d0239c4a",
   "metadata": {},
   "outputs": [
    {
     "data": {
      "text/plain": [
       "ConvLayer(\n",
       "  (conv): Conv2d(3, 32, kernel_size=(3, 3), stride=(1, 1))\n",
       "  (norm): BatchNorm2d(16, eps=1e-05, momentum=0.1, affine=True, track_running_stats=True)\n",
       "  (act): ReLU6()\n",
       ")"
      ]
     },
     "execution_count": 53,
     "metadata": {},
     "output_type": "execute_result"
    }
   ],
   "source": [
    "cv"
   ]
  },
  {
   "cell_type": "code",
   "execution_count": 59,
   "id": "34875e18-85a0-4e14-a8d1-30adb35dc809",
   "metadata": {},
   "outputs": [],
   "source": [
    "from typing import Optional"
   ]
  },
  {
   "cell_type": "code",
   "execution_count": 60,
   "id": "42286f27-106b-454a-8adf-14fe5368acaf",
   "metadata": {},
   "outputs": [],
   "source": [
    "class NormActConv(nn.Sequential):\n",
    "    \"\"\"A Sequential layer composed by a normalization, an activation and a convolution layer. This is usually known as a 'Preactivation Block'\n",
    "\n",
    "    Args:\n",
    "        in_features (int): Number of input features\n",
    "        out_features (int): Number of output features\n",
    "        conv (nn.Module, optional): [description]. Defaults to Conv2dPad.\n",
    "        normalization (nn.Module, optional): [description]. Defaults to nn.BatchNorm2d.\n",
    "        activation (nn.Module, optional): [description]. Defaults to nn.ReLU.\n",
    "    \"\"\"\n",
    "\n",
    "    def __init__(\n",
    "        self,\n",
    "        in_features: int,\n",
    "        out_features: int,\n",
    "        conv: nn.Module = nn.Identity,\n",
    "        normalization: Optional[nn.Module] = nn.BatchNorm2d,\n",
    "        activation: Optional[nn.Module] = nn.ReLU,\n",
    "        *args,\n",
    "        **kwargs\n",
    "    ):\n",
    "        super().__init__()\n",
    "        if normalization:\n",
    "            self.add_module(\"norm\", normalization(in_features))\n",
    "        if activation:\n",
    "            self.add_module(\"act\", activation())\n",
    "        self.add_module(\"conv\", conv(in_features, out_features, *args, **kwargs))"
   ]
  },
  {
   "cell_type": "code",
   "execution_count": 61,
   "id": "898d5e5e-267e-4cfa-9353-c21f86ea357a",
   "metadata": {},
   "outputs": [],
   "source": [
    "nac = NormActConv(3, 8)"
   ]
  },
  {
   "cell_type": "code",
   "execution_count": 62,
   "id": "98e67e47-f1ae-4cc8-9bac-302da71ad033",
   "metadata": {},
   "outputs": [
    {
     "data": {
      "text/plain": [
       "BatchNorm2d(3, eps=1e-05, momentum=0.1, affine=True, track_running_stats=True)"
      ]
     },
     "execution_count": 62,
     "metadata": {},
     "output_type": "execute_result"
    }
   ],
   "source": [
    "nac.norm"
   ]
  },
  {
   "cell_type": "code",
   "execution_count": 65,
   "id": "5607c5de-f9e0-46c5-9629-6dcfe59cbb34",
   "metadata": {},
   "outputs": [
    {
     "data": {
      "text/plain": [
       "Sequential(\n",
       "  (0): None\n",
       ")"
      ]
     },
     "execution_count": 65,
     "metadata": {},
     "output_type": "execute_result"
    }
   ],
   "source": [
    "nn.Sequential(*[None])"
   ]
  },
  {
   "cell_type": "code",
   "execution_count": 59,
   "id": "b99376ef-03f3-49d4-aaf7-e3619f42dfa8",
   "metadata": {},
   "outputs": [],
   "source": [
    "x = torch.rand(4, 64, 32, 32)"
   ]
  },
  {
   "cell_type": "code",
   "execution_count": 60,
   "id": "3bc91d0d-264d-47af-904b-9b2e2d1daeb3",
   "metadata": {},
   "outputs": [
    {
     "data": {
      "text/plain": [
       "torch.Size([4, 64, 32, 32])"
      ]
     },
     "execution_count": 60,
     "metadata": {},
     "output_type": "execute_result"
    }
   ],
   "source": [
    "x.shape"
   ]
  },
  {
   "cell_type": "code",
   "execution_count": 61,
   "id": "6256f30b-19d1-49a3-8cdc-df3b90d6f669",
   "metadata": {},
   "outputs": [],
   "source": [
    "from legoml.nn.blocks.resnet import Res2Block"
   ]
  },
  {
   "cell_type": "code",
   "execution_count": 62,
   "id": "6bb67731-575d-45ff-95cd-3d12acb1880d",
   "metadata": {},
   "outputs": [],
   "source": [
    "blk = Res2Block(c1=64)"
   ]
  },
  {
   "cell_type": "code",
   "execution_count": 67,
   "id": "b081127c-7632-4008-a08e-9a2014356ac2",
   "metadata": {},
   "outputs": [],
   "source": [
    "splits = x.split(16, dim=1)\n",
    "shortcut_split, rest = splits[0], splits[1:]"
   ]
  },
  {
   "cell_type": "code",
   "execution_count": 68,
   "id": "8ce0c139-eb46-49f1-9204-81e0578fa6b6",
   "metadata": {},
   "outputs": [
    {
     "data": {
      "text/plain": [
       "torch.Size([4, 16, 32, 32])"
      ]
     },
     "execution_count": 68,
     "metadata": {},
     "output_type": "execute_result"
    }
   ],
   "source": [
    "shortcut_split.shape"
   ]
  },
  {
   "cell_type": "code",
   "execution_count": 69,
   "id": "363cfa0b-d60b-46f6-a3e4-45b13b0a9b9e",
   "metadata": {},
   "outputs": [
    {
     "data": {
      "text/plain": [
       "Res2Block(\n",
       "  (shortcut): Identity()\n",
       "  (blocks): ModuleList(\n",
       "    (0-3): 4 x ConvNormAct(\n",
       "      (block): Conv2d(16, 16, kernel_size=(3, 3), stride=(1, 1), padding=(1, 1), bias=False)\n",
       "      (norm): BatchNorm2d(16, eps=1e-05, momentum=0.1, affine=True, track_running_stats=True)\n",
       "      (act): ReLU(inplace=True)\n",
       "      (dropout): Identity()\n",
       "    )\n",
       "  )\n",
       ")"
      ]
     },
     "execution_count": 69,
     "metadata": {},
     "output_type": "execute_result"
    }
   ],
   "source": [
    "blk"
   ]
  },
  {
   "cell_type": "code",
   "execution_count": 70,
   "id": "10428016-f248-4b45-ab50-f3445ad0521b",
   "metadata": {},
   "outputs": [
    {
     "data": {
      "text/plain": [
       "torch.Size([4, 64, 32, 32])"
      ]
     },
     "execution_count": 70,
     "metadata": {},
     "output_type": "execute_result"
    }
   ],
   "source": [
    "x.shape"
   ]
  },
  {
   "cell_type": "code",
   "execution_count": 71,
   "id": "3d818bf1-9724-4418-9350-1e3fceb87465",
   "metadata": {},
   "outputs": [
    {
     "name": "stdout",
     "output_type": "stream",
     "text": [
      "------------------------------------------------------------------\n",
      "Name     | Type       | Params | In              | Out            \n",
      "------------------------------------------------------------------\n",
      "shortcut | Identity   | 0      | [4, 16, 32, 32] | [4, 16, 32, 32]\n",
      "blocks   | ModuleList | 9.3 K  | ?               | ?              \n",
      "------------------------------------------------------------------\n",
      "9.3 K          Trainable params\n",
      "0              Non-trainable params\n",
      "9.3 K          Total params\n",
      "0.036          Total estimated parameter size (MiB)\n"
     ]
    }
   ],
   "source": [
    "print(summarize_model(blk, example_input=x, print_result=False))"
   ]
  },
  {
   "cell_type": "code",
   "execution_count": 72,
   "id": "918b8a0d-887b-409e-85bd-24d3976a9081",
   "metadata": {},
   "outputs": [
    {
     "data": {
      "text/plain": [
       "torch.Size([4, 64, 32, 32])"
      ]
     },
     "execution_count": 72,
     "metadata": {},
     "output_type": "execute_result"
    }
   ],
   "source": [
    "blk(x).shape"
   ]
  },
  {
   "cell_type": "code",
   "execution_count": 73,
   "id": "7f9bf543-1963-4ce7-9b2a-5ff276bedcbe",
   "metadata": {},
   "outputs": [
    {
     "data": {
      "text/plain": [
       "torch.Size([4, 64, 32, 32])"
      ]
     },
     "execution_count": 73,
     "metadata": {},
     "output_type": "execute_result"
    }
   ],
   "source": [
    "x.shape"
   ]
  },
  {
   "cell_type": "code",
   "execution_count": 74,
   "id": "2ac956f3-363d-4740-bc65-d6e3347a59e2",
   "metadata": {},
   "outputs": [],
   "source": [
    "splits = x.split(4, dim=1)\n",
    "rest, shortcut_split = splits[:-1], splits[-1]"
   ]
  },
  {
   "cell_type": "code",
   "execution_count": 82,
   "id": "995fe233-0c0c-4c69-8304-28b79492d764",
   "metadata": {},
   "outputs": [
    {
     "data": {
      "text/plain": [
       "torch.Size([4, 4, 32, 32])"
      ]
     },
     "execution_count": 82,
     "metadata": {},
     "output_type": "execute_result"
    }
   ],
   "source": [
    "splits[:16][0].shape"
   ]
  },
  {
   "cell_type": "code",
   "execution_count": 77,
   "id": "627f0e57-37b5-41ad-bd59-dab70a2f37d3",
   "metadata": {},
   "outputs": [
    {
     "data": {
      "text/plain": [
       "15"
      ]
     },
     "execution_count": 77,
     "metadata": {},
     "output_type": "execute_result"
    }
   ],
   "source": [
    "len(rest)"
   ]
  },
  {
   "cell_type": "code",
   "execution_count": 79,
   "id": "33c96f4b-d7ca-4790-8e86-f54523139a69",
   "metadata": {},
   "outputs": [
    {
     "data": {
      "text/plain": [
       "torch.Size([4, 4, 32, 32])"
      ]
     },
     "execution_count": 79,
     "metadata": {},
     "output_type": "execute_result"
    }
   ],
   "source": [
    "shortcut_split.shape"
   ]
  },
  {
   "cell_type": "code",
   "execution_count": 83,
   "id": "c044fbb3-fc75-4c9b-a726-0af15e51539c",
   "metadata": {},
   "outputs": [
    {
     "name": "stdout",
     "output_type": "stream",
     "text": [
      "Input shape:  torch.Size([1, 10])\n",
      "Output shape: torch.Size([1, 5])\n"
     ]
    }
   ],
   "source": [
    "import torch\n",
    "import torch.nn as nn\n",
    "\n",
    "class MySequentialWrong(nn.Sequential):\n",
    "    def __init__(self, c1, c2, c3):\n",
    "        # Initialize an EMPTY sequential container\n",
    "        super().__init__()\n",
    "        \n",
    "        # These lines REGISTER the layers as submodules...\n",
    "        self.layer1 = nn.Linear(c1, c2)\n",
    "        self.layer2 = nn.Linear(c2, c3)\n",
    "        # ...but they DO NOT add them to the sequential execution path.\n",
    "\n",
    "# Let's test it\n",
    "model_wrong = MySequentialWrong(10, 20, 5)\n",
    "test_tensor = torch.randn(1, 10)\n",
    "output = model_wrong(test_tensor)\n",
    "\n",
    "print(f\"Input shape:  {test_tensor.shape}\")\n",
    "print(f\"Output shape: {output.shape}\")"
   ]
  },
  {
   "cell_type": "markdown",
   "id": "a31cd3bc-bc39-44d6-9fc2-e0986e5c82d1",
   "metadata": {},
   "source": [
    "## testing res2net"
   ]
  },
  {
   "cell_type": "code",
   "execution_count": 128,
   "id": "9701ea53-e7cb-4f2e-a628-4ec27d9fe1fd",
   "metadata": {},
   "outputs": [],
   "source": [
    "import torch\n",
    "import torch.nn as nn\n",
    "import math\n",
    "\n",
    "# The Bottle2neck block is unchanged from your original code.\n",
    "class Bottle2neck(nn.Module):\n",
    "    expansion = 4\n",
    "\n",
    "    def __init__(self, inplanes, planes, stride=1, downsample=None, baseWidth=26, scale = 4, stype='normal'):\n",
    "        \"\"\" Constructor\n",
    "        Args:\n",
    "            inplanes: input channel dimensionality\n",
    "            planes: output channel dimensionality\n",
    "            stride: conv stride. Replaces pooling layer.\n",
    "            downsample: None when stride = 1\n",
    "            baseWidth: basic width of conv3x3\n",
    "            scale: number of scale.\n",
    "            stype: 'normal': normal set. 'stage': first block of a new stage.\n",
    "        \"\"\"\n",
    "        super(Bottle2neck, self).__init__()\n",
    "\n",
    "        width = int(math.floor(planes * (baseWidth/64.0)))\n",
    "        self.conv1 = nn.Conv2d(inplanes, width*scale, kernel_size=1, bias=False)\n",
    "        self.bn1 = nn.BatchNorm2d(width*scale)\n",
    "        \n",
    "        if scale == 1:\n",
    "            self.nums = 1\n",
    "        else:\n",
    "            self.nums = scale -1\n",
    "        if stype == 'stage':\n",
    "            self.pool = nn.AvgPool2d(kernel_size=3, stride = stride, padding=1)\n",
    "        convs = []\n",
    "        bns = []\n",
    "        for i in range(self.nums):\n",
    "            convs.append(nn.Conv2d(width, width, kernel_size=3, stride = stride, padding=1, bias=False))\n",
    "            bns.append(nn.BatchNorm2d(width))\n",
    "        self.convs = nn.ModuleList(convs)\n",
    "        self.bns = nn.ModuleList(bns)\n",
    "\n",
    "        self.conv3 = nn.Conv2d(width*scale, planes * self.expansion, kernel_size=1, bias=False)\n",
    "        self.bn3 = nn.BatchNorm2d(planes * self.expansion)\n",
    "\n",
    "        self.relu = nn.ReLU(inplace=True)\n",
    "        self.downsample = downsample\n",
    "        self.stype = stype\n",
    "        self.scale = scale\n",
    "        self.width  = width\n",
    "\n",
    "    def forward(self, x):\n",
    "        residual = x\n",
    "\n",
    "        out = self.conv1(x)\n",
    "        out = self.bn1(out)\n",
    "        out = self.relu(out)\n",
    "\n",
    "        spx = torch.split(out, self.width, 1)\n",
    "        for i in range(self.nums):\n",
    "          if i==0 or self.stype=='stage':\n",
    "            sp = spx[i]\n",
    "          else:\n",
    "            sp = sp + spx[i]\n",
    "          sp = self.convs[i](sp)\n",
    "          sp = self.relu(self.bns[i](sp))\n",
    "          if i==0:\n",
    "            out = sp\n",
    "          else:\n",
    "            out = torch.cat((out, sp), 1)\n",
    "        if self.scale != 1 and self.stype=='normal':\n",
    "          out = torch.cat((out, spx[self.nums]),1)\n",
    "        elif self.scale != 1 and self.stype=='stage':\n",
    "          out = torch.cat((out, self.pool(spx[self.nums])),1)\n",
    "\n",
    "        out = self.conv3(out)\n",
    "        out = self.bn3(out)\n",
    "\n",
    "        if self.downsample is not None:\n",
    "            residual = self.downsample(x)\n",
    "\n",
    "        out += residual\n",
    "        out = self.relu(out)\n",
    "\n",
    "        return out\n",
    "\n",
    "# The new \"tiny\" Res2Net model for CIFAR-10\n",
    "class TinyRes2NetCIFAR(nn.Module):\n",
    "    def __init__(self, block, layers, baseWidth=26, scale=4, num_classes=10):\n",
    "        self.inplanes = 64\n",
    "        super(TinyRes2NetCIFAR, self).__init__()\n",
    "        self.baseWidth = baseWidth\n",
    "        self.scale = scale\n",
    "        \n",
    "        # 1. Modified Input Stem for 32x32 images\n",
    "        self.conv1 = nn.Conv2d(3, 64, kernel_size=3, stride=1, padding=1, bias=False)\n",
    "        self.bn1 = nn.BatchNorm2d(64)\n",
    "        self.relu = nn.ReLU(inplace=True)\n",
    "        # Removed the initial MaxPool layer\n",
    "\n",
    "        # 2. Reduced Depth and Width\n",
    "        self.layer1 = self._make_layer(block, 64, layers[0])\n",
    "        self.layer2 = self._make_layer(block, 128, layers[1], stride=2)\n",
    "        self.layer3 = self._make_layer(block, 256, layers[2], stride=2)\n",
    "        # Layer 4 is removed\n",
    "\n",
    "        self.avgpool = nn.AdaptiveAvgPool2d(1)\n",
    "        \n",
    "        # 3. Adjusted Classifier for 10 classes\n",
    "        # The input features now correspond to the output of layer3\n",
    "        self.fc = nn.Linear(256 * block.expansion, num_classes)\n",
    "\n",
    "        # Weight initialization\n",
    "        for m in self.modules():\n",
    "            if isinstance(m, nn.Conv2d):\n",
    "                nn.init.kaiming_normal_(m.weight, mode='fan_out', nonlinearity='relu')\n",
    "            elif isinstance(m, nn.BatchNorm2d):\n",
    "                nn.init.constant_(m.weight, 1)\n",
    "                nn.init.constant_(m.bias, 0)\n",
    "\n",
    "    def _make_layer(self, block, planes, blocks, stride=1):\n",
    "        downsample = None\n",
    "        if stride != 1 or self.inplanes != planes * block.expansion:\n",
    "            downsample = nn.Sequential(\n",
    "                nn.Conv2d(self.inplanes, planes * block.expansion,\n",
    "                          kernel_size=1, stride=stride, bias=False),\n",
    "                nn.BatchNorm2d(planes * block.expansion),\n",
    "            )\n",
    "\n",
    "        layers = []\n",
    "        layers.append(block(self.inplanes, planes, stride, downsample=downsample, \n",
    "                            stype='stage', baseWidth=self.baseWidth, scale=self.scale))\n",
    "        self.inplanes = planes * block.expansion\n",
    "        for i in range(1, blocks):\n",
    "            layers.append(block(self.inplanes, planes, baseWidth=self.baseWidth, scale=self.scale))\n",
    "\n",
    "        return nn.Sequential(*layers)\n",
    "\n",
    "    def forward(self, x):\n",
    "        x = self.conv1(x)\n",
    "        x = self.bn1(x)\n",
    "        x = self.relu(x)\n",
    "        # No maxpool layer here\n",
    "        \n",
    "        x = self.layer1(x)\n",
    "        x = self.layer2(x)\n",
    "        x = self.layer3(x)\n",
    "        # No layer4 here\n",
    "\n",
    "        x = self.avgpool(x)\n",
    "        x = x.view(x.size(0), -1)\n",
    "        x = self.fc(x)\n",
    "\n",
    "        return x\n",
    "\n",
    "def res2net_cifar_tiny():\n",
    "    \"\"\"\n",
    "    Constructs a tiny Res2Net model for CIFAR-10.\n",
    "    Using a layer configuration of [2, 2, 2] which makes it a Res2Net-17 like model.\n",
    "    \"\"\"\n",
    "    return TinyRes2NetCIFAR(Bottle2neck, [2, 2, 2])"
   ]
  },
  {
   "cell_type": "code",
   "execution_count": 129,
   "id": "a920f5d4-6d77-4396-8ad6-b47ad59a08d9",
   "metadata": {},
   "outputs": [],
   "source": [
    "mdl = res2net_cifar_tiny()"
   ]
  },
  {
   "cell_type": "code",
   "execution_count": 130,
   "id": "a51ebec2-47e1-4a50-a64a-608b2c40257d",
   "metadata": {},
   "outputs": [
    {
     "name": "stdout",
     "output_type": "stream",
     "text": [
      "----------------------------------------------------------------------------\n",
      "Name     | Type              | Params  | In               | Out             \n",
      "----------------------------------------------------------------------------\n",
      "conv1    | Conv2d            | 1.7 K   | [4, 3, 32, 32]   | [4, 64, 32, 32] \n",
      "bn1      | BatchNorm2d       | 128     | [4, 64, 32, 32]  | [4, 64, 32, 32] \n",
      "relu     | ReLU              | 0       | [4, 64, 32, 32]  | [4, 64, 32, 32] \n",
      "layer1   | Sequential        | 141.7 K | [4, 64, 32, 32]  | [4, 256, 32, 32]\n",
      "layer1.0 | Bottle2neck       | 69.3 K  | [4, 64, 32, 32]  | [4, 256, 32, 32]\n",
      "layer1.1 | Bottle2neck       | 72.4 K  | [4, 256, 32, 32] | [4, 256, 32, 32]\n",
      "layer2   | Sequential        | 654.4 K | [4, 256, 32, 32] | [4, 512, 16, 16]\n",
      "layer2.0 | Bottle2neck       | 366.6 K | [4, 256, 32, 32] | [4, 512, 16, 16]\n",
      "layer2.1 | Bottle2neck       | 287.8 K | [4, 512, 16, 16] | [4, 512, 16, 16]\n",
      "layer3   | Sequential        | 2.6 M   | [4, 512, 16, 16] | [4, 1024, 8, 8] \n",
      "layer3.0 | Bottle2neck       | 1.5 M   | [4, 512, 16, 16] | [4, 1024, 8, 8] \n",
      "layer3.1 | Bottle2neck       | 1.1 M   | [4, 1024, 8, 8]  | [4, 1024, 8, 8] \n",
      "avgpool  | AdaptiveAvgPool2d | 0       | [4, 1024, 8, 8]  | [4, 1024, 1, 1] \n",
      "fc       | Linear            | 10.2 K  | [4, 1024]        | [4, 10]         \n",
      "----------------------------------------------------------------------------\n",
      "3.4 M          Trainable params\n",
      "0              Non-trainable params\n",
      "3.4 M          Total params\n",
      "13.033         Total estimated parameter size (MiB)\n"
     ]
    }
   ],
   "source": [
    "print(summarize_model(mdl, torch.rand(4, 3, 32, 32), depth=2, print_result=False))"
   ]
  },
  {
   "cell_type": "code",
   "execution_count": 134,
   "id": "fa7dba91-3067-467a-b5be-d24eb6abc04d",
   "metadata": {},
   "outputs": [
    {
     "data": {
      "text/plain": [
       "TinyRes2NetCIFAR(\n",
       "  (conv1): Conv2d(3, 64, kernel_size=(3, 3), stride=(1, 1), padding=(1, 1), bias=False)\n",
       "  (bn1): BatchNorm2d(64, eps=1e-05, momentum=0.1, affine=True, track_running_stats=True)\n",
       "  (relu): ReLU(inplace=True)\n",
       "  (layer1): Sequential(\n",
       "    (0): Bottle2neck(\n",
       "      (conv1): Conv2d(64, 104, kernel_size=(1, 1), stride=(1, 1), bias=False)\n",
       "      (bn1): BatchNorm2d(104, eps=1e-05, momentum=0.1, affine=True, track_running_stats=True)\n",
       "      (pool): AvgPool2d(kernel_size=3, stride=1, padding=1)\n",
       "      (convs): ModuleList(\n",
       "        (0-2): 3 x Conv2d(26, 26, kernel_size=(3, 3), stride=(1, 1), padding=(1, 1), bias=False)\n",
       "      )\n",
       "      (bns): ModuleList(\n",
       "        (0-2): 3 x BatchNorm2d(26, eps=1e-05, momentum=0.1, affine=True, track_running_stats=True)\n",
       "      )\n",
       "      (conv3): Conv2d(104, 256, kernel_size=(1, 1), stride=(1, 1), bias=False)\n",
       "      (bn3): BatchNorm2d(256, eps=1e-05, momentum=0.1, affine=True, track_running_stats=True)\n",
       "      (relu): ReLU(inplace=True)\n",
       "      (downsample): Sequential(\n",
       "        (0): Conv2d(64, 256, kernel_size=(1, 1), stride=(1, 1), bias=False)\n",
       "        (1): BatchNorm2d(256, eps=1e-05, momentum=0.1, affine=True, track_running_stats=True)\n",
       "      )\n",
       "    )\n",
       "    (1): Bottle2neck(\n",
       "      (conv1): Conv2d(256, 104, kernel_size=(1, 1), stride=(1, 1), bias=False)\n",
       "      (bn1): BatchNorm2d(104, eps=1e-05, momentum=0.1, affine=True, track_running_stats=True)\n",
       "      (convs): ModuleList(\n",
       "        (0-2): 3 x Conv2d(26, 26, kernel_size=(3, 3), stride=(1, 1), padding=(1, 1), bias=False)\n",
       "      )\n",
       "      (bns): ModuleList(\n",
       "        (0-2): 3 x BatchNorm2d(26, eps=1e-05, momentum=0.1, affine=True, track_running_stats=True)\n",
       "      )\n",
       "      (conv3): Conv2d(104, 256, kernel_size=(1, 1), stride=(1, 1), bias=False)\n",
       "      (bn3): BatchNorm2d(256, eps=1e-05, momentum=0.1, affine=True, track_running_stats=True)\n",
       "      (relu): ReLU(inplace=True)\n",
       "    )\n",
       "  )\n",
       "  (layer2): Sequential(\n",
       "    (0): Bottle2neck(\n",
       "      (conv1): Conv2d(256, 208, kernel_size=(1, 1), stride=(1, 1), bias=False)\n",
       "      (bn1): BatchNorm2d(208, eps=1e-05, momentum=0.1, affine=True, track_running_stats=True)\n",
       "      (pool): AvgPool2d(kernel_size=3, stride=2, padding=1)\n",
       "      (convs): ModuleList(\n",
       "        (0-2): 3 x Conv2d(52, 52, kernel_size=(3, 3), stride=(2, 2), padding=(1, 1), bias=False)\n",
       "      )\n",
       "      (bns): ModuleList(\n",
       "        (0-2): 3 x BatchNorm2d(52, eps=1e-05, momentum=0.1, affine=True, track_running_stats=True)\n",
       "      )\n",
       "      (conv3): Conv2d(208, 512, kernel_size=(1, 1), stride=(1, 1), bias=False)\n",
       "      (bn3): BatchNorm2d(512, eps=1e-05, momentum=0.1, affine=True, track_running_stats=True)\n",
       "      (relu): ReLU(inplace=True)\n",
       "      (downsample): Sequential(\n",
       "        (0): Conv2d(256, 512, kernel_size=(1, 1), stride=(2, 2), bias=False)\n",
       "        (1): BatchNorm2d(512, eps=1e-05, momentum=0.1, affine=True, track_running_stats=True)\n",
       "      )\n",
       "    )\n",
       "    (1): Bottle2neck(\n",
       "      (conv1): Conv2d(512, 208, kernel_size=(1, 1), stride=(1, 1), bias=False)\n",
       "      (bn1): BatchNorm2d(208, eps=1e-05, momentum=0.1, affine=True, track_running_stats=True)\n",
       "      (convs): ModuleList(\n",
       "        (0-2): 3 x Conv2d(52, 52, kernel_size=(3, 3), stride=(1, 1), padding=(1, 1), bias=False)\n",
       "      )\n",
       "      (bns): ModuleList(\n",
       "        (0-2): 3 x BatchNorm2d(52, eps=1e-05, momentum=0.1, affine=True, track_running_stats=True)\n",
       "      )\n",
       "      (conv3): Conv2d(208, 512, kernel_size=(1, 1), stride=(1, 1), bias=False)\n",
       "      (bn3): BatchNorm2d(512, eps=1e-05, momentum=0.1, affine=True, track_running_stats=True)\n",
       "      (relu): ReLU(inplace=True)\n",
       "    )\n",
       "  )\n",
       "  (layer3): Sequential(\n",
       "    (0): Bottle2neck(\n",
       "      (conv1): Conv2d(512, 416, kernel_size=(1, 1), stride=(1, 1), bias=False)\n",
       "      (bn1): BatchNorm2d(416, eps=1e-05, momentum=0.1, affine=True, track_running_stats=True)\n",
       "      (pool): AvgPool2d(kernel_size=3, stride=2, padding=1)\n",
       "      (convs): ModuleList(\n",
       "        (0-2): 3 x Conv2d(104, 104, kernel_size=(3, 3), stride=(2, 2), padding=(1, 1), bias=False)\n",
       "      )\n",
       "      (bns): ModuleList(\n",
       "        (0-2): 3 x BatchNorm2d(104, eps=1e-05, momentum=0.1, affine=True, track_running_stats=True)\n",
       "      )\n",
       "      (conv3): Conv2d(416, 1024, kernel_size=(1, 1), stride=(1, 1), bias=False)\n",
       "      (bn3): BatchNorm2d(1024, eps=1e-05, momentum=0.1, affine=True, track_running_stats=True)\n",
       "      (relu): ReLU(inplace=True)\n",
       "      (downsample): Sequential(\n",
       "        (0): Conv2d(512, 1024, kernel_size=(1, 1), stride=(2, 2), bias=False)\n",
       "        (1): BatchNorm2d(1024, eps=1e-05, momentum=0.1, affine=True, track_running_stats=True)\n",
       "      )\n",
       "    )\n",
       "    (1): Bottle2neck(\n",
       "      (conv1): Conv2d(1024, 416, kernel_size=(1, 1), stride=(1, 1), bias=False)\n",
       "      (bn1): BatchNorm2d(416, eps=1e-05, momentum=0.1, affine=True, track_running_stats=True)\n",
       "      (convs): ModuleList(\n",
       "        (0-2): 3 x Conv2d(104, 104, kernel_size=(3, 3), stride=(1, 1), padding=(1, 1), bias=False)\n",
       "      )\n",
       "      (bns): ModuleList(\n",
       "        (0-2): 3 x BatchNorm2d(104, eps=1e-05, momentum=0.1, affine=True, track_running_stats=True)\n",
       "      )\n",
       "      (conv3): Conv2d(416, 1024, kernel_size=(1, 1), stride=(1, 1), bias=False)\n",
       "      (bn3): BatchNorm2d(1024, eps=1e-05, momentum=0.1, affine=True, track_running_stats=True)\n",
       "      (relu): ReLU(inplace=True)\n",
       "    )\n",
       "  )\n",
       "  (avgpool): AdaptiveAvgPool2d(output_size=1)\n",
       "  (fc): Linear(in_features=1024, out_features=10, bias=True)\n",
       ")"
      ]
     },
     "execution_count": 134,
     "metadata": {},
     "output_type": "execute_result"
    }
   ],
   "source": [
    "mdl"
   ]
  },
  {
   "cell_type": "code",
   "execution_count": 133,
   "id": "fe77036c-a156-4cc2-9410-41bc3b2678b3",
   "metadata": {
    "scrolled": true
   },
   "outputs": [
    {
     "name": "stdout",
     "output_type": "stream",
     "text": [
      "\u001b[2m2025-09-03T13:17:34.584921Z\u001b[0m [\u001b[32m\u001b[1minfo     \u001b[0m] \u001b[1mUsing transforms: [RandomResizedCrop(p=0.5, area_for_downscale=None, interpolation=1, mask_interpolation=0, ratio=(0.75, 1.3333333333333333), scale=(0.75, 1.0), size=(32, 32)), HorizontalFlip(p=0.5), ShiftScaleRotate(p=0.5, shift_limit_x=(-0.2, 0.2), shift_limit_y=(-0.2, 0.2), scale_limit=(-0.09999999999999998, 0.10000000000000009), rotate_limit=(-10.0, 10.0), interpolation=1, border_mode=0, fill=127.0, fill_mask=0.0, rotate_method='largest_box', mask_interpolation=0), ColorJitter(p=1.0, brightness=(0.8, 1.2), contrast=(0.7, 1.3), hue=(-0.1, 0.1), saturation=(0.8, 1.2)), CoarseDropout(p=0.2, fill=127.0, fill_mask=None, hole_height_range=(8, 12), hole_width_range=(8, 12), num_holes_range=(1, 2)), Normalize(p=1.0, max_pixel_value=255.0, mean=(0.49139968, 0.48215827, 0.44653124), normalization='standard', std=(0.24703233, 0.24348505, 0.26158768)), ToTensorV2(p=1.0, transpose_mask=False)]\u001b[0m\n"
     ]
    },
    {
     "name": "stderr",
     "output_type": "stream",
     "text": [
      "/Users/altamkhan/Workspace/private/legoml/.venv/lib/python3.10/site-packages/albumentations/core/validation.py:114: UserWarning: ShiftScaleRotate is a special case of Affine transform. Please use Affine transform instead.\n",
      "  original_init(self, **validated_kwargs)\n"
     ]
    },
    {
     "name": "stdout",
     "output_type": "stream",
     "text": [
      "\u001b[2m2025-09-03T13:17:35.060986Z\u001b[0m [\u001b[32m\u001b[1minfo     \u001b[0m] \u001b[1mUsing transforms: [Normalize(p=1.0, max_pixel_value=255.0, mean=(0.49139968, 0.48215827, 0.44653124), normalization='standard', std=(0.24703233, 0.24348505, 0.26158768)), ToTensorV2(p=1.0, transpose_mask=False)]\u001b[0m\n",
      "\u001b[2m2025-09-03T13:17:35.512704Z\u001b[0m [\u001b[32m\u001b[1minfo     \u001b[0m] \u001b[1mCreated CIFAR10 data loaders  \u001b[0m \u001b[36mtask_type\u001b[0m=\u001b[35mclassification\u001b[0m \u001b[36mtrain_size\u001b[0m=\u001b[35m782\u001b[0m \u001b[36mval_size\u001b[0m=\u001b[35m313\u001b[0m\n",
      "\u001b[2m2025-09-03T13:17:35.514079Z\u001b[0m [\u001b[32m\u001b[1minfo     \u001b[0m] \u001b[1mStarted experiment session    \u001b[0m \u001b[36mrun_dir\u001b[0m=\u001b[35mruns/train_img_clf_cifar10/run_20250903_184735\u001b[0m \u001b[36mrun_name\u001b[0m=\u001b[35mrun_20250903_184735\u001b[0m\n",
      "------------------------------------------------------------------------------\n",
      "Name     | Type              | Params  | In                | Out              \n",
      "------------------------------------------------------------------------------\n",
      "conv1    | Conv2d            | 1.7 K   | [64, 3, 32, 32]   | [64, 64, 32, 32] \n",
      "bn1      | BatchNorm2d       | 128     | [64, 64, 32, 32]  | [64, 64, 32, 32] \n",
      "relu     | ReLU              | 0       | [64, 64, 32, 32]  | [64, 64, 32, 32] \n",
      "layer1   | Sequential        | 141.7 K | [64, 64, 32, 32]  | [64, 256, 32, 32]\n",
      "layer1.0 | Bottle2neck       | 69.3 K  | [64, 64, 32, 32]  | [64, 256, 32, 32]\n",
      "layer1.1 | Bottle2neck       | 72.4 K  | [64, 256, 32, 32] | [64, 256, 32, 32]\n",
      "layer2   | Sequential        | 654.4 K | [64, 256, 32, 32] | [64, 512, 16, 16]\n",
      "layer2.0 | Bottle2neck       | 366.6 K | [64, 256, 32, 32] | [64, 512, 16, 16]\n",
      "layer2.1 | Bottle2neck       | 287.8 K | [64, 512, 16, 16] | [64, 512, 16, 16]\n",
      "layer3   | Sequential        | 2.6 M   | [64, 512, 16, 16] | [64, 1024, 8, 8] \n",
      "layer3.0 | Bottle2neck       | 1.5 M   | [64, 512, 16, 16] | [64, 1024, 8, 8] \n",
      "layer3.1 | Bottle2neck       | 1.1 M   | [64, 1024, 8, 8]  | [64, 1024, 8, 8] \n",
      "avgpool  | AdaptiveAvgPool2d | 0       | [64, 1024, 8, 8]  | [64, 1024, 1, 1] \n",
      "fc       | Linear            | 10.2 K  | [64, 1024]        | [64, 10]         \n",
      "------------------------------------------------------------------------------\n",
      "3.4 M          Trainable params\n",
      "0              Non-trainable params\n",
      "3.4 M          Total params\n",
      "13.033         Total estimated parameter size (MiB)\n",
      "\u001b[2m2025-09-03T13:17:36.325534Z\u001b[0m [\u001b[32m\u001b[1minfo     \u001b[0m] \u001b[1mcheckpointing                 \u001b[0m \u001b[36mdir\u001b[0m=\u001b[35mruns/train_img_clf_cifar10/run_20250903_184735/artifacts/checkpoints\u001b[0m \u001b[36mevery_n_epochs\u001b[0m=\u001b[35m9999\u001b[0m\n",
      "\u001b[2m2025-09-03T13:17:47.190067Z\u001b[0m [\u001b[32m\u001b[1minfo     \u001b[0m] \u001b[1mLoss: 1.7089571952819824      \u001b[0m \u001b[36mepoch\u001b[0m=\u001b[35m1\u001b[0m \u001b[36mlr\u001b[0m=\u001b[35m[0.0004047825966123561]\u001b[0m \u001b[36mmode\u001b[0m=\u001b[35mtrain\u001b[0m \u001b[36mstep\u001b[0m=\u001b[35m100\u001b[0m\n",
      "\u001b[2m2025-09-03T13:17:56.275098Z\u001b[0m [\u001b[32m\u001b[1minfo     \u001b[0m] \u001b[1mLoss: 1.6413311958312988      \u001b[0m \u001b[36mepoch\u001b[0m=\u001b[35m1\u001b[0m \u001b[36mlr\u001b[0m=\u001b[35m[0.0004191208559367766]\u001b[0m \u001b[36mmode\u001b[0m=\u001b[35mtrain\u001b[0m \u001b[36mstep\u001b[0m=\u001b[35m200\u001b[0m\n",
      "\u001b[2m2025-09-03T13:18:05.407131Z\u001b[0m [\u001b[32m\u001b[1minfo     \u001b[0m] \u001b[1mLoss: 1.8240792751312256      \u001b[0m \u001b[36mepoch\u001b[0m=\u001b[35m1\u001b[0m \u001b[36mlr\u001b[0m=\u001b[35m[0.00044298620542723363]\u001b[0m \u001b[36mmode\u001b[0m=\u001b[35mtrain\u001b[0m \u001b[36mstep\u001b[0m=\u001b[35m300\u001b[0m\n",
      "\u001b[2m2025-09-03T13:18:14.550775Z\u001b[0m [\u001b[32m\u001b[1minfo     \u001b[0m] \u001b[1mLoss: 1.4040359258651733      \u001b[0m \u001b[36mepoch\u001b[0m=\u001b[35m1\u001b[0m \u001b[36mlr\u001b[0m=\u001b[35m[0.00047633108744221317]\u001b[0m \u001b[36mmode\u001b[0m=\u001b[35mtrain\u001b[0m \u001b[36mstep\u001b[0m=\u001b[35m400\u001b[0m\n",
      "\u001b[2m2025-09-03T13:18:23.746115Z\u001b[0m [\u001b[32m\u001b[1minfo     \u001b[0m] \u001b[1mLoss: 1.6598625183105469      \u001b[0m \u001b[36mepoch\u001b[0m=\u001b[35m1\u001b[0m \u001b[36mlr\u001b[0m=\u001b[35m[0.0005190890540151486]\u001b[0m \u001b[36mmode\u001b[0m=\u001b[35mtrain\u001b[0m \u001b[36mstep\u001b[0m=\u001b[35m500\u001b[0m\n",
      "\u001b[2m2025-09-03T13:18:32.943767Z\u001b[0m [\u001b[32m\u001b[1minfo     \u001b[0m] \u001b[1mLoss: 1.6211721897125244      \u001b[0m \u001b[36mepoch\u001b[0m=\u001b[35m1\u001b[0m \u001b[36mlr\u001b[0m=\u001b[35m[0.0005711748992685058]\u001b[0m \u001b[36mmode\u001b[0m=\u001b[35mtrain\u001b[0m \u001b[36mstep\u001b[0m=\u001b[35m600\u001b[0m\n",
      "\u001b[2m2025-09-03T13:18:42.161246Z\u001b[0m [\u001b[32m\u001b[1minfo     \u001b[0m] \u001b[1mLoss: 1.265415906906128       \u001b[0m \u001b[36mepoch\u001b[0m=\u001b[35m1\u001b[0m \u001b[36mlr\u001b[0m=\u001b[35m[0.0006324848292076756]\u001b[0m \u001b[36mmode\u001b[0m=\u001b[35mtrain\u001b[0m \u001b[36mstep\u001b[0m=\u001b[35m700\u001b[0m\n",
      "\u001b[2m2025-09-03T13:18:51.376498Z\u001b[0m [\u001b[32m\u001b[1minfo     \u001b[0m] \u001b[1mLoss: 1.1581813097000122      \u001b[0m \u001b[36mepoch\u001b[0m=\u001b[35m1\u001b[0m \u001b[36mlr\u001b[0m=\u001b[35mNone\u001b[0m \u001b[36mmode\u001b[0m=\u001b[35meval\u001b[0m \u001b[36mstep\u001b[0m=\u001b[35m100\u001b[0m\n",
      "\u001b[2m2025-09-03T13:18:52.346518Z\u001b[0m [\u001b[32m\u001b[1minfo     \u001b[0m] \u001b[1mLoss: 1.1286280155181885      \u001b[0m \u001b[36mepoch\u001b[0m=\u001b[35m1\u001b[0m \u001b[36mlr\u001b[0m=\u001b[35mNone\u001b[0m \u001b[36mmode\u001b[0m=\u001b[35meval\u001b[0m \u001b[36mstep\u001b[0m=\u001b[35m200\u001b[0m\n",
      "\u001b[2m2025-09-03T13:18:53.304229Z\u001b[0m [\u001b[32m\u001b[1minfo     \u001b[0m] \u001b[1mLoss: 1.1301043033599854      \u001b[0m \u001b[36mepoch\u001b[0m=\u001b[35m1\u001b[0m \u001b[36mlr\u001b[0m=\u001b[35mNone\u001b[0m \u001b[36mmode\u001b[0m=\u001b[35meval\u001b[0m \u001b[36mstep\u001b[0m=\u001b[35m300\u001b[0m\n",
      "\u001b[2m2025-09-03T13:18:53.461844Z\u001b[0m [\u001b[32m\u001b[1minfo     \u001b[0m] \u001b[1mMetric: {'eval_acc': 0.5515}  \u001b[0m\n",
      "\u001b[2m2025-09-03T13:18:53.462162Z\u001b[0m [\u001b[32m\u001b[1minfo     \u001b[0m] \u001b[1mEvaluation complete           \u001b[0m \u001b[36mstep\u001b[0m=\u001b[35m1\u001b[0m\n",
      "\u001b[2m2025-09-03T13:18:53.462324Z\u001b[0m [\u001b[32m\u001b[1minfo     \u001b[0m] \u001b[1mMetric: {'train_acc': 0.4333} \u001b[0m\n",
      "\u001b[2m2025-09-03T13:18:53.576229Z\u001b[0m [\u001b[32m\u001b[1minfo     \u001b[0m] \u001b[1msaved checkpoint              \u001b[0m \u001b[36mepoch\u001b[0m=\u001b[35m1\u001b[0m \u001b[36mpath\u001b[0m=\u001b[35mruns/train_img_clf_cifar10/run_20250903_184735/artifacts/checkpoints/ckpt_best.pt\u001b[0m\n",
      "\u001b[2m2025-09-03T13:18:53.576688Z\u001b[0m [\u001b[32m\u001b[1minfo     \u001b[0m] \u001b[1mFound better value: 0.5515 over previous: -99999999. Saved checkpoint.\u001b[0m\n",
      "\u001b[2m2025-09-03T13:19:02.777961Z\u001b[0m [\u001b[32m\u001b[1minfo     \u001b[0m] \u001b[1mLoss: 1.308215618133545       \u001b[0m \u001b[36mepoch\u001b[0m=\u001b[35m2\u001b[0m \u001b[36mlr\u001b[0m=\u001b[35m[0.0007673283680246518]\u001b[0m \u001b[36mmode\u001b[0m=\u001b[35mtrain\u001b[0m \u001b[36mstep\u001b[0m=\u001b[35m100\u001b[0m\n",
      "\u001b[2m2025-09-03T13:19:11.976828Z\u001b[0m [\u001b[32m\u001b[1minfo     \u001b[0m] \u001b[1mLoss: 1.1345725059509277      \u001b[0m \u001b[36mepoch\u001b[0m=\u001b[35m2\u001b[0m \u001b[36mlr\u001b[0m=\u001b[35m[0.0008539330751039347]\u001b[0m \u001b[36mmode\u001b[0m=\u001b[35mtrain\u001b[0m \u001b[36mstep\u001b[0m=\u001b[35m200\u001b[0m\n",
      "\u001b[2m2025-09-03T13:19:21.189142Z\u001b[0m [\u001b[32m\u001b[1minfo     \u001b[0m] \u001b[1mLoss: 1.3905754089355469      \u001b[0m \u001b[36mepoch\u001b[0m=\u001b[35m2\u001b[0m \u001b[36mlr\u001b[0m=\u001b[35m[0.0009491984009132523]\u001b[0m \u001b[36mmode\u001b[0m=\u001b[35mtrain\u001b[0m \u001b[36mstep\u001b[0m=\u001b[35m300\u001b[0m\n",
      "\u001b[2m2025-09-03T13:19:30.458350Z\u001b[0m [\u001b[32m\u001b[1minfo     \u001b[0m] \u001b[1mLoss: 1.288456916809082       \u001b[0m \u001b[36mepoch\u001b[0m=\u001b[35m2\u001b[0m \u001b[36mlr\u001b[0m=\u001b[35m[0.0010529345056090652]\u001b[0m \u001b[36mmode\u001b[0m=\u001b[35mtrain\u001b[0m \u001b[36mstep\u001b[0m=\u001b[35m400\u001b[0m\n",
      "\u001b[2m2025-09-03T13:19:39.664039Z\u001b[0m [\u001b[32m\u001b[1minfo     \u001b[0m] \u001b[1mLoss: 0.9147152900695801      \u001b[0m \u001b[36mepoch\u001b[0m=\u001b[35m2\u001b[0m \u001b[36mlr\u001b[0m=\u001b[35m[0.0011649346692151688]\u001b[0m \u001b[36mmode\u001b[0m=\u001b[35mtrain\u001b[0m \u001b[36mstep\u001b[0m=\u001b[35m500\u001b[0m\n",
      "\u001b[2m2025-09-03T13:19:48.864720Z\u001b[0m [\u001b[32m\u001b[1minfo     \u001b[0m] \u001b[1mLoss: 1.1304099559783936      \u001b[0m \u001b[36mepoch\u001b[0m=\u001b[35m2\u001b[0m \u001b[36mlr\u001b[0m=\u001b[35m[0.0012849757035636265]\u001b[0m \u001b[36mmode\u001b[0m=\u001b[35mtrain\u001b[0m \u001b[36mstep\u001b[0m=\u001b[35m600\u001b[0m\n",
      "\u001b[2m2025-09-03T13:19:58.106779Z\u001b[0m [\u001b[32m\u001b[1minfo     \u001b[0m] \u001b[1mLoss: 1.0725159645080566      \u001b[0m \u001b[36mepoch\u001b[0m=\u001b[35m2\u001b[0m \u001b[36mlr\u001b[0m=\u001b[35m[0.0014128183970526804]\u001b[0m \u001b[36mmode\u001b[0m=\u001b[35mtrain\u001b[0m \u001b[36mstep\u001b[0m=\u001b[35m700\u001b[0m\n",
      "\u001b[2m2025-09-03T13:20:06.661328Z\u001b[0m [\u001b[32m\u001b[1minfo     \u001b[0m] \u001b[1mLoss: 1.0023212432861328      \u001b[0m \u001b[36mepoch\u001b[0m=\u001b[35m1\u001b[0m \u001b[36mlr\u001b[0m=\u001b[35mNone\u001b[0m \u001b[36mmode\u001b[0m=\u001b[35meval\u001b[0m \u001b[36mstep\u001b[0m=\u001b[35m100\u001b[0m\n",
      "\u001b[2m2025-09-03T13:20:07.622719Z\u001b[0m [\u001b[32m\u001b[1minfo     \u001b[0m] \u001b[1mLoss: 1.164969801902771       \u001b[0m \u001b[36mepoch\u001b[0m=\u001b[35m1\u001b[0m \u001b[36mlr\u001b[0m=\u001b[35mNone\u001b[0m \u001b[36mmode\u001b[0m=\u001b[35meval\u001b[0m \u001b[36mstep\u001b[0m=\u001b[35m200\u001b[0m\n",
      "\u001b[2m2025-09-03T13:20:08.591525Z\u001b[0m [\u001b[32m\u001b[1minfo     \u001b[0m] \u001b[1mLoss: 1.4315886497497559      \u001b[0m \u001b[36mepoch\u001b[0m=\u001b[35m1\u001b[0m \u001b[36mlr\u001b[0m=\u001b[35mNone\u001b[0m \u001b[36mmode\u001b[0m=\u001b[35meval\u001b[0m \u001b[36mstep\u001b[0m=\u001b[35m300\u001b[0m\n",
      "\u001b[2m2025-09-03T13:20:08.721559Z\u001b[0m [\u001b[32m\u001b[1minfo     \u001b[0m] \u001b[1mMetric: {'eval_acc': 0.5488}  \u001b[0m\n",
      "\u001b[2m2025-09-03T13:20:08.721901Z\u001b[0m [\u001b[32m\u001b[1minfo     \u001b[0m] \u001b[1mEvaluation complete           \u001b[0m \u001b[36mstep\u001b[0m=\u001b[35m2\u001b[0m\n",
      "\u001b[2m2025-09-03T13:20:08.722085Z\u001b[0m [\u001b[32m\u001b[1minfo     \u001b[0m] \u001b[1mMetric: {'train_acc': 0.57564}\u001b[0m\n",
      "\u001b[2m2025-09-03T13:20:17.969437Z\u001b[0m [\u001b[32m\u001b[1minfo     \u001b[0m] \u001b[1mLoss: 1.114881992340088       \u001b[0m \u001b[36mepoch\u001b[0m=\u001b[35m3\u001b[0m \u001b[36mlr\u001b[0m=\u001b[35m[0.001664670174423323]\u001b[0m \u001b[36mmode\u001b[0m=\u001b[35mtrain\u001b[0m \u001b[36mstep\u001b[0m=\u001b[35m100\u001b[0m\n",
      "\u001b[2m2025-09-03T13:20:27.210592Z\u001b[0m [\u001b[32m\u001b[1minfo     \u001b[0m] \u001b[1mLoss: 0.9823170304298401      \u001b[0m \u001b[36mepoch\u001b[0m=\u001b[35m3\u001b[0m \u001b[36mlr\u001b[0m=\u001b[35m[0.0018130925846170896]\u001b[0m \u001b[36mmode\u001b[0m=\u001b[35mtrain\u001b[0m \u001b[36mstep\u001b[0m=\u001b[35m200\u001b[0m\n",
      "\u001b[2m2025-09-03T13:20:36.407523Z\u001b[0m [\u001b[32m\u001b[1minfo     \u001b[0m] \u001b[1mLoss: 1.3920730352401733      \u001b[0m \u001b[36mepoch\u001b[0m=\u001b[35m3\u001b[0m \u001b[36mlr\u001b[0m=\u001b[35m[0.0019682642497821784]\u001b[0m \u001b[36mmode\u001b[0m=\u001b[35mtrain\u001b[0m \u001b[36mstep\u001b[0m=\u001b[35m300\u001b[0m\n",
      "\u001b[2m2025-09-03T13:20:45.624403Z\u001b[0m [\u001b[32m\u001b[1minfo     \u001b[0m] \u001b[1mLoss: 1.1515617370605469      \u001b[0m \u001b[36mepoch\u001b[0m=\u001b[35m3\u001b[0m \u001b[36mlr\u001b[0m=\u001b[35m[0.0021298759518018594]\u001b[0m \u001b[36mmode\u001b[0m=\u001b[35mtrain\u001b[0m \u001b[36mstep\u001b[0m=\u001b[35m400\u001b[0m\n",
      "\u001b[2m2025-09-03T13:20:54.837882Z\u001b[0m [\u001b[32m\u001b[1minfo     \u001b[0m] \u001b[1mLoss: 0.6725354194641113      \u001b[0m \u001b[36mepoch\u001b[0m=\u001b[35m3\u001b[0m \u001b[36mlr\u001b[0m=\u001b[35m[0.0022976056391850533]\u001b[0m \u001b[36mmode\u001b[0m=\u001b[35mtrain\u001b[0m \u001b[36mstep\u001b[0m=\u001b[35m500\u001b[0m\n",
      "\u001b[2m2025-09-03T13:21:04.031546Z\u001b[0m [\u001b[32m\u001b[1minfo     \u001b[0m] \u001b[1mLoss: 0.9914475679397583      \u001b[0m \u001b[36mepoch\u001b[0m=\u001b[35m3\u001b[0m \u001b[36mlr\u001b[0m=\u001b[35m[0.00247111906883398]\u001b[0m \u001b[36mmode\u001b[0m=\u001b[35mtrain\u001b[0m \u001b[36mstep\u001b[0m=\u001b[35m600\u001b[0m\n",
      "\u001b[2m2025-09-03T13:21:13.227178Z\u001b[0m [\u001b[32m\u001b[1minfo     \u001b[0m] \u001b[1mLoss: 0.8114714622497559      \u001b[0m \u001b[36mepoch\u001b[0m=\u001b[35m3\u001b[0m \u001b[36mlr\u001b[0m=\u001b[35m[0.002650070472106621]\u001b[0m \u001b[36mmode\u001b[0m=\u001b[35mtrain\u001b[0m \u001b[36mstep\u001b[0m=\u001b[35m700\u001b[0m\n",
      "\u001b[2m2025-09-03T13:21:21.667622Z\u001b[0m [\u001b[32m\u001b[1minfo     \u001b[0m] \u001b[1mLoss: 0.8511422872543335      \u001b[0m \u001b[36mepoch\u001b[0m=\u001b[35m1\u001b[0m \u001b[36mlr\u001b[0m=\u001b[35mNone\u001b[0m \u001b[36mmode\u001b[0m=\u001b[35meval\u001b[0m \u001b[36mstep\u001b[0m=\u001b[35m100\u001b[0m\n",
      "\u001b[2m2025-09-03T13:21:22.629693Z\u001b[0m [\u001b[32m\u001b[1minfo     \u001b[0m] \u001b[1mLoss: 0.7837352752685547      \u001b[0m \u001b[36mepoch\u001b[0m=\u001b[35m1\u001b[0m \u001b[36mlr\u001b[0m=\u001b[35mNone\u001b[0m \u001b[36mmode\u001b[0m=\u001b[35meval\u001b[0m \u001b[36mstep\u001b[0m=\u001b[35m200\u001b[0m\n",
      "\u001b[2m2025-09-03T13:21:23.589374Z\u001b[0m [\u001b[32m\u001b[1minfo     \u001b[0m] \u001b[1mLoss: 1.012956142425537       \u001b[0m \u001b[36mepoch\u001b[0m=\u001b[35m1\u001b[0m \u001b[36mlr\u001b[0m=\u001b[35mNone\u001b[0m \u001b[36mmode\u001b[0m=\u001b[35meval\u001b[0m \u001b[36mstep\u001b[0m=\u001b[35m300\u001b[0m\n",
      "\u001b[2m2025-09-03T13:21:23.719155Z\u001b[0m [\u001b[32m\u001b[1minfo     \u001b[0m] \u001b[1mMetric: {'eval_acc': 0.6179}  \u001b[0m\n",
      "\u001b[2m2025-09-03T13:21:23.719464Z\u001b[0m [\u001b[32m\u001b[1minfo     \u001b[0m] \u001b[1mEvaluation complete           \u001b[0m \u001b[36mstep\u001b[0m=\u001b[35m3\u001b[0m\n",
      "\u001b[2m2025-09-03T13:21:23.719632Z\u001b[0m [\u001b[32m\u001b[1minfo     \u001b[0m] \u001b[1mMetric: {'train_acc': 0.63706}\u001b[0m\n",
      "\u001b[2m2025-09-03T13:21:23.809107Z\u001b[0m [\u001b[32m\u001b[1minfo     \u001b[0m] \u001b[1msaved checkpoint              \u001b[0m \u001b[36mepoch\u001b[0m=\u001b[35m3\u001b[0m \u001b[36mpath\u001b[0m=\u001b[35mruns/train_img_clf_cifar10/run_20250903_184735/artifacts/checkpoints/ckpt_best.pt\u001b[0m\n",
      "\u001b[2m2025-09-03T13:21:23.809483Z\u001b[0m [\u001b[32m\u001b[1minfo     \u001b[0m] \u001b[1mFound better value: 0.6179 over previous: 0.5515. Saved checkpoint.\u001b[0m\n",
      "\u001b[2m2025-09-03T13:21:32.998879Z\u001b[0m [\u001b[32m\u001b[1minfo     \u001b[0m] \u001b[1mLoss: 0.47903019189834595     \u001b[0m \u001b[36mepoch\u001b[0m=\u001b[35m4\u001b[0m \u001b[36mlr\u001b[0m=\u001b[35m[0.002988544900483569]\u001b[0m \u001b[36mmode\u001b[0m=\u001b[35mtrain\u001b[0m \u001b[36mstep\u001b[0m=\u001b[35m100\u001b[0m\n",
      "\u001b[2m2025-09-03T13:21:42.296187Z\u001b[0m [\u001b[32m\u001b[1minfo     \u001b[0m] \u001b[1mLoss: 1.0659353733062744      \u001b[0m \u001b[36mepoch\u001b[0m=\u001b[35m4\u001b[0m \u001b[36mlr\u001b[0m=\u001b[35m[0.0031808780441209385]\u001b[0m \u001b[36mmode\u001b[0m=\u001b[35mtrain\u001b[0m \u001b[36mstep\u001b[0m=\u001b[35m200\u001b[0m\n",
      "\u001b[2m2025-09-03T13:21:51.518212Z\u001b[0m [\u001b[32m\u001b[1minfo     \u001b[0m] \u001b[1mLoss: 0.7568678259849548      \u001b[0m \u001b[36mepoch\u001b[0m=\u001b[35m4\u001b[0m \u001b[36mlr\u001b[0m=\u001b[35m[0.0033772347901858592]\u001b[0m \u001b[36mmode\u001b[0m=\u001b[35mtrain\u001b[0m \u001b[36mstep\u001b[0m=\u001b[35m300\u001b[0m\n",
      "\u001b[2m2025-09-03T13:22:00.794992Z\u001b[0m [\u001b[32m\u001b[1minfo     \u001b[0m] \u001b[1mLoss: 0.8293266296386719      \u001b[0m \u001b[36mepoch\u001b[0m=\u001b[35m4\u001b[0m \u001b[36mlr\u001b[0m=\u001b[35m[0.0035772238490497715]\u001b[0m \u001b[36mmode\u001b[0m=\u001b[35mtrain\u001b[0m \u001b[36mstep\u001b[0m=\u001b[35m400\u001b[0m\n",
      "\u001b[2m2025-09-03T13:22:10.082938Z\u001b[0m [\u001b[32m\u001b[1minfo     \u001b[0m] \u001b[1mLoss: 0.8897629976272583      \u001b[0m \u001b[36mepoch\u001b[0m=\u001b[35m4\u001b[0m \u001b[36mlr\u001b[0m=\u001b[35m[0.0037804466927979117]\u001b[0m \u001b[36mmode\u001b[0m=\u001b[35mtrain\u001b[0m \u001b[36mstep\u001b[0m=\u001b[35m500\u001b[0m\n",
      "\u001b[2m2025-09-03T13:22:19.484940Z\u001b[0m [\u001b[32m\u001b[1minfo     \u001b[0m] \u001b[1mLoss: 1.1020197868347168      \u001b[0m \u001b[36mepoch\u001b[0m=\u001b[35m4\u001b[0m \u001b[36mlr\u001b[0m=\u001b[35m[0.003986498349395254]\u001b[0m \u001b[36mmode\u001b[0m=\u001b[35mtrain\u001b[0m \u001b[36mstep\u001b[0m=\u001b[35m600\u001b[0m\n",
      "\u001b[2m2025-09-03T13:22:28.871523Z\u001b[0m [\u001b[32m\u001b[1minfo     \u001b[0m] \u001b[1mLoss: 0.9905365109443665      \u001b[0m \u001b[36mepoch\u001b[0m=\u001b[35m4\u001b[0m \u001b[36mlr\u001b[0m=\u001b[35m[0.0041949682096939596]\u001b[0m \u001b[36mmode\u001b[0m=\u001b[35mtrain\u001b[0m \u001b[36mstep\u001b[0m=\u001b[35m700\u001b[0m\n",
      "\u001b[2m2025-09-03T13:22:37.587650Z\u001b[0m [\u001b[32m\u001b[1minfo     \u001b[0m] \u001b[1mLoss: 0.6899259090423584      \u001b[0m \u001b[36mepoch\u001b[0m=\u001b[35m1\u001b[0m \u001b[36mlr\u001b[0m=\u001b[35mNone\u001b[0m \u001b[36mmode\u001b[0m=\u001b[35meval\u001b[0m \u001b[36mstep\u001b[0m=\u001b[35m100\u001b[0m\n",
      "\u001b[2m2025-09-03T13:22:38.637795Z\u001b[0m [\u001b[32m\u001b[1minfo     \u001b[0m] \u001b[1mLoss: 0.6980495452880859      \u001b[0m \u001b[36mepoch\u001b[0m=\u001b[35m1\u001b[0m \u001b[36mlr\u001b[0m=\u001b[35mNone\u001b[0m \u001b[36mmode\u001b[0m=\u001b[35meval\u001b[0m \u001b[36mstep\u001b[0m=\u001b[35m200\u001b[0m\n",
      "\u001b[2m2025-09-03T13:22:39.679893Z\u001b[0m [\u001b[32m\u001b[1minfo     \u001b[0m] \u001b[1mLoss: 0.40979698300361633     \u001b[0m \u001b[36mepoch\u001b[0m=\u001b[35m1\u001b[0m \u001b[36mlr\u001b[0m=\u001b[35mNone\u001b[0m \u001b[36mmode\u001b[0m=\u001b[35meval\u001b[0m \u001b[36mstep\u001b[0m=\u001b[35m300\u001b[0m\n",
      "\u001b[2m2025-09-03T13:22:39.821176Z\u001b[0m [\u001b[32m\u001b[1minfo     \u001b[0m] \u001b[1mMetric: {'eval_acc': 0.7037}  \u001b[0m\n",
      "\u001b[2m2025-09-03T13:22:39.821498Z\u001b[0m [\u001b[32m\u001b[1minfo     \u001b[0m] \u001b[1mEvaluation complete           \u001b[0m \u001b[36mstep\u001b[0m=\u001b[35m4\u001b[0m\n",
      "\u001b[2m2025-09-03T13:22:39.821654Z\u001b[0m [\u001b[32m\u001b[1minfo     \u001b[0m] \u001b[1mMetric: {'train_acc': 0.67494}\u001b[0m\n",
      "\u001b[2m2025-09-03T13:22:39.911244Z\u001b[0m [\u001b[32m\u001b[1minfo     \u001b[0m] \u001b[1msaved checkpoint              \u001b[0m \u001b[36mepoch\u001b[0m=\u001b[35m4\u001b[0m \u001b[36mpath\u001b[0m=\u001b[35mruns/train_img_clf_cifar10/run_20250903_184735/artifacts/checkpoints/ckpt_best.pt\u001b[0m\n",
      "\u001b[2m2025-09-03T13:22:39.911679Z\u001b[0m [\u001b[32m\u001b[1minfo     \u001b[0m] \u001b[1mFound better value: 0.7037 over previous: 0.6179. Saved checkpoint.\u001b[0m\n",
      "\u001b[2m2025-09-03T13:22:49.341731Z\u001b[0m [\u001b[32m\u001b[1minfo     \u001b[0m] \u001b[1mLoss: 0.5007608532905579      \u001b[0m \u001b[36mepoch\u001b[0m=\u001b[35m5\u001b[0m \u001b[36mlr\u001b[0m=\u001b[35m[0.0045792287919781465]\u001b[0m \u001b[36mmode\u001b[0m=\u001b[35mtrain\u001b[0m \u001b[36mstep\u001b[0m=\u001b[35m100\u001b[0m\n",
      "\u001b[2m2025-09-03T13:22:58.664029Z\u001b[0m [\u001b[32m\u001b[1minfo     \u001b[0m] \u001b[1mLoss: 0.826645016670227       \u001b[0m \u001b[36mepoch\u001b[0m=\u001b[35m5\u001b[0m \u001b[36mlr\u001b[0m=\u001b[35m[0.00479226792682833]\u001b[0m \u001b[36mmode\u001b[0m=\u001b[35mtrain\u001b[0m \u001b[36mstep\u001b[0m=\u001b[35m200\u001b[0m\n",
      "\u001b[2m2025-09-03T13:23:07.962179Z\u001b[0m [\u001b[32m\u001b[1minfo     \u001b[0m] \u001b[1mLoss: 0.9401468634605408      \u001b[0m \u001b[36mepoch\u001b[0m=\u001b[35m5\u001b[0m \u001b[36mlr\u001b[0m=\u001b[35m[0.005006119569191805]\u001b[0m \u001b[36mmode\u001b[0m=\u001b[35mtrain\u001b[0m \u001b[36mstep\u001b[0m=\u001b[35m300\u001b[0m\n",
      "\u001b[2m2025-09-03T13:23:17.260828Z\u001b[0m [\u001b[32m\u001b[1minfo     \u001b[0m] \u001b[1mLoss: 0.7321304082870483      \u001b[0m \u001b[36mepoch\u001b[0m=\u001b[35m5\u001b[0m \u001b[36mlr\u001b[0m=\u001b[35m[0.0052203575665101054]\u001b[0m \u001b[36mmode\u001b[0m=\u001b[35mtrain\u001b[0m \u001b[36mstep\u001b[0m=\u001b[35m400\u001b[0m\n",
      "\u001b[2m2025-09-03T13:23:26.548336Z\u001b[0m [\u001b[32m\u001b[1minfo     \u001b[0m] \u001b[1mLoss: 0.6133183836936951      \u001b[0m \u001b[36mepoch\u001b[0m=\u001b[35m5\u001b[0m \u001b[36mlr\u001b[0m=\u001b[35m[0.005434554996316479]\u001b[0m \u001b[36mmode\u001b[0m=\u001b[35mtrain\u001b[0m \u001b[36mstep\u001b[0m=\u001b[35m500\u001b[0m\n",
      "\u001b[2m2025-09-03T13:23:35.822236Z\u001b[0m [\u001b[32m\u001b[1minfo     \u001b[0m] \u001b[1mLoss: 0.7237956523895264      \u001b[0m \u001b[36mepoch\u001b[0m=\u001b[35m5\u001b[0m \u001b[36mlr\u001b[0m=\u001b[35m[0.005648285016985024]\u001b[0m \u001b[36mmode\u001b[0m=\u001b[35mtrain\u001b[0m \u001b[36mstep\u001b[0m=\u001b[35m600\u001b[0m\n",
      "\u001b[2m2025-09-03T13:23:45.107341Z\u001b[0m [\u001b[32m\u001b[1minfo     \u001b[0m] \u001b[1mLoss: 0.8810194730758667      \u001b[0m \u001b[36mepoch\u001b[0m=\u001b[35m5\u001b[0m \u001b[36mlr\u001b[0m=\u001b[35m[0.005861121718318732]\u001b[0m \u001b[36mmode\u001b[0m=\u001b[35mtrain\u001b[0m \u001b[36mstep\u001b[0m=\u001b[35m700\u001b[0m\n",
      "\u001b[2m2025-09-03T13:23:53.658704Z\u001b[0m [\u001b[32m\u001b[1minfo     \u001b[0m] \u001b[1mLoss: 0.7323824167251587      \u001b[0m \u001b[36mepoch\u001b[0m=\u001b[35m1\u001b[0m \u001b[36mlr\u001b[0m=\u001b[35mNone\u001b[0m \u001b[36mmode\u001b[0m=\u001b[35meval\u001b[0m \u001b[36mstep\u001b[0m=\u001b[35m100\u001b[0m\n",
      "\u001b[2m2025-09-03T13:23:54.679506Z\u001b[0m [\u001b[32m\u001b[1minfo     \u001b[0m] \u001b[1mLoss: 1.070716142654419       \u001b[0m \u001b[36mepoch\u001b[0m=\u001b[35m1\u001b[0m \u001b[36mlr\u001b[0m=\u001b[35mNone\u001b[0m \u001b[36mmode\u001b[0m=\u001b[35meval\u001b[0m \u001b[36mstep\u001b[0m=\u001b[35m200\u001b[0m\n",
      "\u001b[2m2025-09-03T13:23:55.700998Z\u001b[0m [\u001b[32m\u001b[1minfo     \u001b[0m] \u001b[1mLoss: 1.0884027481079102      \u001b[0m \u001b[36mepoch\u001b[0m=\u001b[35m1\u001b[0m \u001b[36mlr\u001b[0m=\u001b[35mNone\u001b[0m \u001b[36mmode\u001b[0m=\u001b[35meval\u001b[0m \u001b[36mstep\u001b[0m=\u001b[35m300\u001b[0m\n",
      "\u001b[2m2025-09-03T13:23:55.842140Z\u001b[0m [\u001b[32m\u001b[1minfo     \u001b[0m] \u001b[1mMetric: {'eval_acc': 0.652}   \u001b[0m\n",
      "\u001b[2m2025-09-03T13:23:55.842501Z\u001b[0m [\u001b[32m\u001b[1minfo     \u001b[0m] \u001b[1mEvaluation complete           \u001b[0m \u001b[36mstep\u001b[0m=\u001b[35m5\u001b[0m\n",
      "\u001b[2m2025-09-03T13:23:55.842744Z\u001b[0m [\u001b[32m\u001b[1minfo     \u001b[0m] \u001b[1mMetric: {'train_acc': 0.70714}\u001b[0m\n",
      "\u001b[2m2025-09-03T13:24:05.194542Z\u001b[0m [\u001b[32m\u001b[1minfo     \u001b[0m] \u001b[1mLoss: 0.813846230506897       \u001b[0m \u001b[36mepoch\u001b[0m=\u001b[35m6\u001b[0m \u001b[36mlr\u001b[0m=\u001b[35m[0.006244807917825071]\u001b[0m \u001b[36mmode\u001b[0m=\u001b[35mtrain\u001b[0m \u001b[36mstep\u001b[0m=\u001b[35m100\u001b[0m\n",
      "\u001b[2m2025-09-03T13:24:14.502025Z\u001b[0m [\u001b[32m\u001b[1minfo     \u001b[0m] \u001b[1mLoss: 1.079401969909668       \u001b[0m \u001b[36mepoch\u001b[0m=\u001b[35m6\u001b[0m \u001b[36mlr\u001b[0m=\u001b[35m[0.006452850150898441]\u001b[0m \u001b[36mmode\u001b[0m=\u001b[35mtrain\u001b[0m \u001b[36mstep\u001b[0m=\u001b[35m200\u001b[0m\n",
      "\u001b[2m2025-09-03T13:24:23.810813Z\u001b[0m [\u001b[32m\u001b[1minfo     \u001b[0m] \u001b[1mLoss: 0.497366338968277       \u001b[0m \u001b[36mepoch\u001b[0m=\u001b[35m6\u001b[0m \u001b[36mlr\u001b[0m=\u001b[35m[0.006658395768602031]\u001b[0m \u001b[36mmode\u001b[0m=\u001b[35mtrain\u001b[0m \u001b[36mstep\u001b[0m=\u001b[35m300\u001b[0m\n",
      "\u001b[2m2025-09-03T13:24:33.114414Z\u001b[0m [\u001b[32m\u001b[1minfo     \u001b[0m] \u001b[1mLoss: 0.7501741647720337      \u001b[0m \u001b[36mepoch\u001b[0m=\u001b[35m6\u001b[0m \u001b[36mlr\u001b[0m=\u001b[35m[0.006861035170196292]\u001b[0m \u001b[36mmode\u001b[0m=\u001b[35mtrain\u001b[0m \u001b[36mstep\u001b[0m=\u001b[35m400\u001b[0m\n",
      "\u001b[2m2025-09-03T13:24:42.427609Z\u001b[0m [\u001b[32m\u001b[1minfo     \u001b[0m] \u001b[1mLoss: 0.5053129196166992      \u001b[0m \u001b[36mepoch\u001b[0m=\u001b[35m6\u001b[0m \u001b[36mlr\u001b[0m=\u001b[35m[0.007060364546299724]\u001b[0m \u001b[36mmode\u001b[0m=\u001b[35mtrain\u001b[0m \u001b[36mstep\u001b[0m=\u001b[35m500\u001b[0m\n",
      "\u001b[2m2025-09-03T13:24:51.732857Z\u001b[0m [\u001b[32m\u001b[1minfo     \u001b[0m] \u001b[1mLoss: 1.0499987602233887      \u001b[0m \u001b[36mepoch\u001b[0m=\u001b[35m6\u001b[0m \u001b[36mlr\u001b[0m=\u001b[35m[0.007255986683579456]\u001b[0m \u001b[36mmode\u001b[0m=\u001b[35mtrain\u001b[0m \u001b[36mstep\u001b[0m=\u001b[35m600\u001b[0m\n",
      "\u001b[2m2025-09-03T13:25:01.108675Z\u001b[0m [\u001b[32m\u001b[1minfo     \u001b[0m] \u001b[1mLoss: 0.7017158269882202      \u001b[0m \u001b[36mepoch\u001b[0m=\u001b[35m6\u001b[0m \u001b[36mlr\u001b[0m=\u001b[35m[0.007447511756297545]\u001b[0m \u001b[36mmode\u001b[0m=\u001b[35mtrain\u001b[0m \u001b[36mstep\u001b[0m=\u001b[35m700\u001b[0m\n",
      "\u001b[2m2025-09-03T13:25:09.717284Z\u001b[0m [\u001b[32m\u001b[1minfo     \u001b[0m] \u001b[1mLoss: 0.5992231369018555      \u001b[0m \u001b[36mepoch\u001b[0m=\u001b[35m1\u001b[0m \u001b[36mlr\u001b[0m=\u001b[35mNone\u001b[0m \u001b[36mmode\u001b[0m=\u001b[35meval\u001b[0m \u001b[36mstep\u001b[0m=\u001b[35m100\u001b[0m\n",
      "\u001b[2m2025-09-03T13:25:10.755821Z\u001b[0m [\u001b[32m\u001b[1minfo     \u001b[0m] \u001b[1mLoss: 0.6033068299293518      \u001b[0m \u001b[36mepoch\u001b[0m=\u001b[35m1\u001b[0m \u001b[36mlr\u001b[0m=\u001b[35mNone\u001b[0m \u001b[36mmode\u001b[0m=\u001b[35meval\u001b[0m \u001b[36mstep\u001b[0m=\u001b[35m200\u001b[0m\n",
      "\u001b[2m2025-09-03T13:25:11.787277Z\u001b[0m [\u001b[32m\u001b[1minfo     \u001b[0m] \u001b[1mLoss: 0.3975064158439636      \u001b[0m \u001b[36mepoch\u001b[0m=\u001b[35m1\u001b[0m \u001b[36mlr\u001b[0m=\u001b[35mNone\u001b[0m \u001b[36mmode\u001b[0m=\u001b[35meval\u001b[0m \u001b[36mstep\u001b[0m=\u001b[35m300\u001b[0m\n",
      "\u001b[2m2025-09-03T13:25:11.926523Z\u001b[0m [\u001b[32m\u001b[1minfo     \u001b[0m] \u001b[1mMetric: {'eval_acc': 0.7123}  \u001b[0m\n",
      "\u001b[2m2025-09-03T13:25:11.927043Z\u001b[0m [\u001b[32m\u001b[1minfo     \u001b[0m] \u001b[1mEvaluation complete           \u001b[0m \u001b[36mstep\u001b[0m=\u001b[35m6\u001b[0m\n",
      "\u001b[2m2025-09-03T13:25:11.927219Z\u001b[0m [\u001b[32m\u001b[1minfo     \u001b[0m] \u001b[1mMetric: {'train_acc': 0.72626}\u001b[0m\n",
      "\u001b[2m2025-09-03T13:25:12.015903Z\u001b[0m [\u001b[32m\u001b[1minfo     \u001b[0m] \u001b[1msaved checkpoint              \u001b[0m \u001b[36mepoch\u001b[0m=\u001b[35m6\u001b[0m \u001b[36mpath\u001b[0m=\u001b[35mruns/train_img_clf_cifar10/run_20250903_184735/artifacts/checkpoints/ckpt_best.pt\u001b[0m\n",
      "\u001b[2m2025-09-03T13:25:12.016346Z\u001b[0m [\u001b[32m\u001b[1minfo     \u001b[0m] \u001b[1mFound better value: 0.7123 over previous: 0.7037. Saved checkpoint.\u001b[0m\n",
      "\u001b[2m2025-09-03T13:25:21.406892Z\u001b[0m [\u001b[32m\u001b[1minfo     \u001b[0m] \u001b[1mLoss: 0.9668283462524414      \u001b[0m \u001b[36mepoch\u001b[0m=\u001b[35m7\u001b[0m \u001b[36mlr\u001b[0m=\u001b[35m[0.007784332334871871]\u001b[0m \u001b[36mmode\u001b[0m=\u001b[35mtrain\u001b[0m \u001b[36mstep\u001b[0m=\u001b[35m100\u001b[0m\n",
      "\u001b[2m2025-09-03T13:25:30.786938Z\u001b[0m [\u001b[32m\u001b[1minfo     \u001b[0m] \u001b[1mLoss: 0.75052809715271        \u001b[0m \u001b[36mepoch\u001b[0m=\u001b[35m7\u001b[0m \u001b[36mlr\u001b[0m=\u001b[35m[0.007962277642842823]\u001b[0m \u001b[36mmode\u001b[0m=\u001b[35mtrain\u001b[0m \u001b[36mstep\u001b[0m=\u001b[35m200\u001b[0m\n",
      "\u001b[2m2025-09-03T13:25:40.177586Z\u001b[0m [\u001b[32m\u001b[1minfo     \u001b[0m] \u001b[1mLoss: 0.6695722341537476      \u001b[0m \u001b[36mepoch\u001b[0m=\u001b[35m7\u001b[0m \u001b[36mlr\u001b[0m=\u001b[35m[0.008134718425940003]\u001b[0m \u001b[36mmode\u001b[0m=\u001b[35mtrain\u001b[0m \u001b[36mstep\u001b[0m=\u001b[35m300\u001b[0m\n",
      "\u001b[2m2025-09-03T13:25:49.564236Z\u001b[0m [\u001b[32m\u001b[1minfo     \u001b[0m] \u001b[1mLoss: 0.4995790719985962      \u001b[0m \u001b[36mepoch\u001b[0m=\u001b[35m7\u001b[0m \u001b[36mlr\u001b[0m=\u001b[35m[0.008301311053036298]\u001b[0m \u001b[36mmode\u001b[0m=\u001b[35mtrain\u001b[0m \u001b[36mstep\u001b[0m=\u001b[35m400\u001b[0m\n",
      "\u001b[2m2025-09-03T13:25:58.985363Z\u001b[0m [\u001b[32m\u001b[1minfo     \u001b[0m] \u001b[1mLoss: 0.6391811370849609      \u001b[0m \u001b[36mepoch\u001b[0m=\u001b[35m7\u001b[0m \u001b[36mlr\u001b[0m=\u001b[35m[0.008461723546909213]\u001b[0m \u001b[36mmode\u001b[0m=\u001b[35mtrain\u001b[0m \u001b[36mstep\u001b[0m=\u001b[35m500\u001b[0m\n",
      "\u001b[2m2025-09-03T13:26:08.365160Z\u001b[0m [\u001b[32m\u001b[1minfo     \u001b[0m] \u001b[1mLoss: 0.8962249755859375      \u001b[0m \u001b[36mepoch\u001b[0m=\u001b[35m7\u001b[0m \u001b[36mlr\u001b[0m=\u001b[35m[0.008615636245788006]\u001b[0m \u001b[36mmode\u001b[0m=\u001b[35mtrain\u001b[0m \u001b[36mstep\u001b[0m=\u001b[35m600\u001b[0m\n",
      "\u001b[2m2025-09-03T13:26:17.780639Z\u001b[0m [\u001b[32m\u001b[1minfo     \u001b[0m] \u001b[1mLoss: 0.6454426050186157      \u001b[0m \u001b[36mepoch\u001b[0m=\u001b[35m7\u001b[0m \u001b[36mlr\u001b[0m=\u001b[35m[0.008762742440359237]\u001b[0m \u001b[36mmode\u001b[0m=\u001b[35mtrain\u001b[0m \u001b[36mstep\u001b[0m=\u001b[35m700\u001b[0m\n",
      "\u001b[2m2025-09-03T13:26:26.478669Z\u001b[0m [\u001b[32m\u001b[1minfo     \u001b[0m] \u001b[1mLoss: 0.6938613653182983      \u001b[0m \u001b[36mepoch\u001b[0m=\u001b[35m1\u001b[0m \u001b[36mlr\u001b[0m=\u001b[35mNone\u001b[0m \u001b[36mmode\u001b[0m=\u001b[35meval\u001b[0m \u001b[36mstep\u001b[0m=\u001b[35m100\u001b[0m\n",
      "\u001b[2m2025-09-03T13:26:27.516323Z\u001b[0m [\u001b[32m\u001b[1minfo     \u001b[0m] \u001b[1mLoss: 0.45252668857574463     \u001b[0m \u001b[36mepoch\u001b[0m=\u001b[35m1\u001b[0m \u001b[36mlr\u001b[0m=\u001b[35mNone\u001b[0m \u001b[36mmode\u001b[0m=\u001b[35meval\u001b[0m \u001b[36mstep\u001b[0m=\u001b[35m200\u001b[0m\n",
      "\u001b[2m2025-09-03T13:26:28.560942Z\u001b[0m [\u001b[32m\u001b[1minfo     \u001b[0m] \u001b[1mLoss: 0.6957170963287354      \u001b[0m \u001b[36mepoch\u001b[0m=\u001b[35m1\u001b[0m \u001b[36mlr\u001b[0m=\u001b[35mNone\u001b[0m \u001b[36mmode\u001b[0m=\u001b[35meval\u001b[0m \u001b[36mstep\u001b[0m=\u001b[35m300\u001b[0m\n",
      "\u001b[2m2025-09-03T13:26:28.699125Z\u001b[0m [\u001b[32m\u001b[1minfo     \u001b[0m] \u001b[1mMetric: {'eval_acc': 0.772}   \u001b[0m\n",
      "\u001b[2m2025-09-03T13:26:28.699449Z\u001b[0m [\u001b[32m\u001b[1minfo     \u001b[0m] \u001b[1mEvaluation complete           \u001b[0m \u001b[36mstep\u001b[0m=\u001b[35m7\u001b[0m\n",
      "\u001b[2m2025-09-03T13:26:28.699631Z\u001b[0m [\u001b[32m\u001b[1minfo     \u001b[0m] \u001b[1mMetric: {'train_acc': 0.74506}\u001b[0m\n",
      "\u001b[2m2025-09-03T13:26:28.787929Z\u001b[0m [\u001b[32m\u001b[1minfo     \u001b[0m] \u001b[1msaved checkpoint              \u001b[0m \u001b[36mepoch\u001b[0m=\u001b[35m7\u001b[0m \u001b[36mpath\u001b[0m=\u001b[35mruns/train_img_clf_cifar10/run_20250903_184735/artifacts/checkpoints/ckpt_best.pt\u001b[0m\n",
      "\u001b[2m2025-09-03T13:26:28.788397Z\u001b[0m [\u001b[32m\u001b[1minfo     \u001b[0m] \u001b[1mFound better value: 0.772 over previous: 0.7123. Saved checkpoint.\u001b[0m\n",
      "\u001b[2m2025-09-03T13:26:38.250874Z\u001b[0m [\u001b[32m\u001b[1minfo     \u001b[0m] \u001b[1mLoss: 0.4607813358306885      \u001b[0m \u001b[36mepoch\u001b[0m=\u001b[35m8\u001b[0m \u001b[36mlr\u001b[0m=\u001b[35m[0.009012060435718132]\u001b[0m \u001b[36mmode\u001b[0m=\u001b[35mtrain\u001b[0m \u001b[36mstep\u001b[0m=\u001b[35m100\u001b[0m\n",
      "\u001b[2m2025-09-03T13:26:47.695737Z\u001b[0m [\u001b[32m\u001b[1minfo     \u001b[0m] \u001b[1mLoss: 0.5259072184562683      \u001b[0m \u001b[36mepoch\u001b[0m=\u001b[35m8\u001b[0m \u001b[36mlr\u001b[0m=\u001b[35m[0.00913843994991143]\u001b[0m \u001b[36mmode\u001b[0m=\u001b[35mtrain\u001b[0m \u001b[36mstep\u001b[0m=\u001b[35m200\u001b[0m\n",
      "\u001b[2m2025-09-03T13:26:57.175795Z\u001b[0m [\u001b[32m\u001b[1minfo     \u001b[0m] \u001b[1mLoss: 1.003352165222168       \u001b[0m \u001b[36mepoch\u001b[0m=\u001b[35m8\u001b[0m \u001b[36mlr\u001b[0m=\u001b[35m[0.009256971143453724]\u001b[0m \u001b[36mmode\u001b[0m=\u001b[35mtrain\u001b[0m \u001b[36mstep\u001b[0m=\u001b[35m300\u001b[0m\n",
      "\u001b[2m2025-09-03T13:27:06.608032Z\u001b[0m [\u001b[32m\u001b[1minfo     \u001b[0m] \u001b[1mLoss: 0.8621159195899963      \u001b[0m \u001b[36mepoch\u001b[0m=\u001b[35m8\u001b[0m \u001b[36mlr\u001b[0m=\u001b[35m[0.009367417813476386]\u001b[0m \u001b[36mmode\u001b[0m=\u001b[35mtrain\u001b[0m \u001b[36mstep\u001b[0m=\u001b[35m400\u001b[0m\n",
      "\u001b[2m2025-09-03T13:27:16.135954Z\u001b[0m [\u001b[32m\u001b[1minfo     \u001b[0m] \u001b[1mLoss: 0.697646975517273       \u001b[0m \u001b[36mepoch\u001b[0m=\u001b[35m8\u001b[0m \u001b[36mlr\u001b[0m=\u001b[35m[0.009469559867533632]\u001b[0m \u001b[36mmode\u001b[0m=\u001b[35mtrain\u001b[0m \u001b[36mstep\u001b[0m=\u001b[35m500\u001b[0m\n",
      "\u001b[2m2025-09-03T13:27:25.839284Z\u001b[0m [\u001b[32m\u001b[1minfo     \u001b[0m] \u001b[1mLoss: 0.4418945610523224      \u001b[0m \u001b[36mepoch\u001b[0m=\u001b[35m8\u001b[0m \u001b[36mlr\u001b[0m=\u001b[35m[0.009563193762191408]\u001b[0m \u001b[36mmode\u001b[0m=\u001b[35mtrain\u001b[0m \u001b[36mstep\u001b[0m=\u001b[35m600\u001b[0m\n",
      "\u001b[2m2025-09-03T13:27:36.350646Z\u001b[0m [\u001b[32m\u001b[1minfo     \u001b[0m] \u001b[1mLoss: 0.8404688239097595      \u001b[0m \u001b[36mepoch\u001b[0m=\u001b[35m8\u001b[0m \u001b[36mlr\u001b[0m=\u001b[35m[0.009648132908638305]\u001b[0m \u001b[36mmode\u001b[0m=\u001b[35mtrain\u001b[0m \u001b[36mstep\u001b[0m=\u001b[35m700\u001b[0m\n",
      "\u001b[2m2025-09-03T13:27:45.245214Z\u001b[0m [\u001b[32m\u001b[1minfo     \u001b[0m] \u001b[1mLoss: 0.574895441532135       \u001b[0m \u001b[36mepoch\u001b[0m=\u001b[35m1\u001b[0m \u001b[36mlr\u001b[0m=\u001b[35mNone\u001b[0m \u001b[36mmode\u001b[0m=\u001b[35meval\u001b[0m \u001b[36mstep\u001b[0m=\u001b[35m100\u001b[0m\n",
      "\u001b[2m2025-09-03T13:27:46.297036Z\u001b[0m [\u001b[32m\u001b[1minfo     \u001b[0m] \u001b[1mLoss: 0.38112500309944153     \u001b[0m \u001b[36mepoch\u001b[0m=\u001b[35m1\u001b[0m \u001b[36mlr\u001b[0m=\u001b[35mNone\u001b[0m \u001b[36mmode\u001b[0m=\u001b[35meval\u001b[0m \u001b[36mstep\u001b[0m=\u001b[35m200\u001b[0m\n",
      "\u001b[2m2025-09-03T13:27:47.333365Z\u001b[0m [\u001b[32m\u001b[1minfo     \u001b[0m] \u001b[1mLoss: 0.3009873330593109      \u001b[0m \u001b[36mepoch\u001b[0m=\u001b[35m1\u001b[0m \u001b[36mlr\u001b[0m=\u001b[35mNone\u001b[0m \u001b[36mmode\u001b[0m=\u001b[35meval\u001b[0m \u001b[36mstep\u001b[0m=\u001b[35m300\u001b[0m\n",
      "\u001b[2m2025-09-03T13:27:47.476671Z\u001b[0m [\u001b[32m\u001b[1minfo     \u001b[0m] \u001b[1mMetric: {'eval_acc': 0.7846}  \u001b[0m\n",
      "\u001b[2m2025-09-03T13:27:47.477002Z\u001b[0m [\u001b[32m\u001b[1minfo     \u001b[0m] \u001b[1mEvaluation complete           \u001b[0m \u001b[36mstep\u001b[0m=\u001b[35m8\u001b[0m\n",
      "\u001b[2m2025-09-03T13:27:47.477171Z\u001b[0m [\u001b[32m\u001b[1minfo     \u001b[0m] \u001b[1mMetric: {'train_acc': 0.7622} \u001b[0m\n",
      "\u001b[2m2025-09-03T13:27:47.564540Z\u001b[0m [\u001b[32m\u001b[1minfo     \u001b[0m] \u001b[1msaved checkpoint              \u001b[0m \u001b[36mepoch\u001b[0m=\u001b[35m8\u001b[0m \u001b[36mpath\u001b[0m=\u001b[35mruns/train_img_clf_cifar10/run_20250903_184735/artifacts/checkpoints/ckpt_best.pt\u001b[0m\n",
      "\u001b[2m2025-09-03T13:27:47.565019Z\u001b[0m [\u001b[32m\u001b[1minfo     \u001b[0m] \u001b[1mFound better value: 0.7846 over previous: 0.772. Saved checkpoint.\u001b[0m\n",
      "\u001b[2m2025-09-03T13:27:57.180353Z\u001b[0m [\u001b[32m\u001b[1minfo     \u001b[0m] \u001b[1mLoss: 0.5831849575042725      \u001b[0m \u001b[36mepoch\u001b[0m=\u001b[35m9\u001b[0m \u001b[36mlr\u001b[0m=\u001b[35m[0.009779868430720234]\u001b[0m \u001b[36mmode\u001b[0m=\u001b[35mtrain\u001b[0m \u001b[36mstep\u001b[0m=\u001b[35m100\u001b[0m\n",
      "\u001b[2m2025-09-03T13:28:09.345274Z\u001b[0m [\u001b[32m\u001b[1minfo     \u001b[0m] \u001b[1mLoss: 0.5313788652420044      \u001b[0m \u001b[36mepoch\u001b[0m=\u001b[35m9\u001b[0m \u001b[36mlr\u001b[0m=\u001b[35m[0.009839434628037954]\u001b[0m \u001b[36mmode\u001b[0m=\u001b[35mtrain\u001b[0m \u001b[36mstep\u001b[0m=\u001b[35m200\u001b[0m\n",
      "\u001b[2m2025-09-03T13:28:18.768870Z\u001b[0m [\u001b[32m\u001b[1minfo     \u001b[0m] \u001b[1mLoss: 0.6410107612609863      \u001b[0m \u001b[36mepoch\u001b[0m=\u001b[35m9\u001b[0m \u001b[36mlr\u001b[0m=\u001b[35m[0.009889755598549297]\u001b[0m \u001b[36mmode\u001b[0m=\u001b[35mtrain\u001b[0m \u001b[36mstep\u001b[0m=\u001b[35m300\u001b[0m\n",
      "\u001b[2m2025-09-03T13:28:28.223759Z\u001b[0m [\u001b[32m\u001b[1minfo     \u001b[0m] \u001b[1mLoss: 0.7484418153762817      \u001b[0m \u001b[36mepoch\u001b[0m=\u001b[35m9\u001b[0m \u001b[36mlr\u001b[0m=\u001b[35m[0.009930731065211305]\u001b[0m \u001b[36mmode\u001b[0m=\u001b[35mtrain\u001b[0m \u001b[36mstep\u001b[0m=\u001b[35m400\u001b[0m\n",
      "\u001b[2m2025-09-03T13:28:37.664253Z\u001b[0m [\u001b[32m\u001b[1minfo     \u001b[0m] \u001b[1mLoss: 0.6450711488723755      \u001b[0m \u001b[36mepoch\u001b[0m=\u001b[35m9\u001b[0m \u001b[36mlr\u001b[0m=\u001b[35m[0.009962279374220626]\u001b[0m \u001b[36mmode\u001b[0m=\u001b[35mtrain\u001b[0m \u001b[36mstep\u001b[0m=\u001b[35m500\u001b[0m\n",
      "\u001b[2m2025-09-03T13:28:47.124896Z\u001b[0m [\u001b[32m\u001b[1minfo     \u001b[0m] \u001b[1mLoss: 0.4384397864341736      \u001b[0m \u001b[36mepoch\u001b[0m=\u001b[35m9\u001b[0m \u001b[36mlr\u001b[0m=\u001b[35m[0.009984337657729011]\u001b[0m \u001b[36mmode\u001b[0m=\u001b[35mtrain\u001b[0m \u001b[36mstep\u001b[0m=\u001b[35m600\u001b[0m\n",
      "\u001b[2m2025-09-03T13:28:56.593982Z\u001b[0m [\u001b[32m\u001b[1minfo     \u001b[0m] \u001b[1mLoss: 0.6340008974075317      \u001b[0m \u001b[36mepoch\u001b[0m=\u001b[35m9\u001b[0m \u001b[36mlr\u001b[0m=\u001b[35m[0.009996861959123138]\u001b[0m \u001b[36mmode\u001b[0m=\u001b[35mtrain\u001b[0m \u001b[36mstep\u001b[0m=\u001b[35m700\u001b[0m\n",
      "\u001b[2m2025-09-03T13:29:05.314654Z\u001b[0m [\u001b[32m\u001b[1minfo     \u001b[0m] \u001b[1mLoss: 0.5611385107040405      \u001b[0m \u001b[36mepoch\u001b[0m=\u001b[35m1\u001b[0m \u001b[36mlr\u001b[0m=\u001b[35mNone\u001b[0m \u001b[36mmode\u001b[0m=\u001b[35meval\u001b[0m \u001b[36mstep\u001b[0m=\u001b[35m100\u001b[0m\n",
      "\u001b[2m2025-09-03T13:29:06.353329Z\u001b[0m [\u001b[32m\u001b[1minfo     \u001b[0m] \u001b[1mLoss: 0.42677897214889526     \u001b[0m \u001b[36mepoch\u001b[0m=\u001b[35m1\u001b[0m \u001b[36mlr\u001b[0m=\u001b[35mNone\u001b[0m \u001b[36mmode\u001b[0m=\u001b[35meval\u001b[0m \u001b[36mstep\u001b[0m=\u001b[35m200\u001b[0m\n",
      "\u001b[2m2025-09-03T13:29:07.415881Z\u001b[0m [\u001b[32m\u001b[1minfo     \u001b[0m] \u001b[1mLoss: 0.4099087715148926      \u001b[0m \u001b[36mepoch\u001b[0m=\u001b[35m1\u001b[0m \u001b[36mlr\u001b[0m=\u001b[35mNone\u001b[0m \u001b[36mmode\u001b[0m=\u001b[35meval\u001b[0m \u001b[36mstep\u001b[0m=\u001b[35m300\u001b[0m\n",
      "\u001b[2m2025-09-03T13:29:07.558183Z\u001b[0m [\u001b[32m\u001b[1minfo     \u001b[0m] \u001b[1mMetric: {'eval_acc': 0.786}   \u001b[0m\n",
      "\u001b[2m2025-09-03T13:29:07.558518Z\u001b[0m [\u001b[32m\u001b[1minfo     \u001b[0m] \u001b[1mEvaluation complete           \u001b[0m \u001b[36mstep\u001b[0m=\u001b[35m9\u001b[0m\n",
      "\u001b[2m2025-09-03T13:29:07.558693Z\u001b[0m [\u001b[32m\u001b[1minfo     \u001b[0m] \u001b[1mMetric: {'train_acc': 0.77766}\u001b[0m\n",
      "\u001b[2m2025-09-03T13:29:07.647322Z\u001b[0m [\u001b[32m\u001b[1minfo     \u001b[0m] \u001b[1msaved checkpoint              \u001b[0m \u001b[36mepoch\u001b[0m=\u001b[35m9\u001b[0m \u001b[36mpath\u001b[0m=\u001b[35mruns/train_img_clf_cifar10/run_20250903_184735/artifacts/checkpoints/ckpt_best.pt\u001b[0m\n",
      "\u001b[2m2025-09-03T13:29:07.647788Z\u001b[0m [\u001b[32m\u001b[1minfo     \u001b[0m] \u001b[1mFound better value: 0.786 over previous: 0.7846. Saved checkpoint.\u001b[0m\n",
      "\u001b[2m2025-09-03T13:29:17.108757Z\u001b[0m [\u001b[32m\u001b[1minfo     \u001b[0m] \u001b[1mLoss: 0.41502487659454346     \u001b[0m \u001b[36mepoch\u001b[0m=\u001b[35m10\u001b[0m \u001b[36mlr\u001b[0m=\u001b[35m[0.009999066713126446]\u001b[0m \u001b[36mmode\u001b[0m=\u001b[35mtrain\u001b[0m \u001b[36mstep\u001b[0m=\u001b[35m100\u001b[0m\n",
      "\u001b[2m2025-09-03T13:29:26.575932Z\u001b[0m [\u001b[32m\u001b[1minfo     \u001b[0m] \u001b[1mLoss: 0.5919753313064575      \u001b[0m \u001b[36mepoch\u001b[0m=\u001b[35m10\u001b[0m \u001b[36mlr\u001b[0m=\u001b[35m[0.009996304063299865]\u001b[0m \u001b[36mmode\u001b[0m=\u001b[35mtrain\u001b[0m \u001b[36mstep\u001b[0m=\u001b[35m200\u001b[0m\n",
      "\u001b[2m2025-09-03T13:29:36.008257Z\u001b[0m [\u001b[32m\u001b[1minfo     \u001b[0m] \u001b[1mLoss: 0.6767735481262207      \u001b[0m \u001b[36mepoch\u001b[0m=\u001b[35m10\u001b[0m \u001b[36mlr\u001b[0m=\u001b[35m[0.009991712970048831]\u001b[0m \u001b[36mmode\u001b[0m=\u001b[35mtrain\u001b[0m \u001b[36mstep\u001b[0m=\u001b[35m300\u001b[0m\n",
      "\u001b[2m2025-09-03T13:29:45.494019Z\u001b[0m [\u001b[32m\u001b[1minfo     \u001b[0m] \u001b[1mLoss: 0.5241569876670837      \u001b[0m \u001b[36mepoch\u001b[0m=\u001b[35m10\u001b[0m \u001b[36mlr\u001b[0m=\u001b[35m[0.009985295113532872]\u001b[0m \u001b[36mmode\u001b[0m=\u001b[35mtrain\u001b[0m \u001b[36mstep\u001b[0m=\u001b[35m400\u001b[0m\n",
      "\u001b[2m2025-09-03T13:29:54.949180Z\u001b[0m [\u001b[32m\u001b[1minfo     \u001b[0m] \u001b[1mLoss: 0.4782537817955017      \u001b[0m \u001b[36mepoch\u001b[0m=\u001b[35m10\u001b[0m \u001b[36mlr\u001b[0m=\u001b[35m[0.009977052842435004]\u001b[0m \u001b[36mmode\u001b[0m=\u001b[35mtrain\u001b[0m \u001b[36mstep\u001b[0m=\u001b[35m500\u001b[0m\n",
      "\u001b[2m2025-09-03T13:30:04.403802Z\u001b[0m [\u001b[32m\u001b[1minfo     \u001b[0m] \u001b[1mLoss: 0.43715009093284607     \u001b[0m \u001b[36mepoch\u001b[0m=\u001b[35m10\u001b[0m \u001b[36mlr\u001b[0m=\u001b[35m[0.009966989173102219]\u001b[0m \u001b[36mmode\u001b[0m=\u001b[35mtrain\u001b[0m \u001b[36mstep\u001b[0m=\u001b[35m600\u001b[0m\n",
      "\u001b[2m2025-09-03T13:30:13.892741Z\u001b[0m [\u001b[32m\u001b[1minfo     \u001b[0m] \u001b[1mLoss: 0.8956669569015503      \u001b[0m \u001b[36mepoch\u001b[0m=\u001b[35m10\u001b[0m \u001b[36mlr\u001b[0m=\u001b[35m[0.00995510778844161]\u001b[0m \u001b[36mmode\u001b[0m=\u001b[35mtrain\u001b[0m \u001b[36mstep\u001b[0m=\u001b[35m700\u001b[0m\n",
      "\u001b[2m2025-09-03T13:30:22.638875Z\u001b[0m [\u001b[32m\u001b[1minfo     \u001b[0m] \u001b[1mLoss: 0.4010467231273651      \u001b[0m \u001b[36mepoch\u001b[0m=\u001b[35m1\u001b[0m \u001b[36mlr\u001b[0m=\u001b[35mNone\u001b[0m \u001b[36mmode\u001b[0m=\u001b[35meval\u001b[0m \u001b[36mstep\u001b[0m=\u001b[35m100\u001b[0m\n",
      "\u001b[2m2025-09-03T13:30:23.708204Z\u001b[0m [\u001b[32m\u001b[1minfo     \u001b[0m] \u001b[1mLoss: 0.49943628907203674     \u001b[0m \u001b[36mepoch\u001b[0m=\u001b[35m1\u001b[0m \u001b[36mlr\u001b[0m=\u001b[35mNone\u001b[0m \u001b[36mmode\u001b[0m=\u001b[35meval\u001b[0m \u001b[36mstep\u001b[0m=\u001b[35m200\u001b[0m\n",
      "\u001b[2m2025-09-03T13:30:24.783435Z\u001b[0m [\u001b[32m\u001b[1minfo     \u001b[0m] \u001b[1mLoss: 0.26391926407814026     \u001b[0m \u001b[36mepoch\u001b[0m=\u001b[35m1\u001b[0m \u001b[36mlr\u001b[0m=\u001b[35mNone\u001b[0m \u001b[36mmode\u001b[0m=\u001b[35meval\u001b[0m \u001b[36mstep\u001b[0m=\u001b[35m300\u001b[0m\n",
      "\u001b[2m2025-09-03T13:30:24.923590Z\u001b[0m [\u001b[32m\u001b[1minfo     \u001b[0m] \u001b[1mMetric: {'eval_acc': 0.8303}  \u001b[0m\n",
      "\u001b[2m2025-09-03T13:30:24.923905Z\u001b[0m [\u001b[32m\u001b[1minfo     \u001b[0m] \u001b[1mEvaluation complete           \u001b[0m \u001b[36mstep\u001b[0m=\u001b[35m10\u001b[0m\n",
      "\u001b[2m2025-09-03T13:30:24.924081Z\u001b[0m [\u001b[32m\u001b[1minfo     \u001b[0m] \u001b[1mMetric: {'train_acc': 0.79166}\u001b[0m\n",
      "\u001b[2m2025-09-03T13:30:25.012032Z\u001b[0m [\u001b[32m\u001b[1minfo     \u001b[0m] \u001b[1msaved checkpoint              \u001b[0m \u001b[36mepoch\u001b[0m=\u001b[35m10\u001b[0m \u001b[36mpath\u001b[0m=\u001b[35mruns/train_img_clf_cifar10/run_20250903_184735/artifacts/checkpoints/ckpt_best.pt\u001b[0m\n",
      "\u001b[2m2025-09-03T13:30:25.012473Z\u001b[0m [\u001b[32m\u001b[1minfo     \u001b[0m] \u001b[1mFound better value: 0.8303 over previous: 0.786. Saved checkpoint.\u001b[0m\n",
      "\u001b[2m2025-09-03T13:30:34.614254Z\u001b[0m [\u001b[32m\u001b[1minfo     \u001b[0m] \u001b[1mLoss: 0.5662992596626282      \u001b[0m \u001b[36mepoch\u001b[0m=\u001b[35m11\u001b[0m \u001b[36mlr\u001b[0m=\u001b[35m[0.0099288336999005]\u001b[0m \u001b[36mmode\u001b[0m=\u001b[35mtrain\u001b[0m \u001b[36mstep\u001b[0m=\u001b[35m100\u001b[0m\n",
      "\u001b[2m2025-09-03T13:30:44.276509Z\u001b[0m [\u001b[32m\u001b[1minfo     \u001b[0m] \u001b[1mLoss: 0.3898243308067322      \u001b[0m \u001b[36mepoch\u001b[0m=\u001b[35m11\u001b[0m \u001b[36mlr\u001b[0m=\u001b[35m[0.00991185194510015]\u001b[0m \u001b[36mmode\u001b[0m=\u001b[35mtrain\u001b[0m \u001b[36mstep\u001b[0m=\u001b[35m200\u001b[0m\n",
      "\u001b[2m2025-09-03T13:30:53.819916Z\u001b[0m [\u001b[32m\u001b[1minfo     \u001b[0m] \u001b[1mLoss: 0.5938392877578735      \u001b[0m \u001b[36mepoch\u001b[0m=\u001b[35m11\u001b[0m \u001b[36mlr\u001b[0m=\u001b[35m[0.009893072653028448]\u001b[0m \u001b[36mmode\u001b[0m=\u001b[35mtrain\u001b[0m \u001b[36mstep\u001b[0m=\u001b[35m300\u001b[0m\n",
      "\u001b[2m2025-09-03T13:31:03.356605Z\u001b[0m [\u001b[32m\u001b[1minfo     \u001b[0m] \u001b[1mLoss: 0.7073746919631958      \u001b[0m \u001b[36mepoch\u001b[0m=\u001b[35m11\u001b[0m \u001b[36mlr\u001b[0m=\u001b[35m[0.009872502696167558]\u001b[0m \u001b[36mmode\u001b[0m=\u001b[35mtrain\u001b[0m \u001b[36mstep\u001b[0m=\u001b[35m400\u001b[0m\n",
      "\u001b[2m2025-09-03T13:31:12.942347Z\u001b[0m [\u001b[32m\u001b[1minfo     \u001b[0m] \u001b[1mLoss: 0.4578077793121338      \u001b[0m \u001b[36mepoch\u001b[0m=\u001b[35m11\u001b[0m \u001b[36mlr\u001b[0m=\u001b[35m[0.009850149602312515]\u001b[0m \u001b[36mmode\u001b[0m=\u001b[35mtrain\u001b[0m \u001b[36mstep\u001b[0m=\u001b[35m500\u001b[0m\n",
      "\u001b[2m2025-09-03T13:31:22.476071Z\u001b[0m [\u001b[32m\u001b[1minfo     \u001b[0m] \u001b[1mLoss: 0.6202799081802368      \u001b[0m \u001b[36mepoch\u001b[0m=\u001b[35m11\u001b[0m \u001b[36mlr\u001b[0m=\u001b[35m[0.009826021551816345]\u001b[0m \u001b[36mmode\u001b[0m=\u001b[35mtrain\u001b[0m \u001b[36mstep\u001b[0m=\u001b[35m600\u001b[0m\n",
      "\u001b[2m2025-09-03T13:31:32.048372Z\u001b[0m [\u001b[32m\u001b[1minfo     \u001b[0m] \u001b[1mLoss: 0.6201496124267578      \u001b[0m \u001b[36mepoch\u001b[0m=\u001b[35m11\u001b[0m \u001b[36mlr\u001b[0m=\u001b[35m[0.009800127374596389]\u001b[0m \u001b[36mmode\u001b[0m=\u001b[35mtrain\u001b[0m \u001b[36mstep\u001b[0m=\u001b[35m700\u001b[0m\n",
      "\u001b[2m2025-09-03T13:31:40.975115Z\u001b[0m [\u001b[32m\u001b[1minfo     \u001b[0m] \u001b[1mLoss: 0.39664381742477417     \u001b[0m \u001b[36mepoch\u001b[0m=\u001b[35m1\u001b[0m \u001b[36mlr\u001b[0m=\u001b[35mNone\u001b[0m \u001b[36mmode\u001b[0m=\u001b[35meval\u001b[0m \u001b[36mstep\u001b[0m=\u001b[35m100\u001b[0m\n",
      "\u001b[2m2025-09-03T13:31:42.055782Z\u001b[0m [\u001b[32m\u001b[1minfo     \u001b[0m] \u001b[1mLoss: 0.279441773891449       \u001b[0m \u001b[36mepoch\u001b[0m=\u001b[35m1\u001b[0m \u001b[36mlr\u001b[0m=\u001b[35mNone\u001b[0m \u001b[36mmode\u001b[0m=\u001b[35meval\u001b[0m \u001b[36mstep\u001b[0m=\u001b[35m200\u001b[0m\n",
      "\u001b[2m2025-09-03T13:31:43.138002Z\u001b[0m [\u001b[32m\u001b[1minfo     \u001b[0m] \u001b[1mLoss: 0.3996039032936096      \u001b[0m \u001b[36mepoch\u001b[0m=\u001b[35m1\u001b[0m \u001b[36mlr\u001b[0m=\u001b[35mNone\u001b[0m \u001b[36mmode\u001b[0m=\u001b[35meval\u001b[0m \u001b[36mstep\u001b[0m=\u001b[35m300\u001b[0m\n",
      "\u001b[2m2025-09-03T13:31:43.283997Z\u001b[0m [\u001b[32m\u001b[1minfo     \u001b[0m] \u001b[1mMetric: {'eval_acc': 0.8342}  \u001b[0m\n",
      "\u001b[2m2025-09-03T13:31:43.284346Z\u001b[0m [\u001b[32m\u001b[1minfo     \u001b[0m] \u001b[1mEvaluation complete           \u001b[0m \u001b[36mstep\u001b[0m=\u001b[35m11\u001b[0m\n",
      "\u001b[2m2025-09-03T13:31:43.284508Z\u001b[0m [\u001b[32m\u001b[1minfo     \u001b[0m] \u001b[1mMetric: {'train_acc': 0.809}  \u001b[0m\n",
      "\u001b[2m2025-09-03T13:31:43.372698Z\u001b[0m [\u001b[32m\u001b[1minfo     \u001b[0m] \u001b[1msaved checkpoint              \u001b[0m \u001b[36mepoch\u001b[0m=\u001b[35m11\u001b[0m \u001b[36mpath\u001b[0m=\u001b[35mruns/train_img_clf_cifar10/run_20250903_184735/artifacts/checkpoints/ckpt_best.pt\u001b[0m\n",
      "\u001b[2m2025-09-03T13:31:43.373181Z\u001b[0m [\u001b[32m\u001b[1minfo     \u001b[0m] \u001b[1mFound better value: 0.8342 over previous: 0.8303. Saved checkpoint.\u001b[0m\n",
      "\u001b[2m2025-09-03T13:31:53.066690Z\u001b[0m [\u001b[32m\u001b[1minfo     \u001b[0m] \u001b[1mLoss: 0.5417075753211975      \u001b[0m \u001b[36mepoch\u001b[0m=\u001b[35m12\u001b[0m \u001b[36mlr\u001b[0m=\u001b[35m[0.009748499133238244]\u001b[0m \u001b[36mmode\u001b[0m=\u001b[35mtrain\u001b[0m \u001b[36mstep\u001b[0m=\u001b[35m100\u001b[0m\n",
      "\u001b[2m2025-09-03T13:32:02.958870Z\u001b[0m [\u001b[32m\u001b[1minfo     \u001b[0m] \u001b[1mLoss: 0.5319812893867493      \u001b[0m \u001b[36mepoch\u001b[0m=\u001b[35m12\u001b[0m \u001b[36mlr\u001b[0m=\u001b[35m[0.009717677617804859]\u001b[0m \u001b[36mmode\u001b[0m=\u001b[35mtrain\u001b[0m \u001b[36mstep\u001b[0m=\u001b[35m200\u001b[0m\n",
      "\u001b[2m2025-09-03T13:32:12.760809Z\u001b[0m [\u001b[32m\u001b[1minfo     \u001b[0m] \u001b[1mLoss: 0.42994457483291626     \u001b[0m \u001b[36mepoch\u001b[0m=\u001b[35m12\u001b[0m \u001b[36mlr\u001b[0m=\u001b[35m[0.009685129625265524]\u001b[0m \u001b[36mmode\u001b[0m=\u001b[35mtrain\u001b[0m \u001b[36mstep\u001b[0m=\u001b[35m300\u001b[0m\n",
      "\u001b[2m2025-09-03T13:32:22.699388Z\u001b[0m [\u001b[32m\u001b[1minfo     \u001b[0m] \u001b[1mLoss: 0.49574169516563416     \u001b[0m \u001b[36mepoch\u001b[0m=\u001b[35m12\u001b[0m \u001b[36mlr\u001b[0m=\u001b[35m[0.009650867066905147]\u001b[0m \u001b[36mmode\u001b[0m=\u001b[35mtrain\u001b[0m \u001b[36mstep\u001b[0m=\u001b[35m400\u001b[0m\n",
      "\u001b[2m2025-09-03T13:32:32.453797Z\u001b[0m [\u001b[32m\u001b[1minfo     \u001b[0m] \u001b[1mLoss: 0.642785906791687       \u001b[0m \u001b[36mepoch\u001b[0m=\u001b[35m12\u001b[0m \u001b[36mlr\u001b[0m=\u001b[35m[0.00961490248147227]\u001b[0m \u001b[36mmode\u001b[0m=\u001b[35mtrain\u001b[0m \u001b[36mstep\u001b[0m=\u001b[35m500\u001b[0m\n",
      "\u001b[2m2025-09-03T13:32:42.125079Z\u001b[0m [\u001b[32m\u001b[1minfo     \u001b[0m] \u001b[1mLoss: 0.45052507519721985     \u001b[0m \u001b[36mepoch\u001b[0m=\u001b[35m12\u001b[0m \u001b[36mlr\u001b[0m=\u001b[35m[0.0095772490305904]\u001b[0m \u001b[36mmode\u001b[0m=\u001b[35mtrain\u001b[0m \u001b[36mstep\u001b[0m=\u001b[35m600\u001b[0m\n",
      "\u001b[2m2025-09-03T13:32:51.712582Z\u001b[0m [\u001b[32m\u001b[1minfo     \u001b[0m] \u001b[1mLoss: 0.567538857460022       \u001b[0m \u001b[36mepoch\u001b[0m=\u001b[35m12\u001b[0m \u001b[36mlr\u001b[0m=\u001b[35m[0.009537920493941353]\u001b[0m \u001b[36mmode\u001b[0m=\u001b[35mtrain\u001b[0m \u001b[36mstep\u001b[0m=\u001b[35m700\u001b[0m\n",
      "\u001b[2m2025-09-03T13:33:00.512436Z\u001b[0m [\u001b[32m\u001b[1minfo     \u001b[0m] \u001b[1mLoss: 0.3797321915626526      \u001b[0m \u001b[36mepoch\u001b[0m=\u001b[35m1\u001b[0m \u001b[36mlr\u001b[0m=\u001b[35mNone\u001b[0m \u001b[36mmode\u001b[0m=\u001b[35meval\u001b[0m \u001b[36mstep\u001b[0m=\u001b[35m100\u001b[0m\n",
      "\u001b[2m2025-09-03T13:33:01.615932Z\u001b[0m [\u001b[32m\u001b[1minfo     \u001b[0m] \u001b[1mLoss: 0.4017828404903412      \u001b[0m \u001b[36mepoch\u001b[0m=\u001b[35m1\u001b[0m \u001b[36mlr\u001b[0m=\u001b[35mNone\u001b[0m \u001b[36mmode\u001b[0m=\u001b[35meval\u001b[0m \u001b[36mstep\u001b[0m=\u001b[35m200\u001b[0m\n",
      "\u001b[2m2025-09-03T13:33:02.723479Z\u001b[0m [\u001b[32m\u001b[1minfo     \u001b[0m] \u001b[1mLoss: 0.33560699224472046     \u001b[0m \u001b[36mepoch\u001b[0m=\u001b[35m1\u001b[0m \u001b[36mlr\u001b[0m=\u001b[35mNone\u001b[0m \u001b[36mmode\u001b[0m=\u001b[35meval\u001b[0m \u001b[36mstep\u001b[0m=\u001b[35m300\u001b[0m\n",
      "\u001b[2m2025-09-03T13:33:02.868160Z\u001b[0m [\u001b[32m\u001b[1minfo     \u001b[0m] \u001b[1mMetric: {'eval_acc': 0.8516}  \u001b[0m\n",
      "\u001b[2m2025-09-03T13:33:02.868484Z\u001b[0m [\u001b[32m\u001b[1minfo     \u001b[0m] \u001b[1mEvaluation complete           \u001b[0m \u001b[36mstep\u001b[0m=\u001b[35m12\u001b[0m\n",
      "\u001b[2m2025-09-03T13:33:02.868659Z\u001b[0m [\u001b[32m\u001b[1minfo     \u001b[0m] \u001b[1mMetric: {'train_acc': 0.81918}\u001b[0m\n",
      "\u001b[2m2025-09-03T13:33:02.963397Z\u001b[0m [\u001b[32m\u001b[1minfo     \u001b[0m] \u001b[1msaved checkpoint              \u001b[0m \u001b[36mepoch\u001b[0m=\u001b[35m12\u001b[0m \u001b[36mpath\u001b[0m=\u001b[35mruns/train_img_clf_cifar10/run_20250903_184735/artifacts/checkpoints/ckpt_best.pt\u001b[0m\n",
      "\u001b[2m2025-09-03T13:33:02.963854Z\u001b[0m [\u001b[32m\u001b[1minfo     \u001b[0m] \u001b[1mFound better value: 0.8516 over previous: 0.8342. Saved checkpoint.\u001b[0m\n",
      "\u001b[2m2025-09-03T13:33:12.530661Z\u001b[0m [\u001b[32m\u001b[1minfo     \u001b[0m] \u001b[1mLoss: 0.5203274488449097      \u001b[0m \u001b[36mepoch\u001b[0m=\u001b[35m13\u001b[0m \u001b[36mlr\u001b[0m=\u001b[35m[0.009462091389365011]\u001b[0m \u001b[36mmode\u001b[0m=\u001b[35mtrain\u001b[0m \u001b[36mstep\u001b[0m=\u001b[35m100\u001b[0m\n",
      "\u001b[2m2025-09-03T13:33:22.019699Z\u001b[0m [\u001b[32m\u001b[1minfo     \u001b[0m] \u001b[1mLoss: 0.5829648971557617      \u001b[0m \u001b[36mepoch\u001b[0m=\u001b[35m13\u001b[0m \u001b[36mlr\u001b[0m=\u001b[35m[0.009418118615022349]\u001b[0m \u001b[36mmode\u001b[0m=\u001b[35mtrain\u001b[0m \u001b[36mstep\u001b[0m=\u001b[35m200\u001b[0m\n",
      "\u001b[2m2025-09-03T13:33:31.545707Z\u001b[0m [\u001b[32m\u001b[1minfo     \u001b[0m] \u001b[1mLoss: 0.523423969745636       \u001b[0m \u001b[36mepoch\u001b[0m=\u001b[35m13\u001b[0m \u001b[36mlr\u001b[0m=\u001b[35m[0.009372528990384774]\u001b[0m \u001b[36mmode\u001b[0m=\u001b[35mtrain\u001b[0m \u001b[36mstep\u001b[0m=\u001b[35m300\u001b[0m\n",
      "\u001b[2m2025-09-03T13:33:41.305581Z\u001b[0m [\u001b[32m\u001b[1minfo     \u001b[0m] \u001b[1mLoss: 0.584234893321991       \u001b[0m \u001b[36mepoch\u001b[0m=\u001b[35m13\u001b[0m \u001b[36mlr\u001b[0m=\u001b[35m[0.009325339199461505]\u001b[0m \u001b[36mmode\u001b[0m=\u001b[35mtrain\u001b[0m \u001b[36mstep\u001b[0m=\u001b[35m400\u001b[0m\n",
      "\u001b[2m2025-09-03T13:33:50.945454Z\u001b[0m [\u001b[32m\u001b[1minfo     \u001b[0m] \u001b[1mLoss: 0.4358255863189697      \u001b[0m \u001b[36mepoch\u001b[0m=\u001b[35m13\u001b[0m \u001b[36mlr\u001b[0m=\u001b[35m[0.00927656651185968]\u001b[0m \u001b[36mmode\u001b[0m=\u001b[35mtrain\u001b[0m \u001b[36mstep\u001b[0m=\u001b[35m500\u001b[0m\n",
      "\u001b[2m2025-09-03T13:34:00.632221Z\u001b[0m [\u001b[32m\u001b[1minfo     \u001b[0m] \u001b[1mLoss: 0.41952404379844666     \u001b[0m \u001b[36mepoch\u001b[0m=\u001b[35m13\u001b[0m \u001b[36mlr\u001b[0m=\u001b[35m[0.009226228776464352]\u001b[0m \u001b[36mmode\u001b[0m=\u001b[35mtrain\u001b[0m \u001b[36mstep\u001b[0m=\u001b[35m600\u001b[0m\n",
      "\u001b[2m2025-09-03T13:34:10.281699Z\u001b[0m [\u001b[32m\u001b[1minfo     \u001b[0m] \u001b[1mLoss: 0.5962483882904053      \u001b[0m \u001b[36mepoch\u001b[0m=\u001b[35m13\u001b[0m \u001b[36mlr\u001b[0m=\u001b[35m[0.009174344414906502]\u001b[0m \u001b[36mmode\u001b[0m=\u001b[35mtrain\u001b[0m \u001b[36mstep\u001b[0m=\u001b[35m700\u001b[0m\n",
      "\u001b[2m2025-09-03T13:34:19.233211Z\u001b[0m [\u001b[32m\u001b[1minfo     \u001b[0m] \u001b[1mLoss: 0.389328271150589       \u001b[0m \u001b[36mepoch\u001b[0m=\u001b[35m1\u001b[0m \u001b[36mlr\u001b[0m=\u001b[35mNone\u001b[0m \u001b[36mmode\u001b[0m=\u001b[35meval\u001b[0m \u001b[36mstep\u001b[0m=\u001b[35m100\u001b[0m\n",
      "\u001b[2m2025-09-03T13:34:20.327227Z\u001b[0m [\u001b[32m\u001b[1minfo     \u001b[0m] \u001b[1mLoss: 0.18506038188934326     \u001b[0m \u001b[36mepoch\u001b[0m=\u001b[35m1\u001b[0m \u001b[36mlr\u001b[0m=\u001b[35mNone\u001b[0m \u001b[36mmode\u001b[0m=\u001b[35meval\u001b[0m \u001b[36mstep\u001b[0m=\u001b[35m200\u001b[0m\n",
      "\u001b[2m2025-09-03T13:34:21.399865Z\u001b[0m [\u001b[32m\u001b[1minfo     \u001b[0m] \u001b[1mLoss: 0.4666678309440613      \u001b[0m \u001b[36mepoch\u001b[0m=\u001b[35m1\u001b[0m \u001b[36mlr\u001b[0m=\u001b[35mNone\u001b[0m \u001b[36mmode\u001b[0m=\u001b[35meval\u001b[0m \u001b[36mstep\u001b[0m=\u001b[35m300\u001b[0m\n",
      "\u001b[2m2025-09-03T13:34:21.545629Z\u001b[0m [\u001b[32m\u001b[1minfo     \u001b[0m] \u001b[1mMetric: {'eval_acc': 0.8531}  \u001b[0m\n",
      "\u001b[2m2025-09-03T13:34:21.546040Z\u001b[0m [\u001b[32m\u001b[1minfo     \u001b[0m] \u001b[1mEvaluation complete           \u001b[0m \u001b[36mstep\u001b[0m=\u001b[35m13\u001b[0m\n",
      "\u001b[2m2025-09-03T13:34:21.546167Z\u001b[0m [\u001b[32m\u001b[1minfo     \u001b[0m] \u001b[1mMetric: {'train_acc': 0.82696}\u001b[0m\n",
      "\u001b[2m2025-09-03T13:34:21.640570Z\u001b[0m [\u001b[32m\u001b[1minfo     \u001b[0m] \u001b[1msaved checkpoint              \u001b[0m \u001b[36mepoch\u001b[0m=\u001b[35m13\u001b[0m \u001b[36mpath\u001b[0m=\u001b[35mruns/train_img_clf_cifar10/run_20250903_184735/artifacts/checkpoints/ckpt_best.pt\u001b[0m\n",
      "\u001b[2m2025-09-03T13:34:21.641070Z\u001b[0m [\u001b[32m\u001b[1minfo     \u001b[0m] \u001b[1mFound better value: 0.8531 over previous: 0.8516. Saved checkpoint.\u001b[0m\n",
      "\u001b[2m2025-09-03T13:34:31.292370Z\u001b[0m [\u001b[32m\u001b[1minfo     \u001b[0m] \u001b[1mLoss: 0.30161067843437195     \u001b[0m \u001b[36mepoch\u001b[0m=\u001b[35m14\u001b[0m \u001b[36mlr\u001b[0m=\u001b[35m[0.009076008344004379]\u001b[0m \u001b[36mmode\u001b[0m=\u001b[35mtrain\u001b[0m \u001b[36mstep\u001b[0m=\u001b[35m100\u001b[0m\n",
      "\u001b[2m2025-09-03T13:34:40.930462Z\u001b[0m [\u001b[32m\u001b[1minfo     \u001b[0m] \u001b[1mLoss: 0.6675501465797424      \u001b[0m \u001b[36mepoch\u001b[0m=\u001b[35m14\u001b[0m \u001b[36mlr\u001b[0m=\u001b[35m[0.009019866589868435]\u001b[0m \u001b[36mmode\u001b[0m=\u001b[35mtrain\u001b[0m \u001b[36mstep\u001b[0m=\u001b[35m200\u001b[0m\n",
      "\u001b[2m2025-09-03T13:34:50.567300Z\u001b[0m [\u001b[32m\u001b[1minfo     \u001b[0m] \u001b[1mLoss: 0.3641248345375061      \u001b[0m \u001b[36mepoch\u001b[0m=\u001b[35m14\u001b[0m \u001b[36mlr\u001b[0m=\u001b[35m[0.008962253730012432]\u001b[0m \u001b[36mmode\u001b[0m=\u001b[35mtrain\u001b[0m \u001b[36mstep\u001b[0m=\u001b[35m300\u001b[0m\n",
      "\u001b[2m2025-09-03T13:35:00.115052Z\u001b[0m [\u001b[32m\u001b[1minfo     \u001b[0m] \u001b[1mLoss: 0.44505342841148376     \u001b[0m \u001b[36mepoch\u001b[0m=\u001b[35m14\u001b[0m \u001b[36mlr\u001b[0m=\u001b[35m[0.008903190848476716]\u001b[0m \u001b[36mmode\u001b[0m=\u001b[35mtrain\u001b[0m \u001b[36mstep\u001b[0m=\u001b[35m400\u001b[0m\n",
      "\u001b[2m2025-09-03T13:35:09.787124Z\u001b[0m [\u001b[32m\u001b[1minfo     \u001b[0m] \u001b[1mLoss: 0.4516180753707886      \u001b[0m \u001b[36mepoch\u001b[0m=\u001b[35m14\u001b[0m \u001b[36mlr\u001b[0m=\u001b[35m[0.008842699559952528]\u001b[0m \u001b[36mmode\u001b[0m=\u001b[35mtrain\u001b[0m \u001b[36mstep\u001b[0m=\u001b[35m500\u001b[0m\n",
      "\u001b[2m2025-09-03T13:35:19.306089Z\u001b[0m [\u001b[32m\u001b[1minfo     \u001b[0m] \u001b[1mLoss: 0.42606836557388306     \u001b[0m \u001b[36mepoch\u001b[0m=\u001b[35m14\u001b[0m \u001b[36mlr\u001b[0m=\u001b[35m[0.008780802001871871]\u001b[0m \u001b[36mmode\u001b[0m=\u001b[35mtrain\u001b[0m \u001b[36mstep\u001b[0m=\u001b[35m600\u001b[0m\n",
      "\u001b[2m2025-09-03T13:35:28.789990Z\u001b[0m [\u001b[32m\u001b[1minfo     \u001b[0m] \u001b[1mLoss: 0.4878298044204712      \u001b[0m \u001b[36mepoch\u001b[0m=\u001b[35m14\u001b[0m \u001b[36mlr\u001b[0m=\u001b[35m[0.008717520826306094]\u001b[0m \u001b[36mmode\u001b[0m=\u001b[35mtrain\u001b[0m \u001b[36mstep\u001b[0m=\u001b[35m700\u001b[0m\n",
      "\u001b[2m2025-09-03T13:35:37.564088Z\u001b[0m [\u001b[32m\u001b[1minfo     \u001b[0m] \u001b[1mLoss: 0.33238527178764343     \u001b[0m \u001b[36mepoch\u001b[0m=\u001b[35m1\u001b[0m \u001b[36mlr\u001b[0m=\u001b[35mNone\u001b[0m \u001b[36mmode\u001b[0m=\u001b[35meval\u001b[0m \u001b[36mstep\u001b[0m=\u001b[35m100\u001b[0m\n",
      "\u001b[2m2025-09-03T13:35:38.642750Z\u001b[0m [\u001b[32m\u001b[1minfo     \u001b[0m] \u001b[1mLoss: 0.28803855180740356     \u001b[0m \u001b[36mepoch\u001b[0m=\u001b[35m1\u001b[0m \u001b[36mlr\u001b[0m=\u001b[35mNone\u001b[0m \u001b[36mmode\u001b[0m=\u001b[35meval\u001b[0m \u001b[36mstep\u001b[0m=\u001b[35m200\u001b[0m\n",
      "\u001b[2m2025-09-03T13:35:39.705883Z\u001b[0m [\u001b[32m\u001b[1minfo     \u001b[0m] \u001b[1mLoss: 0.21168869733810425     \u001b[0m \u001b[36mepoch\u001b[0m=\u001b[35m1\u001b[0m \u001b[36mlr\u001b[0m=\u001b[35mNone\u001b[0m \u001b[36mmode\u001b[0m=\u001b[35meval\u001b[0m \u001b[36mstep\u001b[0m=\u001b[35m300\u001b[0m\n",
      "\u001b[2m2025-09-03T13:35:39.847473Z\u001b[0m [\u001b[32m\u001b[1minfo     \u001b[0m] \u001b[1mMetric: {'eval_acc': 0.8603}  \u001b[0m\n",
      "\u001b[2m2025-09-03T13:35:39.847785Z\u001b[0m [\u001b[32m\u001b[1minfo     \u001b[0m] \u001b[1mEvaluation complete           \u001b[0m \u001b[36mstep\u001b[0m=\u001b[35m14\u001b[0m\n",
      "\u001b[2m2025-09-03T13:35:39.847966Z\u001b[0m [\u001b[32m\u001b[1minfo     \u001b[0m] \u001b[1mMetric: {'train_acc': 0.83786}\u001b[0m\n",
      "\u001b[2m2025-09-03T13:35:39.934558Z\u001b[0m [\u001b[32m\u001b[1minfo     \u001b[0m] \u001b[1msaved checkpoint              \u001b[0m \u001b[36mepoch\u001b[0m=\u001b[35m14\u001b[0m \u001b[36mpath\u001b[0m=\u001b[35mruns/train_img_clf_cifar10/run_20250903_184735/artifacts/checkpoints/ckpt_best.pt\u001b[0m\n",
      "\u001b[2m2025-09-03T13:35:39.935015Z\u001b[0m [\u001b[32m\u001b[1minfo     \u001b[0m] \u001b[1mFound better value: 0.8603 over previous: 0.8531. Saved checkpoint.\u001b[0m\n",
      "\u001b[2m2025-09-03T13:35:49.449123Z\u001b[0m [\u001b[32m\u001b[1minfo     \u001b[0m] \u001b[1mLoss: 0.357577383518219       \u001b[0m \u001b[36mepoch\u001b[0m=\u001b[35m15\u001b[0m \u001b[36mlr\u001b[0m=\u001b[35m[0.008598874454406673]\u001b[0m \u001b[36mmode\u001b[0m=\u001b[35mtrain\u001b[0m \u001b[36mstep\u001b[0m=\u001b[35m100\u001b[0m\n",
      "\u001b[2m2025-09-03T13:35:58.948488Z\u001b[0m [\u001b[32m\u001b[1minfo     \u001b[0m] \u001b[1mLoss: 0.38361257314682007     \u001b[0m \u001b[36mepoch\u001b[0m=\u001b[35m15\u001b[0m \u001b[36mlr\u001b[0m=\u001b[35m[0.008531817834493388]\u001b[0m \u001b[36mmode\u001b[0m=\u001b[35mtrain\u001b[0m \u001b[36mstep\u001b[0m=\u001b[35m200\u001b[0m\n",
      "\u001b[2m2025-09-03T13:36:08.479883Z\u001b[0m [\u001b[32m\u001b[1minfo     \u001b[0m] \u001b[1mLoss: 0.5277766585350037      \u001b[0m \u001b[36mepoch\u001b[0m=\u001b[35m15\u001b[0m \u001b[36mlr\u001b[0m=\u001b[35m[0.008463468715505757]\u001b[0m \u001b[36mmode\u001b[0m=\u001b[35mtrain\u001b[0m \u001b[36mstep\u001b[0m=\u001b[35m300\u001b[0m\n",
      "\u001b[2m2025-09-03T13:36:18.037451Z\u001b[0m [\u001b[32m\u001b[1minfo     \u001b[0m] \u001b[1mLoss: 0.5373756885528564      \u001b[0m \u001b[36mepoch\u001b[0m=\u001b[35m15\u001b[0m \u001b[36mlr\u001b[0m=\u001b[35m[0.00839385211053263]\u001b[0m \u001b[36mmode\u001b[0m=\u001b[35mtrain\u001b[0m \u001b[36mstep\u001b[0m=\u001b[35m400\u001b[0m\n",
      "\u001b[2m2025-09-03T13:36:27.544896Z\u001b[0m [\u001b[32m\u001b[1minfo     \u001b[0m] \u001b[1mLoss: 0.5068904757499695      \u001b[0m \u001b[36mepoch\u001b[0m=\u001b[35m15\u001b[0m \u001b[36mlr\u001b[0m=\u001b[35m[0.008322993496512863]\u001b[0m \u001b[36mmode\u001b[0m=\u001b[35mtrain\u001b[0m \u001b[36mstep\u001b[0m=\u001b[35m500\u001b[0m\n",
      "\u001b[2m2025-09-03T13:36:37.052248Z\u001b[0m [\u001b[32m\u001b[1minfo     \u001b[0m] \u001b[1mLoss: 0.3176344037055969      \u001b[0m \u001b[36mepoch\u001b[0m=\u001b[35m15\u001b[0m \u001b[36mlr\u001b[0m=\u001b[35m[0.008250918804911763]\u001b[0m \u001b[36mmode\u001b[0m=\u001b[35mtrain\u001b[0m \u001b[36mstep\u001b[0m=\u001b[35m600\u001b[0m\n",
      "\u001b[2m2025-09-03T13:36:46.549661Z\u001b[0m [\u001b[32m\u001b[1minfo     \u001b[0m] \u001b[1mLoss: 0.42560532689094543     \u001b[0m \u001b[36mepoch\u001b[0m=\u001b[35m15\u001b[0m \u001b[36mlr\u001b[0m=\u001b[35m[0.008177654412231204]\u001b[0m \u001b[36mmode\u001b[0m=\u001b[35mtrain\u001b[0m \u001b[36mstep\u001b[0m=\u001b[35m700\u001b[0m\n",
      "\u001b[2m2025-09-03T13:36:55.302711Z\u001b[0m [\u001b[32m\u001b[1minfo     \u001b[0m] \u001b[1mLoss: 0.3863131105899811      \u001b[0m \u001b[36mepoch\u001b[0m=\u001b[35m1\u001b[0m \u001b[36mlr\u001b[0m=\u001b[35mNone\u001b[0m \u001b[36mmode\u001b[0m=\u001b[35meval\u001b[0m \u001b[36mstep\u001b[0m=\u001b[35m100\u001b[0m\n",
      "\u001b[2m2025-09-03T13:36:56.362579Z\u001b[0m [\u001b[32m\u001b[1minfo     \u001b[0m] \u001b[1mLoss: 0.21305879950523376     \u001b[0m \u001b[36mepoch\u001b[0m=\u001b[35m1\u001b[0m \u001b[36mlr\u001b[0m=\u001b[35mNone\u001b[0m \u001b[36mmode\u001b[0m=\u001b[35meval\u001b[0m \u001b[36mstep\u001b[0m=\u001b[35m200\u001b[0m\n",
      "\u001b[2m2025-09-03T13:36:57.442961Z\u001b[0m [\u001b[32m\u001b[1minfo     \u001b[0m] \u001b[1mLoss: 0.26287874579429626     \u001b[0m \u001b[36mepoch\u001b[0m=\u001b[35m1\u001b[0m \u001b[36mlr\u001b[0m=\u001b[35mNone\u001b[0m \u001b[36mmode\u001b[0m=\u001b[35meval\u001b[0m \u001b[36mstep\u001b[0m=\u001b[35m300\u001b[0m\n",
      "\u001b[2m2025-09-03T13:36:57.583636Z\u001b[0m [\u001b[32m\u001b[1minfo     \u001b[0m] \u001b[1mMetric: {'eval_acc': 0.8824}  \u001b[0m\n",
      "\u001b[2m2025-09-03T13:36:57.583950Z\u001b[0m [\u001b[32m\u001b[1minfo     \u001b[0m] \u001b[1mEvaluation complete           \u001b[0m \u001b[36mstep\u001b[0m=\u001b[35m15\u001b[0m\n",
      "\u001b[2m2025-09-03T13:36:57.584107Z\u001b[0m [\u001b[32m\u001b[1minfo     \u001b[0m] \u001b[1mMetric: {'train_acc': 0.8503} \u001b[0m\n",
      "\u001b[2m2025-09-03T13:36:57.680462Z\u001b[0m [\u001b[32m\u001b[1minfo     \u001b[0m] \u001b[1msaved checkpoint              \u001b[0m \u001b[36mepoch\u001b[0m=\u001b[35m15\u001b[0m \u001b[36mpath\u001b[0m=\u001b[35mruns/train_img_clf_cifar10/run_20250903_184735/artifacts/checkpoints/ckpt_best.pt\u001b[0m\n",
      "\u001b[2m2025-09-03T13:36:57.680905Z\u001b[0m [\u001b[32m\u001b[1minfo     \u001b[0m] \u001b[1mFound better value: 0.8824 over previous: 0.8603. Saved checkpoint.\u001b[0m\n",
      "\u001b[2m2025-09-03T13:37:07.107413Z\u001b[0m [\u001b[32m\u001b[1minfo     \u001b[0m] \u001b[1mLoss: 0.5746345520019531      \u001b[0m \u001b[36mepoch\u001b[0m=\u001b[35m16\u001b[0m \u001b[36mlr\u001b[0m=\u001b[35m[0.008041348103225493]\u001b[0m \u001b[36mmode\u001b[0m=\u001b[35mtrain\u001b[0m \u001b[36mstep\u001b[0m=\u001b[35m100\u001b[0m\n",
      "\u001b[2m2025-09-03T13:37:16.528554Z\u001b[0m [\u001b[32m\u001b[1minfo     \u001b[0m] \u001b[1mLoss: 0.5161601305007935      \u001b[0m \u001b[36mepoch\u001b[0m=\u001b[35m16\u001b[0m \u001b[36mlr\u001b[0m=\u001b[35m[0.007964874551616]\u001b[0m \u001b[36mmode\u001b[0m=\u001b[35mtrain\u001b[0m \u001b[36mstep\u001b[0m=\u001b[35m200\u001b[0m\n",
      "\u001b[2m2025-09-03T13:37:26.085279Z\u001b[0m [\u001b[32m\u001b[1minfo     \u001b[0m] \u001b[1mLoss: 0.21996860206127167     \u001b[0m \u001b[36mepoch\u001b[0m=\u001b[35m16\u001b[0m \u001b[36mlr\u001b[0m=\u001b[35m[0.007887315979871407]\u001b[0m \u001b[36mmode\u001b[0m=\u001b[35mtrain\u001b[0m \u001b[36mstep\u001b[0m=\u001b[35m300\u001b[0m\n",
      "\u001b[2m2025-09-03T13:37:35.733048Z\u001b[0m [\u001b[32m\u001b[1minfo     \u001b[0m] \u001b[1mLoss: 0.30018186569213867     \u001b[0m \u001b[36mepoch\u001b[0m=\u001b[35m16\u001b[0m \u001b[36mlr\u001b[0m=\u001b[35m[0.007808700771377988]\u001b[0m \u001b[36mmode\u001b[0m=\u001b[35mtrain\u001b[0m \u001b[36mstep\u001b[0m=\u001b[35m400\u001b[0m\n",
      "\u001b[2m2025-09-03T13:37:45.440185Z\u001b[0m [\u001b[32m\u001b[1minfo     \u001b[0m] \u001b[1mLoss: 0.4265698492527008      \u001b[0m \u001b[36mepoch\u001b[0m=\u001b[35m16\u001b[0m \u001b[36mlr\u001b[0m=\u001b[35m[0.007729057696209508]\u001b[0m \u001b[36mmode\u001b[0m=\u001b[35mtrain\u001b[0m \u001b[36mstep\u001b[0m=\u001b[35m500\u001b[0m\n",
      "\u001b[2m2025-09-03T13:37:55.135500Z\u001b[0m [\u001b[32m\u001b[1minfo     \u001b[0m] \u001b[1mLoss: 0.488722562789917       \u001b[0m \u001b[36mepoch\u001b[0m=\u001b[35m16\u001b[0m \u001b[36mlr\u001b[0m=\u001b[35m[0.007648415900598492]\u001b[0m \u001b[36mmode\u001b[0m=\u001b[35mtrain\u001b[0m \u001b[36mstep\u001b[0m=\u001b[35m600\u001b[0m\n",
      "\u001b[2m2025-09-03T13:38:04.924082Z\u001b[0m [\u001b[32m\u001b[1minfo     \u001b[0m] \u001b[1mLoss: 0.39702308177948        \u001b[0m \u001b[36mepoch\u001b[0m=\u001b[35m16\u001b[0m \u001b[36mlr\u001b[0m=\u001b[35m[0.00756680489626987]\u001b[0m \u001b[36mmode\u001b[0m=\u001b[35mtrain\u001b[0m \u001b[36mstep\u001b[0m=\u001b[35m700\u001b[0m\n",
      "\u001b[2m2025-09-03T13:38:13.909485Z\u001b[0m [\u001b[32m\u001b[1minfo     \u001b[0m] \u001b[1mLoss: 0.24424706399440765     \u001b[0m \u001b[36mepoch\u001b[0m=\u001b[35m1\u001b[0m \u001b[36mlr\u001b[0m=\u001b[35mNone\u001b[0m \u001b[36mmode\u001b[0m=\u001b[35meval\u001b[0m \u001b[36mstep\u001b[0m=\u001b[35m100\u001b[0m\n",
      "\u001b[2m2025-09-03T13:38:14.999465Z\u001b[0m [\u001b[32m\u001b[1minfo     \u001b[0m] \u001b[1mLoss: 0.12058466672897339     \u001b[0m \u001b[36mepoch\u001b[0m=\u001b[35m1\u001b[0m \u001b[36mlr\u001b[0m=\u001b[35mNone\u001b[0m \u001b[36mmode\u001b[0m=\u001b[35meval\u001b[0m \u001b[36mstep\u001b[0m=\u001b[35m200\u001b[0m\n",
      "\u001b[2m2025-09-03T13:38:16.084502Z\u001b[0m [\u001b[32m\u001b[1minfo     \u001b[0m] \u001b[1mLoss: 0.28804871439933777     \u001b[0m \u001b[36mepoch\u001b[0m=\u001b[35m1\u001b[0m \u001b[36mlr\u001b[0m=\u001b[35mNone\u001b[0m \u001b[36mmode\u001b[0m=\u001b[35meval\u001b[0m \u001b[36mstep\u001b[0m=\u001b[35m300\u001b[0m\n",
      "\u001b[2m2025-09-03T13:38:16.229283Z\u001b[0m [\u001b[32m\u001b[1minfo     \u001b[0m] \u001b[1mMetric: {'eval_acc': 0.882}   \u001b[0m\n",
      "\u001b[2m2025-09-03T13:38:16.229600Z\u001b[0m [\u001b[32m\u001b[1minfo     \u001b[0m] \u001b[1mEvaluation complete           \u001b[0m \u001b[36mstep\u001b[0m=\u001b[35m16\u001b[0m\n",
      "\u001b[2m2025-09-03T13:38:16.229757Z\u001b[0m [\u001b[32m\u001b[1minfo     \u001b[0m] \u001b[1mMetric: {'train_acc': 0.86004}\u001b[0m\n",
      "\u001b[2m2025-09-03T13:38:25.983802Z\u001b[0m [\u001b[32m\u001b[1minfo     \u001b[0m] \u001b[1mLoss: 0.34521621465682983     \u001b[0m \u001b[36mepoch\u001b[0m=\u001b[35m17\u001b[0m \u001b[36mlr\u001b[0m=\u001b[35m[0.0074158835078616606]\u001b[0m \u001b[36mmode\u001b[0m=\u001b[35mtrain\u001b[0m \u001b[36mstep\u001b[0m=\u001b[35m100\u001b[0m\n",
      "\u001b[2m2025-09-03T13:38:35.636694Z\u001b[0m [\u001b[32m\u001b[1minfo     \u001b[0m] \u001b[1mLoss: 0.3127724528312683      \u001b[0m \u001b[36mepoch\u001b[0m=\u001b[35m17\u001b[0m \u001b[36mlr\u001b[0m=\u001b[35m[0.0073317013173301755]\u001b[0m \u001b[36mmode\u001b[0m=\u001b[35mtrain\u001b[0m \u001b[36mstep\u001b[0m=\u001b[35m200\u001b[0m\n",
      "\u001b[2m2025-09-03T13:38:45.203839Z\u001b[0m [\u001b[32m\u001b[1minfo     \u001b[0m] \u001b[1mLoss: 0.190420001745224       \u001b[0m \u001b[36mepoch\u001b[0m=\u001b[35m17\u001b[0m \u001b[36mlr\u001b[0m=\u001b[35m[0.007246665823159712]\u001b[0m \u001b[36mmode\u001b[0m=\u001b[35mtrain\u001b[0m \u001b[36mstep\u001b[0m=\u001b[35m300\u001b[0m\n",
      "\u001b[2m2025-09-03T13:38:54.749211Z\u001b[0m [\u001b[32m\u001b[1minfo     \u001b[0m] \u001b[1mLoss: 0.5051454901695251      \u001b[0m \u001b[36mepoch\u001b[0m=\u001b[35m17\u001b[0m \u001b[36mlr\u001b[0m=\u001b[35m[0.007160808144996025]\u001b[0m \u001b[36mmode\u001b[0m=\u001b[35mtrain\u001b[0m \u001b[36mstep\u001b[0m=\u001b[35m400\u001b[0m\n",
      "\u001b[2m2025-09-03T13:39:04.296526Z\u001b[0m [\u001b[32m\u001b[1minfo     \u001b[0m] \u001b[1mLoss: 0.4348239302635193      \u001b[0m \u001b[36mepoch\u001b[0m=\u001b[35m17\u001b[0m \u001b[36mlr\u001b[0m=\u001b[35m[0.0070741597033718755]\u001b[0m \u001b[36mmode\u001b[0m=\u001b[35mtrain\u001b[0m \u001b[36mstep\u001b[0m=\u001b[35m500\u001b[0m\n",
      "\u001b[2m2025-09-03T13:39:13.860358Z\u001b[0m [\u001b[32m\u001b[1minfo     \u001b[0m] \u001b[1mLoss: 0.21381987631320953     \u001b[0m \u001b[36mepoch\u001b[0m=\u001b[35m17\u001b[0m \u001b[36mlr\u001b[0m=\u001b[35m[0.006986752208208338]\u001b[0m \u001b[36mmode\u001b[0m=\u001b[35mtrain\u001b[0m \u001b[36mstep\u001b[0m=\u001b[35m600\u001b[0m\n",
      "\u001b[2m2025-09-03T13:39:23.419700Z\u001b[0m [\u001b[32m\u001b[1minfo     \u001b[0m] \u001b[1mLoss: 0.4732777774333954      \u001b[0m \u001b[36mepoch\u001b[0m=\u001b[35m17\u001b[0m \u001b[36mlr\u001b[0m=\u001b[35m[0.006898617647210228]\u001b[0m \u001b[36mmode\u001b[0m=\u001b[35mtrain\u001b[0m \u001b[36mstep\u001b[0m=\u001b[35m700\u001b[0m\n",
      "\u001b[2m2025-09-03T13:39:32.223451Z\u001b[0m [\u001b[32m\u001b[1minfo     \u001b[0m] \u001b[1mLoss: 0.4017428457736969      \u001b[0m \u001b[36mepoch\u001b[0m=\u001b[35m1\u001b[0m \u001b[36mlr\u001b[0m=\u001b[35mNone\u001b[0m \u001b[36mmode\u001b[0m=\u001b[35meval\u001b[0m \u001b[36mstep\u001b[0m=\u001b[35m100\u001b[0m\n",
      "\u001b[2m2025-09-03T13:39:33.291334Z\u001b[0m [\u001b[32m\u001b[1minfo     \u001b[0m] \u001b[1mLoss: 0.09852723777294159     \u001b[0m \u001b[36mepoch\u001b[0m=\u001b[35m1\u001b[0m \u001b[36mlr\u001b[0m=\u001b[35mNone\u001b[0m \u001b[36mmode\u001b[0m=\u001b[35meval\u001b[0m \u001b[36mstep\u001b[0m=\u001b[35m200\u001b[0m\n",
      "\u001b[2m2025-09-03T13:39:34.380711Z\u001b[0m [\u001b[32m\u001b[1minfo     \u001b[0m] \u001b[1mLoss: 0.13126516342163086     \u001b[0m \u001b[36mepoch\u001b[0m=\u001b[35m1\u001b[0m \u001b[36mlr\u001b[0m=\u001b[35mNone\u001b[0m \u001b[36mmode\u001b[0m=\u001b[35meval\u001b[0m \u001b[36mstep\u001b[0m=\u001b[35m300\u001b[0m\n",
      "\u001b[2m2025-09-03T13:39:34.523199Z\u001b[0m [\u001b[32m\u001b[1minfo     \u001b[0m] \u001b[1mMetric: {'eval_acc': 0.8902}  \u001b[0m\n",
      "\u001b[2m2025-09-03T13:39:34.523523Z\u001b[0m [\u001b[32m\u001b[1minfo     \u001b[0m] \u001b[1mEvaluation complete           \u001b[0m \u001b[36mstep\u001b[0m=\u001b[35m17\u001b[0m\n",
      "\u001b[2m2025-09-03T13:39:34.523745Z\u001b[0m [\u001b[32m\u001b[1minfo     \u001b[0m] \u001b[1mMetric: {'train_acc': 0.86994}\u001b[0m\n",
      "\u001b[2m2025-09-03T13:39:34.613362Z\u001b[0m [\u001b[32m\u001b[1minfo     \u001b[0m] \u001b[1msaved checkpoint              \u001b[0m \u001b[36mepoch\u001b[0m=\u001b[35m17\u001b[0m \u001b[36mpath\u001b[0m=\u001b[35mruns/train_img_clf_cifar10/run_20250903_184735/artifacts/checkpoints/ckpt_best.pt\u001b[0m\n",
      "\u001b[2m2025-09-03T13:39:34.613860Z\u001b[0m [\u001b[32m\u001b[1minfo     \u001b[0m] \u001b[1mFound better value: 0.8902 over previous: 0.8824. Saved checkpoint.\u001b[0m\n",
      "\u001b[2m2025-09-03T13:39:44.178146Z\u001b[0m [\u001b[32m\u001b[1minfo     \u001b[0m] \u001b[1mLoss: 0.3872641324996948      \u001b[0m \u001b[36mepoch\u001b[0m=\u001b[35m18\u001b[0m \u001b[36mlr\u001b[0m=\u001b[35m[0.006736452513826473]\u001b[0m \u001b[36mmode\u001b[0m=\u001b[35mtrain\u001b[0m \u001b[36mstep\u001b[0m=\u001b[35m100\u001b[0m\n",
      "\u001b[2m2025-09-03T13:39:53.742068Z\u001b[0m [\u001b[32m\u001b[1minfo     \u001b[0m] \u001b[1mLoss: 0.2657199203968048      \u001b[0m \u001b[36mepoch\u001b[0m=\u001b[35m18\u001b[0m \u001b[36mlr\u001b[0m=\u001b[35m[0.006646442175402587]\u001b[0m \u001b[36mmode\u001b[0m=\u001b[35mtrain\u001b[0m \u001b[36mstep\u001b[0m=\u001b[35m200\u001b[0m\n",
      "\u001b[2m2025-09-03T13:40:03.326901Z\u001b[0m [\u001b[32m\u001b[1minfo     \u001b[0m] \u001b[1mLoss: 0.28601306676864624     \u001b[0m \u001b[36mepoch\u001b[0m=\u001b[35m18\u001b[0m \u001b[36mlr\u001b[0m=\u001b[35m[0.006555829311229097]\u001b[0m \u001b[36mmode\u001b[0m=\u001b[35mtrain\u001b[0m \u001b[36mstep\u001b[0m=\u001b[35m300\u001b[0m\n",
      "\u001b[2m2025-09-03T13:40:12.907320Z\u001b[0m [\u001b[32m\u001b[1minfo     \u001b[0m] \u001b[1mLoss: 0.2618556320667267      \u001b[0m \u001b[36mepoch\u001b[0m=\u001b[35m18\u001b[0m \u001b[36mlr\u001b[0m=\u001b[35m[0.006464647082049777]\u001b[0m \u001b[36mmode\u001b[0m=\u001b[35mtrain\u001b[0m \u001b[36mstep\u001b[0m=\u001b[35m400\u001b[0m\n",
      "\u001b[2m2025-09-03T13:40:22.503278Z\u001b[0m [\u001b[32m\u001b[1minfo     \u001b[0m] \u001b[1mLoss: 0.37649473547935486     \u001b[0m \u001b[36mepoch\u001b[0m=\u001b[35m18\u001b[0m \u001b[36mlr\u001b[0m=\u001b[35m[0.006372928856973601]\u001b[0m \u001b[36mmode\u001b[0m=\u001b[35mtrain\u001b[0m \u001b[36mstep\u001b[0m=\u001b[35m500\u001b[0m\n",
      "\u001b[2m2025-09-03T13:40:32.097965Z\u001b[0m [\u001b[32m\u001b[1minfo     \u001b[0m] \u001b[1mLoss: 0.3862665593624115      \u001b[0m \u001b[36mepoch\u001b[0m=\u001b[35m18\u001b[0m \u001b[36mlr\u001b[0m=\u001b[35m[0.006280708201262959]\u001b[0m \u001b[36mmode\u001b[0m=\u001b[35mtrain\u001b[0m \u001b[36mstep\u001b[0m=\u001b[35m600\u001b[0m\n",
      "\u001b[2m2025-09-03T13:40:41.785261Z\u001b[0m [\u001b[32m\u001b[1minfo     \u001b[0m] \u001b[1mLoss: 0.2821856737136841      \u001b[0m \u001b[36mepoch\u001b[0m=\u001b[35m18\u001b[0m \u001b[36mlr\u001b[0m=\u001b[35m[0.0061880188640500815]\u001b[0m \u001b[36mmode\u001b[0m=\u001b[35mtrain\u001b[0m \u001b[36mstep\u001b[0m=\u001b[35m700\u001b[0m\n",
      "\u001b[2m2025-09-03T13:40:50.678002Z\u001b[0m [\u001b[32m\u001b[1minfo     \u001b[0m] \u001b[1mLoss: 0.30537059903144836     \u001b[0m \u001b[36mepoch\u001b[0m=\u001b[35m1\u001b[0m \u001b[36mlr\u001b[0m=\u001b[35mNone\u001b[0m \u001b[36mmode\u001b[0m=\u001b[35meval\u001b[0m \u001b[36mstep\u001b[0m=\u001b[35m100\u001b[0m\n",
      "\u001b[2m2025-09-03T13:40:51.788959Z\u001b[0m [\u001b[32m\u001b[1minfo     \u001b[0m] \u001b[1mLoss: 0.17150260508060455     \u001b[0m \u001b[36mepoch\u001b[0m=\u001b[35m1\u001b[0m \u001b[36mlr\u001b[0m=\u001b[35mNone\u001b[0m \u001b[36mmode\u001b[0m=\u001b[35meval\u001b[0m \u001b[36mstep\u001b[0m=\u001b[35m200\u001b[0m\n",
      "\u001b[2m2025-09-03T13:40:52.858425Z\u001b[0m [\u001b[32m\u001b[1minfo     \u001b[0m] \u001b[1mLoss: 0.14015525579452515     \u001b[0m \u001b[36mepoch\u001b[0m=\u001b[35m1\u001b[0m \u001b[36mlr\u001b[0m=\u001b[35mNone\u001b[0m \u001b[36mmode\u001b[0m=\u001b[35meval\u001b[0m \u001b[36mstep\u001b[0m=\u001b[35m300\u001b[0m\n",
      "\u001b[2m2025-09-03T13:40:53.001708Z\u001b[0m [\u001b[32m\u001b[1minfo     \u001b[0m] \u001b[1mMetric: {'eval_acc': 0.9008}  \u001b[0m\n",
      "\u001b[2m2025-09-03T13:40:53.002023Z\u001b[0m [\u001b[32m\u001b[1minfo     \u001b[0m] \u001b[1mEvaluation complete           \u001b[0m \u001b[36mstep\u001b[0m=\u001b[35m18\u001b[0m\n",
      "\u001b[2m2025-09-03T13:40:53.002184Z\u001b[0m [\u001b[32m\u001b[1minfo     \u001b[0m] \u001b[1mMetric: {'train_acc': 0.87808}\u001b[0m\n",
      "\u001b[2m2025-09-03T13:40:53.091191Z\u001b[0m [\u001b[32m\u001b[1minfo     \u001b[0m] \u001b[1msaved checkpoint              \u001b[0m \u001b[36mepoch\u001b[0m=\u001b[35m18\u001b[0m \u001b[36mpath\u001b[0m=\u001b[35mruns/train_img_clf_cifar10/run_20250903_184735/artifacts/checkpoints/ckpt_best.pt\u001b[0m\n",
      "\u001b[2m2025-09-03T13:40:53.091628Z\u001b[0m [\u001b[32m\u001b[1minfo     \u001b[0m] \u001b[1mFound better value: 0.9008 over previous: 0.8902. Saved checkpoint.\u001b[0m\n",
      "\u001b[2m2025-09-03T13:41:02.702004Z\u001b[0m [\u001b[32m\u001b[1minfo     \u001b[0m] \u001b[1mLoss: 0.32097136974334717     \u001b[0m \u001b[36mepoch\u001b[0m=\u001b[35m19\u001b[0m \u001b[36mlr\u001b[0m=\u001b[35m[0.006018232486800757]\u001b[0m \u001b[36mmode\u001b[0m=\u001b[35mtrain\u001b[0m \u001b[36mstep\u001b[0m=\u001b[35m100\u001b[0m\n",
      "\u001b[2m2025-09-03T13:41:12.286108Z\u001b[0m [\u001b[32m\u001b[1minfo     \u001b[0m] \u001b[1mLoss: 0.3355175852775574      \u001b[0m \u001b[36mepoch\u001b[0m=\u001b[35m19\u001b[0m \u001b[36mlr\u001b[0m=\u001b[35m[0.005924404682707253]\u001b[0m \u001b[36mmode\u001b[0m=\u001b[35mtrain\u001b[0m \u001b[36mstep\u001b[0m=\u001b[35m200\u001b[0m\n",
      "\u001b[2m2025-09-03T13:41:21.836392Z\u001b[0m [\u001b[32m\u001b[1minfo     \u001b[0m] \u001b[1mLoss: 0.31858694553375244     \u001b[0m \u001b[36mepoch\u001b[0m=\u001b[35m19\u001b[0m \u001b[36mlr\u001b[0m=\u001b[35m[0.00583023859018312]\u001b[0m \u001b[36mmode\u001b[0m=\u001b[35mtrain\u001b[0m \u001b[36mstep\u001b[0m=\u001b[35m300\u001b[0m\n",
      "\u001b[2m2025-09-03T13:41:31.388751Z\u001b[0m [\u001b[32m\u001b[1minfo     \u001b[0m] \u001b[1mLoss: 0.2982849180698395      \u001b[0m \u001b[36mepoch\u001b[0m=\u001b[35m19\u001b[0m \u001b[36mlr\u001b[0m=\u001b[35m[0.005735768670313936]\u001b[0m \u001b[36mmode\u001b[0m=\u001b[35mtrain\u001b[0m \u001b[36mstep\u001b[0m=\u001b[35m400\u001b[0m\n",
      "\u001b[2m2025-09-03T13:41:40.945057Z\u001b[0m [\u001b[32m\u001b[1minfo     \u001b[0m] \u001b[1mLoss: 0.24279582500457764     \u001b[0m \u001b[36mepoch\u001b[0m=\u001b[35m19\u001b[0m \u001b[36mlr\u001b[0m=\u001b[35m[0.005641029495374131]\u001b[0m \u001b[36mmode\u001b[0m=\u001b[35mtrain\u001b[0m \u001b[36mstep\u001b[0m=\u001b[35m500\u001b[0m\n",
      "\u001b[2m2025-09-03T13:41:50.515423Z\u001b[0m [\u001b[32m\u001b[1minfo     \u001b[0m] \u001b[1mLoss: 0.36379075050354004     \u001b[0m \u001b[36mepoch\u001b[0m=\u001b[35m19\u001b[0m \u001b[36mlr\u001b[0m=\u001b[35m[0.00554605573617491]\u001b[0m \u001b[36mmode\u001b[0m=\u001b[35mtrain\u001b[0m \u001b[36mstep\u001b[0m=\u001b[35m600\u001b[0m\n",
      "\u001b[2m2025-09-03T13:42:00.124356Z\u001b[0m [\u001b[32m\u001b[1minfo     \u001b[0m] \u001b[1mLoss: 0.4116746783256531      \u001b[0m \u001b[36mepoch\u001b[0m=\u001b[35m19\u001b[0m \u001b[36mlr\u001b[0m=\u001b[35m[0.0054508821493760825]\u001b[0m \u001b[36mmode\u001b[0m=\u001b[35mtrain\u001b[0m \u001b[36mstep\u001b[0m=\u001b[35m700\u001b[0m\n",
      "\u001b[2m2025-09-03T13:42:08.977885Z\u001b[0m [\u001b[32m\u001b[1minfo     \u001b[0m] \u001b[1mLoss: 0.06280845403671265     \u001b[0m \u001b[36mepoch\u001b[0m=\u001b[35m1\u001b[0m \u001b[36mlr\u001b[0m=\u001b[35mNone\u001b[0m \u001b[36mmode\u001b[0m=\u001b[35meval\u001b[0m \u001b[36mstep\u001b[0m=\u001b[35m100\u001b[0m\n",
      "\u001b[2m2025-09-03T13:42:10.042968Z\u001b[0m [\u001b[32m\u001b[1minfo     \u001b[0m] \u001b[1mLoss: 0.08841826766729355     \u001b[0m \u001b[36mepoch\u001b[0m=\u001b[35m1\u001b[0m \u001b[36mlr\u001b[0m=\u001b[35mNone\u001b[0m \u001b[36mmode\u001b[0m=\u001b[35meval\u001b[0m \u001b[36mstep\u001b[0m=\u001b[35m200\u001b[0m\n",
      "\u001b[2m2025-09-03T13:42:11.103851Z\u001b[0m [\u001b[32m\u001b[1minfo     \u001b[0m] \u001b[1mLoss: 0.24630692601203918     \u001b[0m \u001b[36mepoch\u001b[0m=\u001b[35m1\u001b[0m \u001b[36mlr\u001b[0m=\u001b[35mNone\u001b[0m \u001b[36mmode\u001b[0m=\u001b[35meval\u001b[0m \u001b[36mstep\u001b[0m=\u001b[35m300\u001b[0m\n",
      "\u001b[2m2025-09-03T13:42:11.245758Z\u001b[0m [\u001b[32m\u001b[1minfo     \u001b[0m] \u001b[1mMetric: {'eval_acc': 0.8946}  \u001b[0m\n",
      "\u001b[2m2025-09-03T13:42:11.246071Z\u001b[0m [\u001b[32m\u001b[1minfo     \u001b[0m] \u001b[1mEvaluation complete           \u001b[0m \u001b[36mstep\u001b[0m=\u001b[35m19\u001b[0m\n",
      "\u001b[2m2025-09-03T13:42:11.246234Z\u001b[0m [\u001b[32m\u001b[1minfo     \u001b[0m] \u001b[1mMetric: {'train_acc': 0.88764}\u001b[0m\n",
      "\u001b[2m2025-09-03T13:42:20.893491Z\u001b[0m [\u001b[32m\u001b[1minfo     \u001b[0m] \u001b[1mLoss: 0.27762705087661743     \u001b[0m \u001b[36mepoch\u001b[0m=\u001b[35m20\u001b[0m \u001b[36mlr\u001b[0m=\u001b[35m[0.005277267275365395]\u001b[0m \u001b[36mmode\u001b[0m=\u001b[35mtrain\u001b[0m \u001b[36mstep\u001b[0m=\u001b[35m100\u001b[0m\n",
      "\u001b[2m2025-09-03T13:42:30.393052Z\u001b[0m [\u001b[32m\u001b[1minfo     \u001b[0m] \u001b[1mLoss: 0.22336488962173462     \u001b[0m \u001b[36mepoch\u001b[0m=\u001b[35m20\u001b[0m \u001b[36mlr\u001b[0m=\u001b[35m[0.005181717963699946]\u001b[0m \u001b[36mmode\u001b[0m=\u001b[35mtrain\u001b[0m \u001b[36mstep\u001b[0m=\u001b[35m200\u001b[0m\n",
      "\u001b[2m2025-09-03T13:42:39.879682Z\u001b[0m [\u001b[32m\u001b[1minfo     \u001b[0m] \u001b[1mLoss: 0.12390634417533875     \u001b[0m \u001b[36mepoch\u001b[0m=\u001b[35m20\u001b[0m \u001b[36mlr\u001b[0m=\u001b[35m[0.005086102157727376]\u001b[0m \u001b[36mmode\u001b[0m=\u001b[35mtrain\u001b[0m \u001b[36mstep\u001b[0m=\u001b[35m300\u001b[0m\n",
      "\u001b[2m2025-09-03T13:42:49.361205Z\u001b[0m [\u001b[32m\u001b[1minfo     \u001b[0m] \u001b[1mLoss: 0.25230321288108826     \u001b[0m \u001b[36mepoch\u001b[0m=\u001b[35m20\u001b[0m \u001b[36mlr\u001b[0m=\u001b[35m[0.0049904548490713576]\u001b[0m \u001b[36mmode\u001b[0m=\u001b[35mtrain\u001b[0m \u001b[36mstep\u001b[0m=\u001b[35m400\u001b[0m\n",
      "\u001b[2m2025-09-03T13:42:58.876331Z\u001b[0m [\u001b[32m\u001b[1minfo     \u001b[0m] \u001b[1mLoss: 0.2804951071739197      \u001b[0m \u001b[36mepoch\u001b[0m=\u001b[35m20\u001b[0m \u001b[36mlr\u001b[0m=\u001b[35m[0.004894811040884309]\u001b[0m \u001b[36mmode\u001b[0m=\u001b[35mtrain\u001b[0m \u001b[36mstep\u001b[0m=\u001b[35m500\u001b[0m\n",
      "\u001b[2m2025-09-03T13:43:08.367039Z\u001b[0m [\u001b[32m\u001b[1minfo     \u001b[0m] \u001b[1mLoss: 0.1479368358850479      \u001b[0m \u001b[36mepoch\u001b[0m=\u001b[35m20\u001b[0m \u001b[36mlr\u001b[0m=\u001b[35m[0.004799205735037609]\u001b[0m \u001b[36mmode\u001b[0m=\u001b[35mtrain\u001b[0m \u001b[36mstep\u001b[0m=\u001b[35m600\u001b[0m\n",
      "\u001b[2m2025-09-03T13:43:17.836551Z\u001b[0m [\u001b[32m\u001b[1minfo     \u001b[0m] \u001b[1mLoss: 0.2623412609100342      \u001b[0m \u001b[36mepoch\u001b[0m=\u001b[35m20\u001b[0m \u001b[36mlr\u001b[0m=\u001b[35m[0.004703673919312298]\u001b[0m \u001b[36mmode\u001b[0m=\u001b[35mtrain\u001b[0m \u001b[36mstep\u001b[0m=\u001b[35m700\u001b[0m\n",
      "\u001b[2m2025-09-03T13:43:26.580802Z\u001b[0m [\u001b[32m\u001b[1minfo     \u001b[0m] \u001b[1mLoss: 0.07877954840660095     \u001b[0m \u001b[36mepoch\u001b[0m=\u001b[35m1\u001b[0m \u001b[36mlr\u001b[0m=\u001b[35mNone\u001b[0m \u001b[36mmode\u001b[0m=\u001b[35meval\u001b[0m \u001b[36mstep\u001b[0m=\u001b[35m100\u001b[0m\n",
      "\u001b[2m2025-09-03T13:43:27.649418Z\u001b[0m [\u001b[32m\u001b[1minfo     \u001b[0m] \u001b[1mLoss: 0.19131769239902496     \u001b[0m \u001b[36mepoch\u001b[0m=\u001b[35m1\u001b[0m \u001b[36mlr\u001b[0m=\u001b[35mNone\u001b[0m \u001b[36mmode\u001b[0m=\u001b[35meval\u001b[0m \u001b[36mstep\u001b[0m=\u001b[35m200\u001b[0m\n",
      "\u001b[2m2025-09-03T13:43:28.699391Z\u001b[0m [\u001b[32m\u001b[1minfo     \u001b[0m] \u001b[1mLoss: 0.2632058560848236      \u001b[0m \u001b[36mepoch\u001b[0m=\u001b[35m1\u001b[0m \u001b[36mlr\u001b[0m=\u001b[35mNone\u001b[0m \u001b[36mmode\u001b[0m=\u001b[35meval\u001b[0m \u001b[36mstep\u001b[0m=\u001b[35m300\u001b[0m\n",
      "\u001b[2m2025-09-03T13:43:28.838906Z\u001b[0m [\u001b[32m\u001b[1minfo     \u001b[0m] \u001b[1mMetric: {'eval_acc': 0.8985}  \u001b[0m\n",
      "\u001b[2m2025-09-03T13:43:28.839227Z\u001b[0m [\u001b[32m\u001b[1minfo     \u001b[0m] \u001b[1mEvaluation complete           \u001b[0m \u001b[36mstep\u001b[0m=\u001b[35m20\u001b[0m\n",
      "\u001b[2m2025-09-03T13:43:28.839412Z\u001b[0m [\u001b[32m\u001b[1minfo     \u001b[0m] \u001b[1mMetric: {'train_acc': 0.89734}\u001b[0m\n",
      "\u001b[2m2025-09-03T13:43:38.363388Z\u001b[0m [\u001b[32m\u001b[1minfo     \u001b[0m] \u001b[1mLoss: 0.2087385058403015      \u001b[0m \u001b[36mepoch\u001b[0m=\u001b[35m21\u001b[0m \u001b[36mlr\u001b[0m=\u001b[35m[0.004530108817935704]\u001b[0m \u001b[36mmode\u001b[0m=\u001b[35mtrain\u001b[0m \u001b[36mstep\u001b[0m=\u001b[35m100\u001b[0m\n",
      "\u001b[2m2025-09-03T13:43:47.841398Z\u001b[0m [\u001b[32m\u001b[1minfo     \u001b[0m] \u001b[1mLoss: 0.3564610183238983      \u001b[0m \u001b[36mepoch\u001b[0m=\u001b[35m21\u001b[0m \u001b[36mlr\u001b[0m=\u001b[35m[0.004434972412430427]\u001b[0m \u001b[36mmode\u001b[0m=\u001b[35mtrain\u001b[0m \u001b[36mstep\u001b[0m=\u001b[35m200\u001b[0m\n",
      "\u001b[2m2025-09-03T13:43:57.391297Z\u001b[0m [\u001b[32m\u001b[1minfo     \u001b[0m] \u001b[1mLoss: 0.2848430871963501      \u001b[0m \u001b[36mepoch\u001b[0m=\u001b[35m21\u001b[0m \u001b[36mlr\u001b[0m=\u001b[35m[0.004340042792114486]\u001b[0m \u001b[36mmode\u001b[0m=\u001b[35mtrain\u001b[0m \u001b[36mstep\u001b[0m=\u001b[35m300\u001b[0m\n",
      "\u001b[2m2025-09-03T13:44:06.876436Z\u001b[0m [\u001b[32m\u001b[1minfo     \u001b[0m] \u001b[1mLoss: 0.25960448384284973     \u001b[0m \u001b[36mepoch\u001b[0m=\u001b[35m21\u001b[0m \u001b[36mlr\u001b[0m=\u001b[35m[0.004245354697494592]\u001b[0m \u001b[36mmode\u001b[0m=\u001b[35mtrain\u001b[0m \u001b[36mstep\u001b[0m=\u001b[35m400\u001b[0m\n",
      "\u001b[2m2025-09-03T13:44:16.337350Z\u001b[0m [\u001b[32m\u001b[1minfo     \u001b[0m] \u001b[1mLoss: 0.27145785093307495     \u001b[0m \u001b[36mepoch\u001b[0m=\u001b[35m21\u001b[0m \u001b[36mlr\u001b[0m=\u001b[35m[0.004150942780688559]\u001b[0m \u001b[36mmode\u001b[0m=\u001b[35mtrain\u001b[0m \u001b[36mstep\u001b[0m=\u001b[35m500\u001b[0m\n",
      "\u001b[2m2025-09-03T13:44:25.842777Z\u001b[0m [\u001b[32m\u001b[1minfo     \u001b[0m] \u001b[1mLoss: 0.27993205189704895     \u001b[0m \u001b[36mepoch\u001b[0m=\u001b[35m21\u001b[0m \u001b[36mlr\u001b[0m=\u001b[35m[0.004056841592743982]\u001b[0m \u001b[36mmode\u001b[0m=\u001b[35mtrain\u001b[0m \u001b[36mstep\u001b[0m=\u001b[35m600\u001b[0m\n",
      "\u001b[2m2025-09-03T13:44:35.338890Z\u001b[0m [\u001b[32m\u001b[1minfo     \u001b[0m] \u001b[1mLoss: 0.29047346115112305     \u001b[0m \u001b[36mepoch\u001b[0m=\u001b[35m21\u001b[0m \u001b[36mlr\u001b[0m=\u001b[35m[0.003963085570993919]\u001b[0m \u001b[36mmode\u001b[0m=\u001b[35mtrain\u001b[0m \u001b[36mstep\u001b[0m=\u001b[35m700\u001b[0m\n",
      "\u001b[2m2025-09-03T13:44:44.087177Z\u001b[0m [\u001b[32m\u001b[1minfo     \u001b[0m] \u001b[1mLoss: 0.42031675577163696     \u001b[0m \u001b[36mepoch\u001b[0m=\u001b[35m1\u001b[0m \u001b[36mlr\u001b[0m=\u001b[35mNone\u001b[0m \u001b[36mmode\u001b[0m=\u001b[35meval\u001b[0m \u001b[36mstep\u001b[0m=\u001b[35m100\u001b[0m\n",
      "\u001b[2m2025-09-03T13:44:45.152224Z\u001b[0m [\u001b[32m\u001b[1minfo     \u001b[0m] \u001b[1mLoss: 0.13149824738502502     \u001b[0m \u001b[36mepoch\u001b[0m=\u001b[35m1\u001b[0m \u001b[36mlr\u001b[0m=\u001b[35mNone\u001b[0m \u001b[36mmode\u001b[0m=\u001b[35meval\u001b[0m \u001b[36mstep\u001b[0m=\u001b[35m200\u001b[0m\n",
      "\u001b[2m2025-09-03T13:44:46.215052Z\u001b[0m [\u001b[32m\u001b[1minfo     \u001b[0m] \u001b[1mLoss: 0.21186520159244537     \u001b[0m \u001b[36mepoch\u001b[0m=\u001b[35m1\u001b[0m \u001b[36mlr\u001b[0m=\u001b[35mNone\u001b[0m \u001b[36mmode\u001b[0m=\u001b[35meval\u001b[0m \u001b[36mstep\u001b[0m=\u001b[35m300\u001b[0m\n",
      "\u001b[2m2025-09-03T13:44:46.357222Z\u001b[0m [\u001b[32m\u001b[1minfo     \u001b[0m] \u001b[1mMetric: {'eval_acc': 0.9095}  \u001b[0m\n",
      "\u001b[2m2025-09-03T13:44:46.357540Z\u001b[0m [\u001b[32m\u001b[1minfo     \u001b[0m] \u001b[1mEvaluation complete           \u001b[0m \u001b[36mstep\u001b[0m=\u001b[35m21\u001b[0m\n",
      "\u001b[2m2025-09-03T13:44:46.357715Z\u001b[0m [\u001b[32m\u001b[1minfo     \u001b[0m] \u001b[1mMetric: {'train_acc': 0.90372}\u001b[0m\n",
      "\u001b[2m2025-09-03T13:44:46.445377Z\u001b[0m [\u001b[32m\u001b[1minfo     \u001b[0m] \u001b[1msaved checkpoint              \u001b[0m \u001b[36mepoch\u001b[0m=\u001b[35m21\u001b[0m \u001b[36mpath\u001b[0m=\u001b[35mruns/train_img_clf_cifar10/run_20250903_184735/artifacts/checkpoints/ckpt_best.pt\u001b[0m\n",
      "\u001b[2m2025-09-03T13:44:46.445877Z\u001b[0m [\u001b[32m\u001b[1minfo     \u001b[0m] \u001b[1mFound better value: 0.9095 over previous: 0.9008. Saved checkpoint.\u001b[0m\n",
      "\u001b[2m2025-09-03T13:44:55.959085Z\u001b[0m [\u001b[32m\u001b[1minfo     \u001b[0m] \u001b[1mLoss: 0.4530145525932312      \u001b[0m \u001b[36mepoch\u001b[0m=\u001b[35m22\u001b[0m \u001b[36mlr\u001b[0m=\u001b[35m[0.0037934473998084773]\u001b[0m \u001b[36mmode\u001b[0m=\u001b[35mtrain\u001b[0m \u001b[36mstep\u001b[0m=\u001b[35m100\u001b[0m\n",
      "\u001b[2m2025-09-03T13:45:05.466631Z\u001b[0m [\u001b[32m\u001b[1minfo     \u001b[0m] \u001b[1mLoss: 0.15316852927207947     \u001b[0m \u001b[36mepoch\u001b[0m=\u001b[35m22\u001b[0m \u001b[36mlr\u001b[0m=\u001b[35m[0.0037008490905541844]\u001b[0m \u001b[36mmode\u001b[0m=\u001b[35mtrain\u001b[0m \u001b[36mstep\u001b[0m=\u001b[35m200\u001b[0m\n",
      "\u001b[2m2025-09-03T13:45:15.034516Z\u001b[0m [\u001b[32m\u001b[1minfo     \u001b[0m] \u001b[1mLoss: 0.1835208237171173      \u001b[0m \u001b[36mepoch\u001b[0m=\u001b[35m22\u001b[0m \u001b[36mlr\u001b[0m=\u001b[35m[0.0036087262267462507]\u001b[0m \u001b[36mmode\u001b[0m=\u001b[35mtrain\u001b[0m \u001b[36mstep\u001b[0m=\u001b[35m300\u001b[0m\n",
      "\u001b[2m2025-09-03T13:45:24.526545Z\u001b[0m [\u001b[32m\u001b[1minfo     \u001b[0m] \u001b[1mLoss: 0.22372856736183167     \u001b[0m \u001b[36mepoch\u001b[0m=\u001b[35m22\u001b[0m \u001b[36mlr\u001b[0m=\u001b[35m[0.0035171125217289237]\u001b[0m \u001b[36mmode\u001b[0m=\u001b[35mtrain\u001b[0m \u001b[36mstep\u001b[0m=\u001b[35m400\u001b[0m\n",
      "\u001b[2m2025-09-03T13:45:34.006985Z\u001b[0m [\u001b[32m\u001b[1minfo     \u001b[0m] \u001b[1mLoss: 0.2815221846103668      \u001b[0m \u001b[36mepoch\u001b[0m=\u001b[35m22\u001b[0m \u001b[36mlr\u001b[0m=\u001b[35m[0.0034260415025143577]\u001b[0m \u001b[36mmode\u001b[0m=\u001b[35mtrain\u001b[0m \u001b[36mstep\u001b[0m=\u001b[35m500\u001b[0m\n",
      "\u001b[2m2025-09-03T13:45:43.497725Z\u001b[0m [\u001b[32m\u001b[1minfo     \u001b[0m] \u001b[1mLoss: 0.1925046741962433      \u001b[0m \u001b[36mepoch\u001b[0m=\u001b[35m22\u001b[0m \u001b[36mlr\u001b[0m=\u001b[35m[0.003335546497513054]\u001b[0m \u001b[36mmode\u001b[0m=\u001b[35mtrain\u001b[0m \u001b[36mstep\u001b[0m=\u001b[35m600\u001b[0m\n",
      "\u001b[2m2025-09-03T13:45:53.021656Z\u001b[0m [\u001b[32m\u001b[1minfo     \u001b[0m] \u001b[1mLoss: 0.37827742099761963     \u001b[0m \u001b[36mepoch\u001b[0m=\u001b[35m22\u001b[0m \u001b[36mlr\u001b[0m=\u001b[35m[0.0032456606243369737]\u001b[0m \u001b[36mmode\u001b[0m=\u001b[35mtrain\u001b[0m \u001b[36mstep\u001b[0m=\u001b[35m700\u001b[0m\n",
      "\u001b[2m2025-09-03T13:46:01.763617Z\u001b[0m [\u001b[32m\u001b[1minfo     \u001b[0m] \u001b[1mLoss: 0.2634146809577942      \u001b[0m \u001b[36mepoch\u001b[0m=\u001b[35m1\u001b[0m \u001b[36mlr\u001b[0m=\u001b[35mNone\u001b[0m \u001b[36mmode\u001b[0m=\u001b[35meval\u001b[0m \u001b[36mstep\u001b[0m=\u001b[35m100\u001b[0m\n",
      "\u001b[2m2025-09-03T13:46:02.820957Z\u001b[0m [\u001b[32m\u001b[1minfo     \u001b[0m] \u001b[1mLoss: 0.07781495153903961     \u001b[0m \u001b[36mepoch\u001b[0m=\u001b[35m1\u001b[0m \u001b[36mlr\u001b[0m=\u001b[35mNone\u001b[0m \u001b[36mmode\u001b[0m=\u001b[35meval\u001b[0m \u001b[36mstep\u001b[0m=\u001b[35m200\u001b[0m\n",
      "\u001b[2m2025-09-03T13:46:03.870118Z\u001b[0m [\u001b[32m\u001b[1minfo     \u001b[0m] \u001b[1mLoss: 0.2355610430240631      \u001b[0m \u001b[36mepoch\u001b[0m=\u001b[35m1\u001b[0m \u001b[36mlr\u001b[0m=\u001b[35mNone\u001b[0m \u001b[36mmode\u001b[0m=\u001b[35meval\u001b[0m \u001b[36mstep\u001b[0m=\u001b[35m300\u001b[0m\n",
      "\u001b[2m2025-09-03T13:46:04.010137Z\u001b[0m [\u001b[32m\u001b[1minfo     \u001b[0m] \u001b[1mMetric: {'eval_acc': 0.918}   \u001b[0m\n",
      "\u001b[2m2025-09-03T13:46:04.010444Z\u001b[0m [\u001b[32m\u001b[1minfo     \u001b[0m] \u001b[1mEvaluation complete           \u001b[0m \u001b[36mstep\u001b[0m=\u001b[35m22\u001b[0m\n",
      "\u001b[2m2025-09-03T13:46:04.010600Z\u001b[0m [\u001b[32m\u001b[1minfo     \u001b[0m] \u001b[1mMetric: {'train_acc': 0.91246}\u001b[0m\n",
      "\u001b[2m2025-09-03T13:46:04.097792Z\u001b[0m [\u001b[32m\u001b[1minfo     \u001b[0m] \u001b[1msaved checkpoint              \u001b[0m \u001b[36mepoch\u001b[0m=\u001b[35m22\u001b[0m \u001b[36mpath\u001b[0m=\u001b[35mruns/train_img_clf_cifar10/run_20250903_184735/artifacts/checkpoints/ckpt_best.pt\u001b[0m\n",
      "\u001b[2m2025-09-03T13:46:04.098255Z\u001b[0m [\u001b[32m\u001b[1minfo     \u001b[0m] \u001b[1mFound better value: 0.918 over previous: 0.9095. Saved checkpoint.\u001b[0m\n",
      "\u001b[2m2025-09-03T13:46:13.650387Z\u001b[0m [\u001b[32m\u001b[1minfo     \u001b[0m] \u001b[1mLoss: 0.5868808031082153      \u001b[0m \u001b[36mepoch\u001b[0m=\u001b[35m23\u001b[0m \u001b[36mlr\u001b[0m=\u001b[35m[0.0030837388197683235]\u001b[0m \u001b[36mmode\u001b[0m=\u001b[35mtrain\u001b[0m \u001b[36mstep\u001b[0m=\u001b[35m100\u001b[0m\n",
      "\u001b[2m2025-09-03T13:46:23.179089Z\u001b[0m [\u001b[32m\u001b[1minfo     \u001b[0m] \u001b[1mLoss: 0.24116602540016174     \u001b[0m \u001b[36mepoch\u001b[0m=\u001b[35m23\u001b[0m \u001b[36mlr\u001b[0m=\u001b[35m[0.0029957470999796548]\u001b[0m \u001b[36mmode\u001b[0m=\u001b[35mtrain\u001b[0m \u001b[36mstep\u001b[0m=\u001b[35m200\u001b[0m\n",
      "\u001b[2m2025-09-03T13:46:32.660586Z\u001b[0m [\u001b[32m\u001b[1minfo     \u001b[0m] \u001b[1mLoss: 0.28165778517723083     \u001b[0m \u001b[36mepoch\u001b[0m=\u001b[35m23\u001b[0m \u001b[36mlr\u001b[0m=\u001b[35m[0.0029084888652287527]\u001b[0m \u001b[36mmode\u001b[0m=\u001b[35mtrain\u001b[0m \u001b[36mstep\u001b[0m=\u001b[35m300\u001b[0m\n",
      "\u001b[2m2025-09-03T13:46:42.115147Z\u001b[0m [\u001b[32m\u001b[1minfo     \u001b[0m] \u001b[1mLoss: 0.2649613320827484      \u001b[0m \u001b[36mepoch\u001b[0m=\u001b[35m23\u001b[0m \u001b[36mlr\u001b[0m=\u001b[35m[0.002821996048596987]\u001b[0m \u001b[36mmode\u001b[0m=\u001b[35mtrain\u001b[0m \u001b[36mstep\u001b[0m=\u001b[35m400\u001b[0m\n",
      "\u001b[2m2025-09-03T13:46:51.566715Z\u001b[0m [\u001b[32m\u001b[1minfo     \u001b[0m] \u001b[1mLoss: 0.2907830476760864      \u001b[0m \u001b[36mepoch\u001b[0m=\u001b[35m23\u001b[0m \u001b[36mlr\u001b[0m=\u001b[35m[0.002736300303052814]\u001b[0m \u001b[36mmode\u001b[0m=\u001b[35mtrain\u001b[0m \u001b[36mstep\u001b[0m=\u001b[35m500\u001b[0m\n",
      "\u001b[2m2025-09-03T13:47:01.025059Z\u001b[0m [\u001b[32m\u001b[1minfo     \u001b[0m] \u001b[1mLoss: 0.15163969993591309     \u001b[0m \u001b[36mepoch\u001b[0m=\u001b[35m23\u001b[0m \u001b[36mlr\u001b[0m=\u001b[35m[0.002651432989868018]\u001b[0m \u001b[36mmode\u001b[0m=\u001b[35mtrain\u001b[0m \u001b[36mstep\u001b[0m=\u001b[35m600\u001b[0m\n",
      "\u001b[2m2025-09-03T13:47:10.473256Z\u001b[0m [\u001b[32m\u001b[1minfo     \u001b[0m] \u001b[1mLoss: 0.24053089320659637     \u001b[0m \u001b[36mepoch\u001b[0m=\u001b[35m23\u001b[0m \u001b[36mlr\u001b[0m=\u001b[35m[0.0025674251671407356]\u001b[0m \u001b[36mmode\u001b[0m=\u001b[35mtrain\u001b[0m \u001b[36mstep\u001b[0m=\u001b[35m700\u001b[0m\n",
      "\u001b[2m2025-09-03T13:47:19.238264Z\u001b[0m [\u001b[32m\u001b[1minfo     \u001b[0m] \u001b[1mLoss: 0.36718663573265076     \u001b[0m \u001b[36mepoch\u001b[0m=\u001b[35m1\u001b[0m \u001b[36mlr\u001b[0m=\u001b[35mNone\u001b[0m \u001b[36mmode\u001b[0m=\u001b[35meval\u001b[0m \u001b[36mstep\u001b[0m=\u001b[35m100\u001b[0m\n",
      "\u001b[2m2025-09-03T13:47:20.296016Z\u001b[0m [\u001b[32m\u001b[1minfo     \u001b[0m] \u001b[1mLoss: 0.07942721992731094     \u001b[0m \u001b[36mepoch\u001b[0m=\u001b[35m1\u001b[0m \u001b[36mlr\u001b[0m=\u001b[35mNone\u001b[0m \u001b[36mmode\u001b[0m=\u001b[35meval\u001b[0m \u001b[36mstep\u001b[0m=\u001b[35m200\u001b[0m\n",
      "\u001b[2m2025-09-03T13:47:21.364967Z\u001b[0m [\u001b[32m\u001b[1minfo     \u001b[0m] \u001b[1mLoss: 0.08190960437059402     \u001b[0m \u001b[36mepoch\u001b[0m=\u001b[35m1\u001b[0m \u001b[36mlr\u001b[0m=\u001b[35mNone\u001b[0m \u001b[36mmode\u001b[0m=\u001b[35meval\u001b[0m \u001b[36mstep\u001b[0m=\u001b[35m300\u001b[0m\n",
      "\u001b[2m2025-09-03T13:47:21.510870Z\u001b[0m [\u001b[32m\u001b[1minfo     \u001b[0m] \u001b[1mMetric: {'eval_acc': 0.9221}  \u001b[0m\n",
      "\u001b[2m2025-09-03T13:47:21.511204Z\u001b[0m [\u001b[32m\u001b[1minfo     \u001b[0m] \u001b[1mEvaluation complete           \u001b[0m \u001b[36mstep\u001b[0m=\u001b[35m23\u001b[0m\n",
      "\u001b[2m2025-09-03T13:47:21.511358Z\u001b[0m [\u001b[32m\u001b[1minfo     \u001b[0m] \u001b[1mMetric: {'train_acc': 0.92058}\u001b[0m\n",
      "\u001b[2m2025-09-03T13:47:21.603720Z\u001b[0m [\u001b[32m\u001b[1minfo     \u001b[0m] \u001b[1msaved checkpoint              \u001b[0m \u001b[36mepoch\u001b[0m=\u001b[35m23\u001b[0m \u001b[36mpath\u001b[0m=\u001b[35mruns/train_img_clf_cifar10/run_20250903_184735/artifacts/checkpoints/ckpt_best.pt\u001b[0m\n",
      "\u001b[2m2025-09-03T13:47:21.604224Z\u001b[0m [\u001b[32m\u001b[1minfo     \u001b[0m] \u001b[1mFound better value: 0.9221 over previous: 0.918. Saved checkpoint.\u001b[0m\n",
      "\u001b[2m2025-09-03T13:47:31.095741Z\u001b[0m [\u001b[32m\u001b[1minfo     \u001b[0m] \u001b[1mLoss: 0.2770731449127197      \u001b[0m \u001b[36mepoch\u001b[0m=\u001b[35m24\u001b[0m \u001b[36mlr\u001b[0m=\u001b[35m[0.0024168367947352163]\u001b[0m \u001b[36mmode\u001b[0m=\u001b[35mtrain\u001b[0m \u001b[36mstep\u001b[0m=\u001b[35m100\u001b[0m\n",
      "\u001b[2m2025-09-03T13:47:40.546169Z\u001b[0m [\u001b[32m\u001b[1minfo     \u001b[0m] \u001b[1mLoss: 0.39151209592819214     \u001b[0m \u001b[36mepoch\u001b[0m=\u001b[35m24\u001b[0m \u001b[36mlr\u001b[0m=\u001b[35m[0.002335417254030311]\u001b[0m \u001b[36mmode\u001b[0m=\u001b[35mtrain\u001b[0m \u001b[36mstep\u001b[0m=\u001b[35m200\u001b[0m\n",
      "\u001b[2m2025-09-03T13:47:50.022685Z\u001b[0m [\u001b[32m\u001b[1minfo     \u001b[0m] \u001b[1mLoss: 0.3693130314350128      \u001b[0m \u001b[36mepoch\u001b[0m=\u001b[35m24\u001b[0m \u001b[36mlr\u001b[0m=\u001b[35m[0.002254972853110881]\u001b[0m \u001b[36mmode\u001b[0m=\u001b[35mtrain\u001b[0m \u001b[36mstep\u001b[0m=\u001b[35m300\u001b[0m\n",
      "\u001b[2m2025-09-03T13:47:59.601964Z\u001b[0m [\u001b[32m\u001b[1minfo     \u001b[0m] \u001b[1mLoss: 0.18772177398204803     \u001b[0m \u001b[36mepoch\u001b[0m=\u001b[35m24\u001b[0m \u001b[36mlr\u001b[0m=\u001b[35m[0.0021755330314631545]\u001b[0m \u001b[36mmode\u001b[0m=\u001b[35mtrain\u001b[0m \u001b[36mstep\u001b[0m=\u001b[35m400\u001b[0m\n",
      "\u001b[2m2025-09-03T13:48:09.276056Z\u001b[0m [\u001b[32m\u001b[1minfo     \u001b[0m] \u001b[1mLoss: 0.133784681558609       \u001b[0m \u001b[36mepoch\u001b[0m=\u001b[35m24\u001b[0m \u001b[36mlr\u001b[0m=\u001b[35m[0.0020971268609368725]\u001b[0m \u001b[36mmode\u001b[0m=\u001b[35mtrain\u001b[0m \u001b[36mstep\u001b[0m=\u001b[35m500\u001b[0m\n",
      "\u001b[2m2025-09-03T13:48:18.835445Z\u001b[0m [\u001b[32m\u001b[1minfo     \u001b[0m] \u001b[1mLoss: 0.3008884787559509      \u001b[0m \u001b[36mepoch\u001b[0m=\u001b[35m24\u001b[0m \u001b[36mlr\u001b[0m=\u001b[35m[0.00201978303510612]\u001b[0m \u001b[36mmode\u001b[0m=\u001b[35mtrain\u001b[0m \u001b[36mstep\u001b[0m=\u001b[35m600\u001b[0m\n",
      "\u001b[2m2025-09-03T13:48:28.315188Z\u001b[0m [\u001b[32m\u001b[1minfo     \u001b[0m] \u001b[1mLoss: 0.2109552025794983      \u001b[0m \u001b[36mepoch\u001b[0m=\u001b[35m24\u001b[0m \u001b[36mlr\u001b[0m=\u001b[35m[0.0019435298587686198]\u001b[0m \u001b[36mmode\u001b[0m=\u001b[35mtrain\u001b[0m \u001b[36mstep\u001b[0m=\u001b[35m700\u001b[0m\n",
      "\u001b[2m2025-09-03T13:48:37.098007Z\u001b[0m [\u001b[32m\u001b[1minfo     \u001b[0m] \u001b[1mLoss: 0.2558596134185791      \u001b[0m \u001b[36mepoch\u001b[0m=\u001b[35m1\u001b[0m \u001b[36mlr\u001b[0m=\u001b[35mNone\u001b[0m \u001b[36mmode\u001b[0m=\u001b[35meval\u001b[0m \u001b[36mstep\u001b[0m=\u001b[35m100\u001b[0m\n",
      "\u001b[2m2025-09-03T13:48:38.166125Z\u001b[0m [\u001b[32m\u001b[1minfo     \u001b[0m] \u001b[1mLoss: 0.08729387074708939     \u001b[0m \u001b[36mepoch\u001b[0m=\u001b[35m1\u001b[0m \u001b[36mlr\u001b[0m=\u001b[35mNone\u001b[0m \u001b[36mmode\u001b[0m=\u001b[35meval\u001b[0m \u001b[36mstep\u001b[0m=\u001b[35m200\u001b[0m\n",
      "\u001b[2m2025-09-03T13:48:39.237058Z\u001b[0m [\u001b[32m\u001b[1minfo     \u001b[0m] \u001b[1mLoss: 0.15908536314964294     \u001b[0m \u001b[36mepoch\u001b[0m=\u001b[35m1\u001b[0m \u001b[36mlr\u001b[0m=\u001b[35mNone\u001b[0m \u001b[36mmode\u001b[0m=\u001b[35meval\u001b[0m \u001b[36mstep\u001b[0m=\u001b[35m300\u001b[0m\n",
      "\u001b[2m2025-09-03T13:48:39.384080Z\u001b[0m [\u001b[32m\u001b[1minfo     \u001b[0m] \u001b[1mMetric: {'eval_acc': 0.9258}  \u001b[0m\n",
      "\u001b[2m2025-09-03T13:48:39.384419Z\u001b[0m [\u001b[32m\u001b[1minfo     \u001b[0m] \u001b[1mEvaluation complete           \u001b[0m \u001b[36mstep\u001b[0m=\u001b[35m24\u001b[0m\n",
      "\u001b[2m2025-09-03T13:48:39.384594Z\u001b[0m [\u001b[32m\u001b[1minfo     \u001b[0m] \u001b[1mMetric: {'train_acc': 0.92616}\u001b[0m\n",
      "\u001b[2m2025-09-03T13:48:39.476075Z\u001b[0m [\u001b[32m\u001b[1minfo     \u001b[0m] \u001b[1msaved checkpoint              \u001b[0m \u001b[36mepoch\u001b[0m=\u001b[35m24\u001b[0m \u001b[36mpath\u001b[0m=\u001b[35mruns/train_img_clf_cifar10/run_20250903_184735/artifacts/checkpoints/ckpt_best.pt\u001b[0m\n",
      "\u001b[2m2025-09-03T13:48:39.476540Z\u001b[0m [\u001b[32m\u001b[1minfo     \u001b[0m] \u001b[1mFound better value: 0.9258 over previous: 0.9221. Saved checkpoint.\u001b[0m\n",
      "\u001b[2m2025-09-03T13:48:49.040863Z\u001b[0m [\u001b[32m\u001b[1minfo     \u001b[0m] \u001b[1mLoss: 0.06451719999313354     \u001b[0m \u001b[36mepoch\u001b[0m=\u001b[35m25\u001b[0m \u001b[36mlr\u001b[0m=\u001b[35m[0.0018076388139259723]\u001b[0m \u001b[36mmode\u001b[0m=\u001b[35mtrain\u001b[0m \u001b[36mstep\u001b[0m=\u001b[35m100\u001b[0m\n",
      "\u001b[2m2025-09-03T13:48:58.552940Z\u001b[0m [\u001b[32m\u001b[1minfo     \u001b[0m] \u001b[1mLoss: 0.1469484567642212      \u001b[0m \u001b[36mepoch\u001b[0m=\u001b[35m25\u001b[0m \u001b[36mlr\u001b[0m=\u001b[35m[0.001734610230302439]\u001b[0m \u001b[36mmode\u001b[0m=\u001b[35mtrain\u001b[0m \u001b[36mstep\u001b[0m=\u001b[35m200\u001b[0m\n",
      "\u001b[2m2025-09-03T13:49:08.583762Z\u001b[0m [\u001b[32m\u001b[1minfo     \u001b[0m] \u001b[1mLoss: 0.26290637254714966     \u001b[0m \u001b[36mepoch\u001b[0m=\u001b[35m25\u001b[0m \u001b[36mlr\u001b[0m=\u001b[35m[0.001662776658200648]\u001b[0m \u001b[36mmode\u001b[0m=\u001b[35mtrain\u001b[0m \u001b[36mstep\u001b[0m=\u001b[35m300\u001b[0m\n",
      "\u001b[2m2025-09-03T13:49:18.102308Z\u001b[0m [\u001b[32m\u001b[1minfo     \u001b[0m] \u001b[1mLoss: 0.21864336729049683     \u001b[0m \u001b[36mepoch\u001b[0m=\u001b[35m25\u001b[0m \u001b[36mlr\u001b[0m=\u001b[35m[0.0015921643858822195]\u001b[0m \u001b[36mmode\u001b[0m=\u001b[35mtrain\u001b[0m \u001b[36mstep\u001b[0m=\u001b[35m400\u001b[0m\n",
      "\u001b[2m2025-09-03T13:49:27.609347Z\u001b[0m [\u001b[32m\u001b[1minfo     \u001b[0m] \u001b[1mLoss: 0.2785990238189697      \u001b[0m \u001b[36mepoch\u001b[0m=\u001b[35m25\u001b[0m \u001b[36mlr\u001b[0m=\u001b[35m[0.0015227992546610893]\u001b[0m \u001b[36mmode\u001b[0m=\u001b[35mtrain\u001b[0m \u001b[36mstep\u001b[0m=\u001b[35m500\u001b[0m\n",
      "\u001b[2m2025-09-03T13:49:37.174949Z\u001b[0m [\u001b[32m\u001b[1minfo     \u001b[0m] \u001b[1mLoss: 0.09261500835418701     \u001b[0m \u001b[36mepoch\u001b[0m=\u001b[35m25\u001b[0m \u001b[36mlr\u001b[0m=\u001b[35m[0.0014547066494466129]\u001b[0m \u001b[36mmode\u001b[0m=\u001b[35mtrain\u001b[0m \u001b[36mstep\u001b[0m=\u001b[35m600\u001b[0m\n",
      "\u001b[2m2025-09-03T13:49:46.743917Z\u001b[0m [\u001b[32m\u001b[1minfo     \u001b[0m] \u001b[1mLoss: 0.30052632093429565     \u001b[0m \u001b[36mepoch\u001b[0m=\u001b[35m25\u001b[0m \u001b[36mlr\u001b[0m=\u001b[35m[0.0013879114894536913]\u001b[0m \u001b[36mmode\u001b[0m=\u001b[35mtrain\u001b[0m \u001b[36mstep\u001b[0m=\u001b[35m700\u001b[0m\n",
      "\u001b[2m2025-09-03T13:49:55.494618Z\u001b[0m [\u001b[32m\u001b[1minfo     \u001b[0m] \u001b[1mLoss: 0.14312505722045898     \u001b[0m \u001b[36mepoch\u001b[0m=\u001b[35m1\u001b[0m \u001b[36mlr\u001b[0m=\u001b[35mNone\u001b[0m \u001b[36mmode\u001b[0m=\u001b[35meval\u001b[0m \u001b[36mstep\u001b[0m=\u001b[35m100\u001b[0m\n",
      "\u001b[2m2025-09-03T13:49:56.550716Z\u001b[0m [\u001b[32m\u001b[1minfo     \u001b[0m] \u001b[1mLoss: 0.06140273064374924     \u001b[0m \u001b[36mepoch\u001b[0m=\u001b[35m1\u001b[0m \u001b[36mlr\u001b[0m=\u001b[35mNone\u001b[0m \u001b[36mmode\u001b[0m=\u001b[35meval\u001b[0m \u001b[36mstep\u001b[0m=\u001b[35m200\u001b[0m\n",
      "\u001b[2m2025-09-03T13:49:57.609146Z\u001b[0m [\u001b[32m\u001b[1minfo     \u001b[0m] \u001b[1mLoss: 0.23271125555038452     \u001b[0m \u001b[36mepoch\u001b[0m=\u001b[35m1\u001b[0m \u001b[36mlr\u001b[0m=\u001b[35mNone\u001b[0m \u001b[36mmode\u001b[0m=\u001b[35meval\u001b[0m \u001b[36mstep\u001b[0m=\u001b[35m300\u001b[0m\n",
      "\u001b[2m2025-09-03T13:49:57.753834Z\u001b[0m [\u001b[32m\u001b[1minfo     \u001b[0m] \u001b[1mMetric: {'eval_acc': 0.9305}  \u001b[0m\n",
      "\u001b[2m2025-09-03T13:49:57.754630Z\u001b[0m [\u001b[32m\u001b[1minfo     \u001b[0m] \u001b[1mEvaluation complete           \u001b[0m \u001b[36mstep\u001b[0m=\u001b[35m25\u001b[0m\n",
      "\u001b[2m2025-09-03T13:49:57.754833Z\u001b[0m [\u001b[32m\u001b[1minfo     \u001b[0m] \u001b[1mMetric: {'train_acc': 0.93328}\u001b[0m\n",
      "\u001b[2m2025-09-03T13:49:57.850007Z\u001b[0m [\u001b[32m\u001b[1minfo     \u001b[0m] \u001b[1msaved checkpoint              \u001b[0m \u001b[36mepoch\u001b[0m=\u001b[35m25\u001b[0m \u001b[36mpath\u001b[0m=\u001b[35mruns/train_img_clf_cifar10/run_20250903_184735/artifacts/checkpoints/ckpt_best.pt\u001b[0m\n",
      "\u001b[2m2025-09-03T13:49:57.850484Z\u001b[0m [\u001b[32m\u001b[1minfo     \u001b[0m] \u001b[1mFound better value: 0.9305 over previous: 0.9258. Saved checkpoint.\u001b[0m\n",
      "\u001b[2m2025-09-03T13:50:07.404866Z\u001b[0m [\u001b[32m\u001b[1minfo     \u001b[0m] \u001b[1mLoss: 0.20275986194610596     \u001b[0m \u001b[36mepoch\u001b[0m=\u001b[35m26\u001b[0m \u001b[36mlr\u001b[0m=\u001b[35m[0.0012697533535625124]\u001b[0m \u001b[36mmode\u001b[0m=\u001b[35mtrain\u001b[0m \u001b[36mstep\u001b[0m=\u001b[35m100\u001b[0m\n",
      "\u001b[2m2025-09-03T13:50:16.943235Z\u001b[0m [\u001b[32m\u001b[1minfo     \u001b[0m] \u001b[1mLoss: 0.09246042370796204     \u001b[0m \u001b[36mepoch\u001b[0m=\u001b[35m26\u001b[0m \u001b[36mlr\u001b[0m=\u001b[35m[0.0012067470649023955]\u001b[0m \u001b[36mmode\u001b[0m=\u001b[35mtrain\u001b[0m \u001b[36mstep\u001b[0m=\u001b[35m200\u001b[0m\n",
      "\u001b[2m2025-09-03T13:50:26.409240Z\u001b[0m [\u001b[32m\u001b[1minfo     \u001b[0m] \u001b[1mLoss: 0.11641275882720947     \u001b[0m \u001b[36mepoch\u001b[0m=\u001b[35m26\u001b[0m \u001b[36mlr\u001b[0m=\u001b[35m[0.0011451289649175955]\u001b[0m \u001b[36mmode\u001b[0m=\u001b[35mtrain\u001b[0m \u001b[36mstep\u001b[0m=\u001b[35m300\u001b[0m\n",
      "\u001b[2m2025-09-03T13:50:35.912682Z\u001b[0m [\u001b[32m\u001b[1minfo     \u001b[0m] \u001b[1mLoss: 0.18542540073394775     \u001b[0m \u001b[36mepoch\u001b[0m=\u001b[35m26\u001b[0m \u001b[36mlr\u001b[0m=\u001b[35m[0.0010849216034087886]\u001b[0m \u001b[36mmode\u001b[0m=\u001b[35mtrain\u001b[0m \u001b[36mstep\u001b[0m=\u001b[35m400\u001b[0m\n",
      "\u001b[2m2025-09-03T13:50:45.440147Z\u001b[0m [\u001b[32m\u001b[1minfo     \u001b[0m] \u001b[1mLoss: 0.27293404936790466     \u001b[0m \u001b[36mepoch\u001b[0m=\u001b[35m26\u001b[0m \u001b[36mlr\u001b[0m=\u001b[35m[0.0010261470139018606]\u001b[0m \u001b[36mmode\u001b[0m=\u001b[35mtrain\u001b[0m \u001b[36mstep\u001b[0m=\u001b[35m500\u001b[0m\n",
      "\u001b[2m2025-09-03T13:50:55.002755Z\u001b[0m [\u001b[32m\u001b[1minfo     \u001b[0m] \u001b[1mLoss: 0.11748705059289932     \u001b[0m \u001b[36mepoch\u001b[0m=\u001b[35m26\u001b[0m \u001b[36mlr\u001b[0m=\u001b[35m[0.000968826705584512]\u001b[0m \u001b[36mmode\u001b[0m=\u001b[35mtrain\u001b[0m \u001b[36mstep\u001b[0m=\u001b[35m600\u001b[0m\n",
      "\u001b[2m2025-09-03T13:51:04.769873Z\u001b[0m [\u001b[32m\u001b[1minfo     \u001b[0m] \u001b[1mLoss: 0.1340118944644928      \u001b[0m \u001b[36mepoch\u001b[0m=\u001b[35m26\u001b[0m \u001b[36mlr\u001b[0m=\u001b[35m[0.0009129816554347322]\u001b[0m \u001b[36mmode\u001b[0m=\u001b[35mtrain\u001b[0m \u001b[36mstep\u001b[0m=\u001b[35m700\u001b[0m\n",
      "\u001b[2m2025-09-03T13:51:14.005672Z\u001b[0m [\u001b[32m\u001b[1minfo     \u001b[0m] \u001b[1mLoss: 0.18195050954818726     \u001b[0m \u001b[36mepoch\u001b[0m=\u001b[35m1\u001b[0m \u001b[36mlr\u001b[0m=\u001b[35mNone\u001b[0m \u001b[36mmode\u001b[0m=\u001b[35meval\u001b[0m \u001b[36mstep\u001b[0m=\u001b[35m100\u001b[0m\n",
      "\u001b[2m2025-09-03T13:51:15.137703Z\u001b[0m [\u001b[32m\u001b[1minfo     \u001b[0m] \u001b[1mLoss: 0.12153036147356033     \u001b[0m \u001b[36mepoch\u001b[0m=\u001b[35m1\u001b[0m \u001b[36mlr\u001b[0m=\u001b[35mNone\u001b[0m \u001b[36mmode\u001b[0m=\u001b[35meval\u001b[0m \u001b[36mstep\u001b[0m=\u001b[35m200\u001b[0m\n",
      "\u001b[2m2025-09-03T13:51:16.249041Z\u001b[0m [\u001b[32m\u001b[1minfo     \u001b[0m] \u001b[1mLoss: 0.09807713329792023     \u001b[0m \u001b[36mepoch\u001b[0m=\u001b[35m1\u001b[0m \u001b[36mlr\u001b[0m=\u001b[35mNone\u001b[0m \u001b[36mmode\u001b[0m=\u001b[35meval\u001b[0m \u001b[36mstep\u001b[0m=\u001b[35m300\u001b[0m\n",
      "\u001b[2m2025-09-03T13:51:16.398330Z\u001b[0m [\u001b[32m\u001b[1minfo     \u001b[0m] \u001b[1mMetric: {'eval_acc': 0.9307}  \u001b[0m\n",
      "\u001b[2m2025-09-03T13:51:16.398784Z\u001b[0m [\u001b[32m\u001b[1minfo     \u001b[0m] \u001b[1mEvaluation complete           \u001b[0m \u001b[36mstep\u001b[0m=\u001b[35m26\u001b[0m\n",
      "\u001b[2m2025-09-03T13:51:16.398931Z\u001b[0m [\u001b[32m\u001b[1minfo     \u001b[0m] \u001b[1mMetric: {'train_acc': 0.93928}\u001b[0m\n",
      "\u001b[2m2025-09-03T13:51:16.491800Z\u001b[0m [\u001b[32m\u001b[1minfo     \u001b[0m] \u001b[1msaved checkpoint              \u001b[0m \u001b[36mepoch\u001b[0m=\u001b[35m26\u001b[0m \u001b[36mpath\u001b[0m=\u001b[35mruns/train_img_clf_cifar10/run_20250903_184735/artifacts/checkpoints/ckpt_best.pt\u001b[0m\n",
      "\u001b[2m2025-09-03T13:51:16.492350Z\u001b[0m [\u001b[32m\u001b[1minfo     \u001b[0m] \u001b[1mFound better value: 0.9307 over previous: 0.9305. Saved checkpoint.\u001b[0m\n",
      "\u001b[2m2025-09-03T13:51:26.244762Z\u001b[0m [\u001b[32m\u001b[1minfo     \u001b[0m] \u001b[1mLoss: 0.2096235752105713      \u001b[0m \u001b[36mepoch\u001b[0m=\u001b[35m27\u001b[0m \u001b[36mlr\u001b[0m=\u001b[35m[0.0008151958860003853]\u001b[0m \u001b[36mmode\u001b[0m=\u001b[35mtrain\u001b[0m \u001b[36mstep\u001b[0m=\u001b[35m100\u001b[0m\n",
      "\u001b[2m2025-09-03T13:51:35.992340Z\u001b[0m [\u001b[32m\u001b[1minfo     \u001b[0m] \u001b[1mLoss: 0.25745201110839844     \u001b[0m \u001b[36mepoch\u001b[0m=\u001b[35m27\u001b[0m \u001b[36mlr\u001b[0m=\u001b[35m[0.000763619348677596]\u001b[0m \u001b[36mmode\u001b[0m=\u001b[35mtrain\u001b[0m \u001b[36mstep\u001b[0m=\u001b[35m200\u001b[0m\n",
      "\u001b[2m2025-09-03T13:51:45.631118Z\u001b[0m [\u001b[32m\u001b[1minfo     \u001b[0m] \u001b[1mLoss: 0.04026944935321808     \u001b[0m \u001b[36mepoch\u001b[0m=\u001b[35m27\u001b[0m \u001b[36mlr\u001b[0m=\u001b[35m[0.0007135931673426029]\u001b[0m \u001b[36mmode\u001b[0m=\u001b[35mtrain\u001b[0m \u001b[36mstep\u001b[0m=\u001b[35m300\u001b[0m\n",
      "\u001b[2m2025-09-03T13:51:55.233554Z\u001b[0m [\u001b[32m\u001b[1minfo     \u001b[0m] \u001b[1mLoss: 0.10789427161216736     \u001b[0m \u001b[36mepoch\u001b[0m=\u001b[35m27\u001b[0m \u001b[36mlr\u001b[0m=\u001b[35m[0.0006651356496098544]\u001b[0m \u001b[36mmode\u001b[0m=\u001b[35mtrain\u001b[0m \u001b[36mstep\u001b[0m=\u001b[35m400\u001b[0m\n",
      "\u001b[2m2025-09-03T13:52:04.806734Z\u001b[0m [\u001b[32m\u001b[1minfo     \u001b[0m] \u001b[1mLoss: 0.0758151262998581      \u001b[0m \u001b[36mepoch\u001b[0m=\u001b[35m27\u001b[0m \u001b[36mlr\u001b[0m=\u001b[35m[0.0006182645290246281]\u001b[0m \u001b[36mmode\u001b[0m=\u001b[35mtrain\u001b[0m \u001b[36mstep\u001b[0m=\u001b[35m500\u001b[0m\n",
      "\u001b[2m2025-09-03T13:52:14.385403Z\u001b[0m [\u001b[32m\u001b[1minfo     \u001b[0m] \u001b[1mLoss: 0.1334506869316101      \u001b[0m \u001b[36mepoch\u001b[0m=\u001b[35m27\u001b[0m \u001b[36mlr\u001b[0m=\u001b[35m[0.000572996958573256]\u001b[0m \u001b[36mmode\u001b[0m=\u001b[35mtrain\u001b[0m \u001b[36mstep\u001b[0m=\u001b[35m600\u001b[0m\n",
      "\u001b[2m2025-09-03T13:52:23.945692Z\u001b[0m [\u001b[32m\u001b[1minfo     \u001b[0m] \u001b[1mLoss: 0.31199097633361816     \u001b[0m \u001b[36mepoch\u001b[0m=\u001b[35m27\u001b[0m \u001b[36mlr\u001b[0m=\u001b[35m[0.0005293495044057965]\u001b[0m \u001b[36mmode\u001b[0m=\u001b[35mtrain\u001b[0m \u001b[36mstep\u001b[0m=\u001b[35m700\u001b[0m\n",
      "\u001b[2m2025-09-03T13:52:32.726614Z\u001b[0m [\u001b[32m\u001b[1minfo     \u001b[0m] \u001b[1mLoss: 0.13796289265155792     \u001b[0m \u001b[36mepoch\u001b[0m=\u001b[35m1\u001b[0m \u001b[36mlr\u001b[0m=\u001b[35mNone\u001b[0m \u001b[36mmode\u001b[0m=\u001b[35meval\u001b[0m \u001b[36mstep\u001b[0m=\u001b[35m100\u001b[0m\n",
      "\u001b[2m2025-09-03T13:52:33.799439Z\u001b[0m [\u001b[32m\u001b[1minfo     \u001b[0m] \u001b[1mLoss: 0.058555968105793       \u001b[0m \u001b[36mepoch\u001b[0m=\u001b[35m1\u001b[0m \u001b[36mlr\u001b[0m=\u001b[35mNone\u001b[0m \u001b[36mmode\u001b[0m=\u001b[35meval\u001b[0m \u001b[36mstep\u001b[0m=\u001b[35m200\u001b[0m\n",
      "\u001b[2m2025-09-03T13:52:34.871444Z\u001b[0m [\u001b[32m\u001b[1minfo     \u001b[0m] \u001b[1mLoss: 0.15596680343151093     \u001b[0m \u001b[36mepoch\u001b[0m=\u001b[35m1\u001b[0m \u001b[36mlr\u001b[0m=\u001b[35mNone\u001b[0m \u001b[36mmode\u001b[0m=\u001b[35meval\u001b[0m \u001b[36mstep\u001b[0m=\u001b[35m300\u001b[0m\n",
      "\u001b[2m2025-09-03T13:52:35.018301Z\u001b[0m [\u001b[32m\u001b[1minfo     \u001b[0m] \u001b[1mMetric: {'eval_acc': 0.9302}  \u001b[0m\n",
      "\u001b[2m2025-09-03T13:52:35.018631Z\u001b[0m [\u001b[32m\u001b[1minfo     \u001b[0m] \u001b[1mEvaluation complete           \u001b[0m \u001b[36mstep\u001b[0m=\u001b[35m27\u001b[0m\n",
      "\u001b[2m2025-09-03T13:52:35.018797Z\u001b[0m [\u001b[32m\u001b[1minfo     \u001b[0m] \u001b[1mMetric: {'train_acc': 0.94262}\u001b[0m\n",
      "\u001b[2m2025-09-03T13:52:44.658467Z\u001b[0m [\u001b[32m\u001b[1minfo     \u001b[0m] \u001b[1mLoss: 0.1570921391248703      \u001b[0m \u001b[36mepoch\u001b[0m=\u001b[35m28\u001b[0m \u001b[36mlr\u001b[0m=\u001b[35m[0.00045412047393132693]\u001b[0m \u001b[36mmode\u001b[0m=\u001b[35mtrain\u001b[0m \u001b[36mstep\u001b[0m=\u001b[35m100\u001b[0m\n",
      "\u001b[2m2025-09-03T13:52:54.181152Z\u001b[0m [\u001b[32m\u001b[1minfo     \u001b[0m] \u001b[1mLoss: 0.20792877674102783     \u001b[0m \u001b[36mepoch\u001b[0m=\u001b[35m28\u001b[0m \u001b[36mlr\u001b[0m=\u001b[35m[0.0004151258225619939]\u001b[0m \u001b[36mmode\u001b[0m=\u001b[35mtrain\u001b[0m \u001b[36mstep\u001b[0m=\u001b[35m200\u001b[0m\n",
      "\u001b[2m2025-09-03T13:53:03.748395Z\u001b[0m [\u001b[32m\u001b[1minfo     \u001b[0m] \u001b[1mLoss: 0.35602715611457825     \u001b[0m \u001b[36mepoch\u001b[0m=\u001b[35m28\u001b[0m \u001b[36mlr\u001b[0m=\u001b[35m[0.00037780906210205397]\u001b[0m \u001b[36mmode\u001b[0m=\u001b[35mtrain\u001b[0m \u001b[36mstep\u001b[0m=\u001b[35m300\u001b[0m\n",
      "\u001b[2m2025-09-03T13:53:13.307029Z\u001b[0m [\u001b[32m\u001b[1minfo     \u001b[0m] \u001b[1mLoss: 0.14768165349960327     \u001b[0m \u001b[36mepoch\u001b[0m=\u001b[35m28\u001b[0m \u001b[36mlr\u001b[0m=\u001b[35m[0.0003421838490178762]\u001b[0m \u001b[36mmode\u001b[0m=\u001b[35mtrain\u001b[0m \u001b[36mstep\u001b[0m=\u001b[35m400\u001b[0m\n",
      "\u001b[2m2025-09-03T13:53:22.906180Z\u001b[0m [\u001b[32m\u001b[1minfo     \u001b[0m] \u001b[1mLoss: 0.08790256828069687     \u001b[0m \u001b[36mepoch\u001b[0m=\u001b[35m28\u001b[0m \u001b[36mlr\u001b[0m=\u001b[35m[0.0003082632207360318]\u001b[0m \u001b[36mmode\u001b[0m=\u001b[35mtrain\u001b[0m \u001b[36mstep\u001b[0m=\u001b[35m500\u001b[0m\n",
      "\u001b[2m2025-09-03T13:53:32.490796Z\u001b[0m [\u001b[32m\u001b[1minfo     \u001b[0m] \u001b[1mLoss: 0.07065940648317337     \u001b[0m \u001b[36mepoch\u001b[0m=\u001b[35m28\u001b[0m \u001b[36mlr\u001b[0m=\u001b[35m[0.00027605959087211176]\u001b[0m \u001b[36mmode\u001b[0m=\u001b[35mtrain\u001b[0m \u001b[36mstep\u001b[0m=\u001b[35m600\u001b[0m\n",
      "\u001b[2m2025-09-03T13:53:42.031059Z\u001b[0m [\u001b[32m\u001b[1minfo     \u001b[0m] \u001b[1mLoss: 0.11648017168045044     \u001b[0m \u001b[36mepoch\u001b[0m=\u001b[35m28\u001b[0m \u001b[36mlr\u001b[0m=\u001b[35m[0.0002455847446878253]\u001b[0m \u001b[36mmode\u001b[0m=\u001b[35mtrain\u001b[0m \u001b[36mstep\u001b[0m=\u001b[35m700\u001b[0m\n",
      "\u001b[2m2025-09-03T13:53:50.887300Z\u001b[0m [\u001b[32m\u001b[1minfo     \u001b[0m] \u001b[1mLoss: 0.19032077491283417     \u001b[0m \u001b[36mepoch\u001b[0m=\u001b[35m1\u001b[0m \u001b[36mlr\u001b[0m=\u001b[35mNone\u001b[0m \u001b[36mmode\u001b[0m=\u001b[35meval\u001b[0m \u001b[36mstep\u001b[0m=\u001b[35m100\u001b[0m\n",
      "\u001b[2m2025-09-03T13:53:51.963703Z\u001b[0m [\u001b[32m\u001b[1minfo     \u001b[0m] \u001b[1mLoss: 0.07425392419099808     \u001b[0m \u001b[36mepoch\u001b[0m=\u001b[35m1\u001b[0m \u001b[36mlr\u001b[0m=\u001b[35mNone\u001b[0m \u001b[36mmode\u001b[0m=\u001b[35meval\u001b[0m \u001b[36mstep\u001b[0m=\u001b[35m200\u001b[0m\n",
      "\u001b[2m2025-09-03T13:53:53.044100Z\u001b[0m [\u001b[32m\u001b[1minfo     \u001b[0m] \u001b[1mLoss: 0.12055449187755585     \u001b[0m \u001b[36mepoch\u001b[0m=\u001b[35m1\u001b[0m \u001b[36mlr\u001b[0m=\u001b[35mNone\u001b[0m \u001b[36mmode\u001b[0m=\u001b[35meval\u001b[0m \u001b[36mstep\u001b[0m=\u001b[35m300\u001b[0m\n",
      "\u001b[2m2025-09-03T13:53:53.199703Z\u001b[0m [\u001b[32m\u001b[1minfo     \u001b[0m] \u001b[1mMetric: {'eval_acc': 0.9325}  \u001b[0m\n",
      "\u001b[2m2025-09-03T13:53:53.200230Z\u001b[0m [\u001b[32m\u001b[1minfo     \u001b[0m] \u001b[1mEvaluation complete           \u001b[0m \u001b[36mstep\u001b[0m=\u001b[35m28\u001b[0m\n",
      "\u001b[2m2025-09-03T13:53:53.200401Z\u001b[0m [\u001b[32m\u001b[1minfo     \u001b[0m] \u001b[1mMetric: {'train_acc': 0.94618}\u001b[0m\n",
      "\u001b[2m2025-09-03T13:53:53.291972Z\u001b[0m [\u001b[32m\u001b[1minfo     \u001b[0m] \u001b[1msaved checkpoint              \u001b[0m \u001b[36mepoch\u001b[0m=\u001b[35m28\u001b[0m \u001b[36mpath\u001b[0m=\u001b[35mruns/train_img_clf_cifar10/run_20250903_184735/artifacts/checkpoints/ckpt_best.pt\u001b[0m\n",
      "\u001b[2m2025-09-03T13:53:53.292496Z\u001b[0m [\u001b[32m\u001b[1minfo     \u001b[0m] \u001b[1mFound better value: 0.9325 over previous: 0.9307. Saved checkpoint.\u001b[0m\n",
      "\u001b[2m2025-09-03T13:54:02.920418Z\u001b[0m [\u001b[32m\u001b[1minfo     \u001b[0m] \u001b[1mLoss: 0.10129190981388092     \u001b[0m \u001b[36mepoch\u001b[0m=\u001b[35m29\u001b[0m \u001b[36mlr\u001b[0m=\u001b[35m[0.0001945929454018022]\u001b[0m \u001b[36mmode\u001b[0m=\u001b[35mtrain\u001b[0m \u001b[36mstep\u001b[0m=\u001b[35m100\u001b[0m\n",
      "\u001b[2m2025-09-03T13:54:12.526823Z\u001b[0m [\u001b[32m\u001b[1minfo     \u001b[0m] \u001b[1mLoss: 0.26225540041923523     \u001b[0m \u001b[36mepoch\u001b[0m=\u001b[35m29\u001b[0m \u001b[36mlr\u001b[0m=\u001b[35m[0.00016905125606079475]\u001b[0m \u001b[36mmode\u001b[0m=\u001b[35mtrain\u001b[0m \u001b[36mstep\u001b[0m=\u001b[35m200\u001b[0m\n",
      "\u001b[2m2025-09-03T13:54:22.275678Z\u001b[0m [\u001b[32m\u001b[1minfo     \u001b[0m] \u001b[1mLoss: 0.06919727474451065     \u001b[0m \u001b[36mepoch\u001b[0m=\u001b[35m29\u001b[0m \u001b[36mlr\u001b[0m=\u001b[35m[0.00014527751124049267]\u001b[0m \u001b[36mmode\u001b[0m=\u001b[35mtrain\u001b[0m \u001b[36mstep\u001b[0m=\u001b[35m300\u001b[0m\n",
      "\u001b[2m2025-09-03T13:54:32.138263Z\u001b[0m [\u001b[32m\u001b[1minfo     \u001b[0m] \u001b[1mLoss: 0.05758998543024063     \u001b[0m \u001b[36mepoch\u001b[0m=\u001b[35m29\u001b[0m \u001b[36mlr\u001b[0m=\u001b[35m[0.0001232804111962931]\u001b[0m \u001b[36mmode\u001b[0m=\u001b[35mtrain\u001b[0m \u001b[36mstep\u001b[0m=\u001b[35m400\u001b[0m\n",
      "\u001b[2m2025-09-03T13:54:41.761697Z\u001b[0m [\u001b[32m\u001b[1minfo     \u001b[0m] \u001b[1mLoss: 0.11273820698261261     \u001b[0m \u001b[36mepoch\u001b[0m=\u001b[35m29\u001b[0m \u001b[36mlr\u001b[0m=\u001b[35m[0.0001030680060014956]\u001b[0m \u001b[36mmode\u001b[0m=\u001b[35mtrain\u001b[0m \u001b[36mstep\u001b[0m=\u001b[35m500\u001b[0m\n",
      "\u001b[2m2025-09-03T13:54:51.405249Z\u001b[0m [\u001b[32m\u001b[1minfo     \u001b[0m] \u001b[1mLoss: 0.1462128907442093      \u001b[0m \u001b[36mepoch\u001b[0m=\u001b[35m29\u001b[0m \u001b[36mlr\u001b[0m=\u001b[35m[8.464769260129106e-05]\u001b[0m \u001b[36mmode\u001b[0m=\u001b[35mtrain\u001b[0m \u001b[36mstep\u001b[0m=\u001b[35m600\u001b[0m\n",
      "\u001b[2m2025-09-03T13:55:01.042468Z\u001b[0m [\u001b[32m\u001b[1minfo     \u001b[0m] \u001b[1mLoss: 0.13250668346881866     \u001b[0m \u001b[36mepoch\u001b[0m=\u001b[35m29\u001b[0m \u001b[36mlr\u001b[0m=\u001b[35m[6.802621210576907e-05]\u001b[0m \u001b[36mmode\u001b[0m=\u001b[35mtrain\u001b[0m \u001b[36mstep\u001b[0m=\u001b[35m700\u001b[0m\n",
      "\u001b[2m2025-09-03T13:55:09.922416Z\u001b[0m [\u001b[32m\u001b[1minfo     \u001b[0m] \u001b[1mLoss: 0.17603130638599396     \u001b[0m \u001b[36mepoch\u001b[0m=\u001b[35m1\u001b[0m \u001b[36mlr\u001b[0m=\u001b[35mNone\u001b[0m \u001b[36mmode\u001b[0m=\u001b[35meval\u001b[0m \u001b[36mstep\u001b[0m=\u001b[35m100\u001b[0m\n",
      "\u001b[2m2025-09-03T13:55:11.007414Z\u001b[0m [\u001b[32m\u001b[1minfo     \u001b[0m] \u001b[1mLoss: 0.08037751168012619     \u001b[0m \u001b[36mepoch\u001b[0m=\u001b[35m1\u001b[0m \u001b[36mlr\u001b[0m=\u001b[35mNone\u001b[0m \u001b[36mmode\u001b[0m=\u001b[35meval\u001b[0m \u001b[36mstep\u001b[0m=\u001b[35m200\u001b[0m\n",
      "\u001b[2m2025-09-03T13:55:12.091343Z\u001b[0m [\u001b[32m\u001b[1minfo     \u001b[0m] \u001b[1mLoss: 0.12068242579698563     \u001b[0m \u001b[36mepoch\u001b[0m=\u001b[35m1\u001b[0m \u001b[36mlr\u001b[0m=\u001b[35mNone\u001b[0m \u001b[36mmode\u001b[0m=\u001b[35meval\u001b[0m \u001b[36mstep\u001b[0m=\u001b[35m300\u001b[0m\n",
      "\u001b[2m2025-09-03T13:55:12.239968Z\u001b[0m [\u001b[32m\u001b[1minfo     \u001b[0m] \u001b[1mMetric: {'eval_acc': 0.934}   \u001b[0m\n",
      "\u001b[2m2025-09-03T13:55:12.240306Z\u001b[0m [\u001b[32m\u001b[1minfo     \u001b[0m] \u001b[1mEvaluation complete           \u001b[0m \u001b[36mstep\u001b[0m=\u001b[35m29\u001b[0m\n",
      "\u001b[2m2025-09-03T13:55:12.240475Z\u001b[0m [\u001b[32m\u001b[1minfo     \u001b[0m] \u001b[1mMetric: {'train_acc': 0.94922}\u001b[0m\n",
      "\u001b[2m2025-09-03T13:55:12.329957Z\u001b[0m [\u001b[32m\u001b[1minfo     \u001b[0m] \u001b[1msaved checkpoint              \u001b[0m \u001b[36mepoch\u001b[0m=\u001b[35m29\u001b[0m \u001b[36mpath\u001b[0m=\u001b[35mruns/train_img_clf_cifar10/run_20250903_184735/artifacts/checkpoints/ckpt_best.pt\u001b[0m\n",
      "\u001b[2m2025-09-03T13:55:12.330505Z\u001b[0m [\u001b[32m\u001b[1minfo     \u001b[0m] \u001b[1mFound better value: 0.934 over previous: 0.9325. Saved checkpoint.\u001b[0m\n",
      "\u001b[2m2025-09-03T13:55:22.023008Z\u001b[0m [\u001b[32m\u001b[1minfo     \u001b[0m] \u001b[1mLoss: 0.08366316556930542     \u001b[0m \u001b[36mepoch\u001b[0m=\u001b[35m30\u001b[0m \u001b[36mlr\u001b[0m=\u001b[35m[4.241071654282974e-05]\u001b[0m \u001b[36mmode\u001b[0m=\u001b[35mtrain\u001b[0m \u001b[36mstep\u001b[0m=\u001b[35m100\u001b[0m\n",
      "\u001b[2m2025-09-03T13:55:31.627391Z\u001b[0m [\u001b[32m\u001b[1minfo     \u001b[0m] \u001b[1mLoss: 0.11200632154941559     \u001b[0m \u001b[36mepoch\u001b[0m=\u001b[35m30\u001b[0m \u001b[36mlr\u001b[0m=\u001b[35m[3.089254836365416e-05]\u001b[0m \u001b[36mmode\u001b[0m=\u001b[35mtrain\u001b[0m \u001b[36mstep\u001b[0m=\u001b[35m200\u001b[0m\n",
      "\u001b[2m2025-09-03T13:55:41.289156Z\u001b[0m [\u001b[32m\u001b[1minfo     \u001b[0m] \u001b[1mLoss: 0.2875123620033264      \u001b[0m \u001b[36mepoch\u001b[0m=\u001b[35m30\u001b[0m \u001b[36mlr\u001b[0m=\u001b[35m[2.1192885357344902e-05]\u001b[0m \u001b[36mmode\u001b[0m=\u001b[35mtrain\u001b[0m \u001b[36mstep\u001b[0m=\u001b[35m300\u001b[0m\n",
      "\u001b[2m2025-09-03T13:55:51.047249Z\u001b[0m [\u001b[32m\u001b[1minfo     \u001b[0m] \u001b[1mLoss: 0.2565394937992096      \u001b[0m \u001b[36mepoch\u001b[0m=\u001b[35m30\u001b[0m \u001b[36mlr\u001b[0m=\u001b[35m[1.3315277218997964e-05]\u001b[0m \u001b[36mmode\u001b[0m=\u001b[35mtrain\u001b[0m \u001b[36mstep\u001b[0m=\u001b[35m400\u001b[0m\n",
      "\u001b[2m2025-09-03T13:56:00.691800Z\u001b[0m [\u001b[32m\u001b[1minfo     \u001b[0m] \u001b[1mLoss: 0.11866291612386703     \u001b[0m \u001b[36mepoch\u001b[0m=\u001b[35m30\u001b[0m \u001b[36mlr\u001b[0m=\u001b[35m[7.262606843304913e-06]\u001b[0m \u001b[36mmode\u001b[0m=\u001b[35mtrain\u001b[0m \u001b[36mstep\u001b[0m=\u001b[35m500\u001b[0m\n",
      "\u001b[2m2025-09-03T13:56:10.307970Z\u001b[0m [\u001b[32m\u001b[1minfo     \u001b[0m] \u001b[1mLoss: 0.0744125097990036      \u001b[0m \u001b[36mepoch\u001b[0m=\u001b[35m30\u001b[0m \u001b[36mlr\u001b[0m=\u001b[35m[3.037089269524926e-06]\u001b[0m \u001b[36mmode\u001b[0m=\u001b[35mtrain\u001b[0m \u001b[36mstep\u001b[0m=\u001b[35m600\u001b[0m\n",
      "\u001b[2m2025-09-03T13:56:19.922060Z\u001b[0m [\u001b[32m\u001b[1minfo     \u001b[0m] \u001b[1mLoss: 0.1769547015428543      \u001b[0m \u001b[36mepoch\u001b[0m=\u001b[35m30\u001b[0m \u001b[36mlr\u001b[0m=\u001b[35m[6.402708708670179e-07]\u001b[0m \u001b[36mmode\u001b[0m=\u001b[35mtrain\u001b[0m \u001b[36mstep\u001b[0m=\u001b[35m700\u001b[0m\n",
      "\u001b[2m2025-09-03T13:56:28.779229Z\u001b[0m [\u001b[32m\u001b[1minfo     \u001b[0m] \u001b[1mLoss: 0.18319259583950043     \u001b[0m \u001b[36mepoch\u001b[0m=\u001b[35m1\u001b[0m \u001b[36mlr\u001b[0m=\u001b[35mNone\u001b[0m \u001b[36mmode\u001b[0m=\u001b[35meval\u001b[0m \u001b[36mstep\u001b[0m=\u001b[35m100\u001b[0m\n",
      "\u001b[2m2025-09-03T13:56:29.893927Z\u001b[0m [\u001b[32m\u001b[1minfo     \u001b[0m] \u001b[1mLoss: 0.0813603475689888      \u001b[0m \u001b[36mepoch\u001b[0m=\u001b[35m1\u001b[0m \u001b[36mlr\u001b[0m=\u001b[35mNone\u001b[0m \u001b[36mmode\u001b[0m=\u001b[35meval\u001b[0m \u001b[36mstep\u001b[0m=\u001b[35m200\u001b[0m\n",
      "\u001b[2m2025-09-03T13:56:30.960092Z\u001b[0m [\u001b[32m\u001b[1minfo     \u001b[0m] \u001b[1mLoss: 0.1290895640850067      \u001b[0m \u001b[36mepoch\u001b[0m=\u001b[35m1\u001b[0m \u001b[36mlr\u001b[0m=\u001b[35mNone\u001b[0m \u001b[36mmode\u001b[0m=\u001b[35meval\u001b[0m \u001b[36mstep\u001b[0m=\u001b[35m300\u001b[0m\n",
      "\u001b[2m2025-09-03T13:56:31.103558Z\u001b[0m [\u001b[32m\u001b[1minfo     \u001b[0m] \u001b[1mMetric: {'eval_acc': 0.9334}  \u001b[0m\n",
      "\u001b[2m2025-09-03T13:56:31.103877Z\u001b[0m [\u001b[32m\u001b[1minfo     \u001b[0m] \u001b[1mEvaluation complete           \u001b[0m \u001b[36mstep\u001b[0m=\u001b[35m30\u001b[0m\n",
      "\u001b[2m2025-09-03T13:56:31.104044Z\u001b[0m [\u001b[32m\u001b[1minfo     \u001b[0m] \u001b[1mMetric: {'train_acc': 0.94778}\u001b[0m\n",
      "\u001b[2m2025-09-03T13:56:31.213863Z\u001b[0m [\u001b[32m\u001b[1minfo     \u001b[0m] \u001b[1msaved checkpoint              \u001b[0m \u001b[36mepoch\u001b[0m=\u001b[35m30\u001b[0m \u001b[36mpath\u001b[0m=\u001b[35mruns/train_img_clf_cifar10/run_20250903_184735/artifacts/checkpoints/ckpt_last.pt\u001b[0m\n",
      "\u001b[2m2025-09-03T13:56:31.218202Z\u001b[0m [\u001b[32m\u001b[1minfo     \u001b[0m] \u001b[1mEnded experiment session      \u001b[0m \u001b[36mrun_name\u001b[0m=\u001b[35mrun_20250903_184735\u001b[0m\n"
     ]
    }
   ],
   "source": [
    "from dataclasses import asdict\n",
    "from pathlib import Path\n",
    "\n",
    "import torch\n",
    "import torch.optim.lr_scheduler as lrs\n",
    "from torch.utils.data.dataloader import DataLoader\n",
    "\n",
    "from experiments.data_utils import create_dataloaders\n",
    "from experiments.image_clf.config import Config\n",
    "from experiments.image_clf.steps import eval_step, train_step\n",
    "from legoml.callbacks.checkpoint import CheckpointCallback\n",
    "from legoml.callbacks.eval import EvalOnEpochEndCallback\n",
    "from legoml.callbacks.metric import MetricsCallback\n",
    "from legoml.core.context import Context\n",
    "from legoml.core.engine import Engine\n",
    "from legoml.metrics.multiclass import MultiClassAccuracy\n",
    "from legoml.utils.log import get_logger\n",
    "from legoml.utils.seed import set_seed\n",
    "from legoml.utils.summary import summarize_model\n",
    "from legoml.utils.track import run\n",
    "\n",
    "logger = get_logger(__name__)\n",
    "device = torch.device(\"mps\")\n",
    "set_seed(42)\n",
    "config = Config(train_augmentation=True, max_epochs=30, data_root=\"../../raw_data/\")\n",
    "\n",
    "\n",
    "def build_optim_and_sched(\n",
    "    config: Config,\n",
    "    model: torch.nn.Module,\n",
    "    train_dl: DataLoader,\n",
    ") -> tuple[torch.optim.Optimizer, lrs.LRScheduler]:\n",
    "    optimizer = torch.optim.AdamW(\n",
    "        model.parameters(),\n",
    "        lr=1e-6,\n",
    "        weight_decay=0.0005,\n",
    "    )\n",
    "    scheduler = lrs.OneCycleLR(\n",
    "        optimizer,\n",
    "        epochs=config.max_epochs,\n",
    "        steps_per_epoch=len(train_dl),\n",
    "        max_lr=1e-2,\n",
    "    )\n",
    "    return optimizer, scheduler\n",
    "\n",
    "\n",
    "train_dl, eval_dl = create_dataloaders(\"cifar10\", config, \"classification\")\n",
    "model = mdl\n",
    "optim, sched = build_optim_and_sched(config, model, train_dl)\n",
    "\n",
    "with run(base_dir=Path(\"runs\").joinpath(\"train_img_clf_cifar10\")) as sess:\n",
    "    train_context = Context(\n",
    "        config=config,\n",
    "        model=model,\n",
    "        loss_fn=torch.nn.CrossEntropyLoss(),\n",
    "        optimizer=optim,\n",
    "        scheduler=sched,\n",
    "        device=device,\n",
    "        # scaler=torch.GradScaler(device=device.type),  # slow on M1 air\n",
    "    )\n",
    "    trainer = Engine(train_step, train_context)\n",
    "\n",
    "    eval_context = Context(\n",
    "        config=config,\n",
    "        model=model,\n",
    "        loss_fn=torch.nn.CrossEntropyLoss(),\n",
    "        device=device,\n",
    "    )\n",
    "    evaluator = Engine(\n",
    "        eval_step,\n",
    "        eval_context,\n",
    "        callbacks=[\n",
    "            MetricsCallback(metrics=[MultiClassAccuracy(\"eval_acc\")]),\n",
    "        ],\n",
    "    )\n",
    "\n",
    "    trainer.callbacks.extend(\n",
    "        [\n",
    "            EvalOnEpochEndCallback(evaluator, eval_dl, 1),\n",
    "            MetricsCallback(metrics=[MultiClassAccuracy(\"train_acc\")]),\n",
    "            CheckpointCallback(\n",
    "                dirpath=sess.get_artifact_dir().joinpath(\"checkpoints\"),\n",
    "                save_every_n_epochs=9999,\n",
    "                save_on_engine_end=True,\n",
    "                best_fn=lambda: evaluator.state.metrics[\"eval_acc\"],\n",
    "            ),\n",
    "        ]\n",
    "    )\n",
    "\n",
    "    summarize_model(model, next(iter(train_dl)).inputs, depth=2)\n",
    "    model.to(device)\n",
    "    trainer.loop(train_dl, max_epochs=config.max_epochs)\n",
    "    sess.log_params({\"exp_config\": asdict(config)})\n",
    "    sess.log_text(\"model\", str(model))\n",
    "    sess.log_params({\"trainer\": trainer.to_dict()})\n",
    "    sess.log_params({\"evaluator\": evaluator.to_dict()})"
   ]
  },
  {
   "cell_type": "code",
   "execution_count": 157,
   "id": "0c308d6f-5306-4a54-95a4-d869e3a323f8",
   "metadata": {},
   "outputs": [
    {
     "data": {
      "text/plain": [
       "True"
      ]
     },
     "execution_count": 157,
     "metadata": {},
     "output_type": "execute_result"
    }
   ],
   "source": [
    "3 + 1.1 if False else True"
   ]
  },
  {
   "cell_type": "code",
   "execution_count": 135,
   "id": "fd67e8ab-eb6f-4552-a2e2-41f33fd36210",
   "metadata": {},
   "outputs": [],
   "source": [
    "from experiments.image_clf.models import Res2NetWide_32x32"
   ]
  },
  {
   "cell_type": "code",
   "execution_count": 140,
   "id": "5048c2d9-1285-4e61-b59d-c7dae67d253d",
   "metadata": {},
   "outputs": [
    {
     "name": "stdout",
     "output_type": "stream",
     "text": [
      "----------------------------------------------------------------------------\n",
      "Name       | Type            | Params  | In               | Out             \n",
      "----------------------------------------------------------------------------\n",
      "stem       | Sequential      | 1.9 K   | [1, 3, 32, 32]   | [1, 64, 32, 32] \n",
      "stem.0     | ConvNormAct     | 1.9 K   | [1, 3, 32, 32]   | [1, 64, 32, 32] \n",
      "backbone   | Sequential      | 1.3 M   | [1, 64, 32, 32]  | [1, 256, 8, 8]  \n",
      "backbone.0 | Res2NetBlock    | 9.3 K   | [1, 64, 32, 32]  | [1, 64, 32, 32] \n",
      "backbone.1 | Res2NetBlock    | 9.3 K   | [1, 64, 32, 32]  | [1, 64, 32, 32] \n",
      "backbone.2 | ResNetBasic     | 230.1 K | [1, 64, 32, 32]  | [1, 128, 16, 16]\n",
      "backbone.3 | Res2NetBlock    | 27.8 K  | [1, 128, 16, 16] | [1, 128, 16, 16]\n",
      "backbone.4 | ResNetBasic     | 919.0 K | [1, 128, 16, 16] | [1, 256, 8, 8]  \n",
      "backbone.5 | Res2NetBlock    | 65.0 K  | [1, 256, 8, 8]   | [1, 256, 8, 8]  \n",
      "head       | Sequential      | 2.6 K   | [1, 256, 8, 8]   | [1, 10]         \n",
      "head.0     | GlobalAvgPool2d | 0       | [1, 256, 8, 8]   | [1, 256]        \n",
      "head.1     | FCNormAct       | 2.6 K   | [1, 256]         | [1, 10]         \n",
      "----------------------------------------------------------------------------\n",
      "1.3 M          Trainable params\n",
      "0              Non-trainable params\n",
      "1.3 M          Total params\n",
      "4.826          Total estimated parameter size (MiB)\n"
     ]
    }
   ],
   "source": [
    "dummy_ip = torch.randn(1, 3, 32, 32)\n",
    "model = Res2NetWide_32x32()\n",
    "_ = summarize_model(model, dummy_ip, depth=2)"
   ]
  },
  {
   "cell_type": "code",
   "execution_count": null,
   "id": "4106fe06-f1bd-43b6-bedd-314c6c614084",
   "metadata": {},
   "outputs": [],
   "source": []
  },
  {
   "cell_type": "code",
   "execution_count": 159,
   "id": "6886ff42-4272-4110-acb1-821759f7399c",
   "metadata": {},
   "outputs": [
    {
     "data": {
      "text/plain": [
       "torch.Size([4, 64, 32, 32])"
      ]
     },
     "execution_count": 159,
     "metadata": {},
     "output_type": "execute_result"
    }
   ],
   "source": [
    "x.shape"
   ]
  },
  {
   "cell_type": "code",
   "execution_count": 162,
   "id": "5ad3d305-068f-4e4c-99bc-e06fd6e89e3b",
   "metadata": {},
   "outputs": [
    {
     "data": {
      "text/plain": [
       "torch.Size([4, 1, 32, 32])"
      ]
     },
     "execution_count": 162,
     "metadata": {},
     "output_type": "execute_result"
    }
   ],
   "source": [
    "x.mean(dim=1, keepdim=True).shape"
   ]
  },
  {
   "cell_type": "code",
   "execution_count": 164,
   "id": "2492719e-39d6-46c2-b286-d097c7c92406",
   "metadata": {},
   "outputs": [
    {
     "data": {
      "text/plain": [
       "torch.Size([4, 64, 32, 32])"
      ]
     },
     "execution_count": 164,
     "metadata": {},
     "output_type": "execute_result"
    }
   ],
   "source": [
    "x.shape"
   ]
  },
  {
   "cell_type": "code",
   "execution_count": null,
   "id": "d31f2c7e-6d22-41d8-a86b-bc6a2192ede9",
   "metadata": {},
   "outputs": [],
   "source": []
  },
  {
   "cell_type": "code",
   "execution_count": 171,
   "id": "8c804fc3-e5af-4fdb-906f-b399e4832ecb",
   "metadata": {},
   "outputs": [],
   "source": [
    "gx = torch.norm(x, p=2, dim=(-1, -2), keepdim=True)"
   ]
  },
  {
   "cell_type": "code",
   "execution_count": 172,
   "id": "79d66ba4-d744-44e3-9797-84264049532d",
   "metadata": {},
   "outputs": [],
   "source": [
    "nx = gx / (gx.mean(dim=1, keepdim=True) + 1e-6)\n"
   ]
  },
  {
   "cell_type": "code",
   "execution_count": 173,
   "id": "8efcdef9-a119-48cc-bf75-ef01f7296975",
   "metadata": {},
   "outputs": [
    {
     "data": {
      "text/plain": [
       "torch.Size([4, 64, 1, 1])"
      ]
     },
     "execution_count": 173,
     "metadata": {},
     "output_type": "execute_result"
    }
   ],
   "source": [
    "nx.shape"
   ]
  },
  {
   "cell_type": "code",
   "execution_count": null,
   "id": "e4d97f85-4027-44cd-9882-faf0be5345e4",
   "metadata": {},
   "outputs": [],
   "source": [
    "gx = torch.norm(x, p=2, dim=(1, 2), keepdim=True)\n",
    "nx = gx / (gx.mean(dim=-1, keepdim=True) + 1e-6)\n",
    "res = self.gamma * (x * nx) + self.beta + x"
   ]
  },
  {
   "cell_type": "code",
   "execution_count": 181,
   "id": "078cf2d4-4745-4053-903a-430a0f954c4c",
   "metadata": {},
   "outputs": [
    {
     "data": {
      "text/plain": [
       "torch.Size([4, 64, 32, 32])"
      ]
     },
     "execution_count": 181,
     "metadata": {},
     "output_type": "execute_result"
    }
   ],
   "source": [
    "x.shape"
   ]
  },
  {
   "cell_type": "code",
   "execution_count": 190,
   "id": "6d23a2c0-34c3-40d1-8eee-b61cb10d1de6",
   "metadata": {},
   "outputs": [],
   "source": [
    "# Built-in, matches einops exactly\n",
    "r=4\n",
    "builtin_out = torch.nn.PixelUnshuffle(r)(x)"
   ]
  },
  {
   "cell_type": "code",
   "execution_count": 184,
   "id": "d6f7b131-56ca-41eb-aff6-4681708b083d",
   "metadata": {},
   "outputs": [],
   "source": [
    "# Canonical, zero-copy (when possible)\n",
    "from einops import rearrange\n",
    "\n",
    "def space_to_depth_einops(x, r):\n",
    "    b, c, h, w = x.shape\n",
    "    assert h % r == 0 and w % r == 0\n",
    "    return rearrange(x, 'b c (ho r1) (wo r2) -> b (c r1 r2) ho wo', r1=r, r2=r)\n",
    "\n",
    "# Using Unfold — must re-permute the (kH,kW) factors\n",
    "import torch\n",
    "import torch.nn.functional as F\n",
    "\n",
    "def space_to_depth_unfold(x, r):\n",
    "    b, c, h, w = x.shape\n",
    "    assert h % r == 0 and w % r == 0\n",
    "    y = F.unfold(x, kernel_size=r, stride=r)            # [B, C*r*r, (H/r)*(W/r)]\n",
    "    y = y.view(b, c, r, r, h // r, w // r)              # make kH,kW explicit\n",
    "    y = y.permute(0, 1, 4, 5, 2, 3).contiguous()        # (B,C,Ho,Wo,r,r)\n",
    "    return y.view(b, c * r * r, h // r, w // r)         # (B,C*r*r,Ho,Wo)\n"
   ]
  },
  {
   "cell_type": "code",
   "execution_count": 185,
   "id": "86a84bbc-582c-47ef-82ef-03e85a012635",
   "metadata": {},
   "outputs": [],
   "source": [
    "ein_out = space_to_depth_einops(x, r)"
   ]
  },
  {
   "cell_type": "code",
   "execution_count": 186,
   "id": "fd0c7950-d61c-4e2e-a281-390a24c6902e",
   "metadata": {},
   "outputs": [
    {
     "data": {
      "text/plain": [
       "torch.Size([4, 1024, 8, 8])"
      ]
     },
     "execution_count": 186,
     "metadata": {},
     "output_type": "execute_result"
    }
   ],
   "source": [
    "ein_out.shape"
   ]
  },
  {
   "cell_type": "code",
   "execution_count": 187,
   "id": "40fa864c-28f5-4bc5-9a59-5a70b2486761",
   "metadata": {},
   "outputs": [],
   "source": [
    "unfold_out = space_to_depth_unfold(x, r)"
   ]
  },
  {
   "cell_type": "code",
   "execution_count": 188,
   "id": "12896681-26e8-42c7-9713-adcb5c6c96f6",
   "metadata": {},
   "outputs": [
    {
     "data": {
      "text/plain": [
       "torch.Size([4, 1024, 8, 8])"
      ]
     },
     "execution_count": 188,
     "metadata": {},
     "output_type": "execute_result"
    }
   ],
   "source": [
    "unfold_out.shape"
   ]
  },
  {
   "cell_type": "code",
   "execution_count": 191,
   "id": "a88de39d-0fbe-4c93-beb4-f2c1f10f5e7b",
   "metadata": {},
   "outputs": [
    {
     "data": {
      "text/plain": [
       "True"
      ]
     },
     "execution_count": 191,
     "metadata": {},
     "output_type": "execute_result"
    }
   ],
   "source": [
    "torch.allclose(ein_out, builtin_out)"
   ]
  },
  {
   "cell_type": "code",
   "execution_count": 192,
   "id": "7e25f9ca-ab09-4b74-bd3f-cda4329a3b8a",
   "metadata": {},
   "outputs": [
    {
     "data": {
      "text/plain": [
       "False"
      ]
     },
     "execution_count": 192,
     "metadata": {},
     "output_type": "execute_result"
    }
   ],
   "source": [
    "torch.allclose(unfold_out, builtin_out)"
   ]
  },
  {
   "cell_type": "code",
   "execution_count": 194,
   "id": "d752e78d-7c51-4381-aaa7-753460ce6f93",
   "metadata": {},
   "outputs": [
    {
     "data": {
      "text/plain": [
       "(torch.Size([4, 1024, 8, 8]), torch.Size([4, 1024, 8, 8]))"
      ]
     },
     "execution_count": 194,
     "metadata": {},
     "output_type": "execute_result"
    }
   ],
   "source": [
    "unfold_out.shape, ein_out.shape"
   ]
  },
  {
   "cell_type": "code",
   "execution_count": 205,
   "id": "2aa53e48-1522-4baa-9d03-139c3224fb34",
   "metadata": {},
   "outputs": [
    {
     "data": {
      "text/plain": [
       "torch.Size([1, 4, 1, 1])"
      ]
     },
     "execution_count": 205,
     "metadata": {},
     "output_type": "execute_result"
    }
   ],
   "source": [
    "torch.ones(4).view(1, -1, 1, 1).shape"
   ]
  },
  {
   "cell_type": "code",
   "execution_count": 206,
   "id": "49ef621c-9e34-47f2-9267-e8294e04e4ab",
   "metadata": {},
   "outputs": [
    {
     "data": {
      "text/plain": [
       "torch.Size([1, 4, 1, 1])"
      ]
     },
     "execution_count": 206,
     "metadata": {},
     "output_type": "execute_result"
    }
   ],
   "source": [
    "torch.full((1, 4, 1, 1), 0.5).shape"
   ]
  },
  {
   "cell_type": "code",
   "execution_count": 207,
   "id": "d741f70f-199a-4438-915d-e0a8ab268d21",
   "metadata": {},
   "outputs": [],
   "source": [
    "x = torch.rand(1, 3, 32, 32)"
   ]
  },
  {
   "cell_type": "code",
   "execution_count": 208,
   "id": "1c667986-fdc5-422b-8047-7c213f7d416a",
   "metadata": {},
   "outputs": [],
   "source": [
    "from legoml.nn.ops import SpaceToDepth"
   ]
  },
  {
   "cell_type": "code",
   "execution_count": 214,
   "id": "061c47e8-cff4-4d2e-80ed-1600a5f6555a",
   "metadata": {},
   "outputs": [],
   "source": [
    "s2d = SpaceToDepth(4)"
   ]
  },
  {
   "cell_type": "code",
   "execution_count": 215,
   "id": "4a774d60-5e28-40cb-922e-d04fff52a14c",
   "metadata": {},
   "outputs": [
    {
     "data": {
      "text/plain": [
       "torch.Size([1, 48, 8, 8])"
      ]
     },
     "execution_count": 215,
     "metadata": {},
     "output_type": "execute_result"
    }
   ],
   "source": [
    "s2d(x).shape"
   ]
  },
  {
   "cell_type": "markdown",
   "id": "4d414f7f-c8c4-41ff-b94c-d21d77610bac",
   "metadata": {},
   "source": [
    "## lrs"
   ]
  },
  {
   "cell_type": "code",
   "execution_count": 31,
   "id": "8977c5f9-0bd7-4109-aef2-325b50252d18",
   "metadata": {},
   "outputs": [],
   "source": [
    "# warmup_anneal_then_plateau.py\n",
    "from __future__ import annotations\n",
    "import math\n",
    "from typing import Iterable, List, Optional, Union\n",
    "import torch\n",
    "from torch.optim import Optimizer\n",
    "\n",
    "class WarmupAnnealThenPlateau:\n",
    "    \"\"\"\n",
    "    Two-phase LR schedule:\n",
    "      A) Per-step:\n",
    "         - Warmup:   start_lr -> max_lr over (pct_start * total_steps) [linear]\n",
    "         - Anneal:   max_lr   -> base_lr over remaining steps [cos or linear]\n",
    "\n",
    "    Usage (per *batch* call .step(); per *epoch* call .step_plateau(val_metric)):\n",
    "        sched = WarmupAnnealThenPlateau(\n",
    "            optimizer,\n",
    "            total_epochs=30, steps_per_epoch=len(train_dl),\n",
    "            pct_start=0.1,\n",
    "            start_lr=1e-3, max_lr=0.1, base_lr=1e-2,\n",
    "            anneal_strategy=\"cos\",       # \"cos\" or \"linear\"\n",
    "            plateau_mode=\"min\",          # \"min\" for loss, \"max\" for accuracy\n",
    "            plateau_factor=0.5,\n",
    "            plateau_patience=2,\n",
    "            plateau_cooldown=0,\n",
    "            plateau_min_lr=1e-6,\n",
    "        )\n",
    "\n",
    "        for epoch in range(num_epochs):\n",
    "            model.train()\n",
    "            for batch in train_loader:\n",
    "                loss = ...\n",
    "                loss.backward()\n",
    "                optimizer.step()\n",
    "                optimizer.zero_grad(set_to_none=True)\n",
    "                sched.step()              # <-- per-batch\n",
    "\n",
    "            model.eval()\n",
    "            val_loss = evaluate(...)\n",
    "            sched.step_plateau(val_loss) # <-- per-epoch (only matters in plateau phase)\n",
    "    \"\"\"\n",
    "\n",
    "    def __init__(\n",
    "        self,\n",
    "        optimizer: Optimizer,\n",
    "        total_steps: Optional[int] = None,\n",
    "        *,\n",
    "        total_epochs: Optional[int] = None,\n",
    "        steps_per_epoch: Optional[int] = None,\n",
    "        pct_start: float = 0.1,\n",
    "        start_lr: Optional[Union[float, List[float]]] = None,\n",
    "        max_lr: Optional[Union[float, List[float]]] = None,\n",
    "        base_lr: Optional[Union[float, List[float]]] = None,\n",
    "        anneal_strategy: str = \"cos\",  # \"cos\" or \"linear\"\n",
    "        plateau_mode: str = \"min\",\n",
    "        plateau_factor: float = 0.5,\n",
    "        plateau_patience: int = 2,\n",
    "        plateau_threshold: float = 1e-4,\n",
    "        plateau_cooldown: int = 0,\n",
    "        plateau_min_lr: Union[float, List[float]] = 0.0,\n",
    "        eps: float = 1e-8,\n",
    "    ):\n",
    "        if total_steps is None:\n",
    "            if total_epochs is None or steps_per_epoch is None:\n",
    "                raise ValueError(\"Provide either total_steps or (total_epochs and steps_per_epoch).\")\n",
    "            total_steps = total_epochs * steps_per_epoch\n",
    "        if total_steps <= 0:\n",
    "            raise ValueError(\"total_steps must be > 0.\")\n",
    "        if not (0 < pct_start <= 1):\n",
    "            raise ValueError(\"pct_start must be in (0, 1].\")\n",
    "        if anneal_strategy not in (\"cos\", \"linear\"):\n",
    "            raise ValueError(\"anneal_strategy must be 'cos' or 'linear'.\")\n",
    "\n",
    "        self.optimizer = optimizer\n",
    "        self.n_groups = len(optimizer.param_groups)\n",
    "        self.total_steps = int(total_steps)\n",
    "        self.pct_start = float(pct_start)\n",
    "        self.anneal_strategy = anneal_strategy\n",
    "        self.eps = eps\n",
    "\n",
    "        current_lrs = [g.get(\"lr\", 0.0) for g in optimizer.param_groups]\n",
    "\n",
    "        def _to_list(x, default):\n",
    "            if x is None:\n",
    "                return [default for _ in range(self.n_groups)]\n",
    "            if isinstance(x, (list, tuple)):\n",
    "                if len(x) != self.n_groups:\n",
    "                    raise ValueError(\"List-like LR must match #param_groups.\")\n",
    "                return list(x)\n",
    "            return [float(x) for _ in range(self.n_groups)]\n",
    "\n",
    "        base_lrs = _to_list(base_lr, None)\n",
    "        if any(v is None for v in base_lrs):\n",
    "            base_lrs = current_lrs\n",
    "        start_lrs = _to_list(start_lr, None)\n",
    "        if any(v is None for v in start_lrs):\n",
    "            start_lrs = [max(self.eps, blr * 0.1) for blr in base_lrs]\n",
    "        max_lrs = _to_list(max_lr, None)\n",
    "        if any(v is None for v in max_lrs):\n",
    "            max_lrs = [max(blr + self.eps, blr * 10.0) for blr in base_lrs]\n",
    "        min_lrs = _to_list(plateau_min_lr, 0.0)\n",
    "\n",
    "        self.start_lrs = [float(v) for v in start_lrs]\n",
    "        self.max_lrs = [float(v) for v in max_lrs]\n",
    "        self.base_lrs = [float(v) for v in base_lrs]\n",
    "        self.min_lrs = [float(v) for v in min_lrs]\n",
    "\n",
    "        # Initialize optimizer to start_lrs\n",
    "        for g, lr in zip(self.optimizer.param_groups, self.start_lrs):\n",
    "            g[\"lr\"] = lr\n",
    "\n",
    "        self.warmup_steps = max(1, int(round(self.total_steps * self.pct_start)))\n",
    "        self.anneal_steps = max(1, self.total_steps - self.warmup_steps)\n",
    "        self.last_step = -1\n",
    "\n",
    "        self.phase = \"warmup\" if self.warmup_steps > 0 else \"anneal\"\n",
    "        self._plateau = torch.optim.lr_scheduler.ReduceLROnPlateau(\n",
    "            self.optimizer,\n",
    "            mode=plateau_mode,\n",
    "            factor=plateau_factor,\n",
    "            patience=plateau_patience,\n",
    "            threshold=plateau_threshold,\n",
    "            cooldown=plateau_cooldown,\n",
    "            min_lr=self.min_lrs if self.n_groups > 1 else self.min_lrs[0],\n",
    "            eps=self.eps,\n",
    "        )\n",
    "        self._in_plateau = False\n",
    "\n",
    "    # ----- public API -----\n",
    "    def step(self) -> None:\n",
    "        \"\"\"Call once per *iteration* (batch). No metric needed.\"\"\"\n",
    "        if self.phase == \"plateau\":\n",
    "            self.last_step += 1\n",
    "            return\n",
    "        self.last_step += 1\n",
    "        if self.phase == \"warmup\":\n",
    "            self._step_warmup(min(self.last_step, self.warmup_steps - 1))\n",
    "            if self.phase != \"warmup\":\n",
    "                self._anneal_k = -1\n",
    "        if self.phase == \"anneal\":\n",
    "            self._anneal_k = getattr(self, \"_anneal_k\", -1) + 1\n",
    "            self._step_anneal(self._anneal_k)\n",
    "\n",
    "    def step_plateau(self, metrics: float) -> None:\n",
    "        \"\"\"\n",
    "        Call once per *epoch* with validation metric.\n",
    "        - During warmup/anneal: no effect (we're still moving toward base_lr).\n",
    "        - During plateau: delegates to ReduceLROnPlateau.\n",
    "        \"\"\"\n",
    "        if self._in_plateau:\n",
    "            self._plateau.step(float(metrics))\n",
    "\n",
    "    def get_last_lr(self) -> List[float]:\n",
    "        return [g[\"lr\"] for g in self.optimizer.param_groups]\n",
    "\n",
    "    def state_dict(self):\n",
    "        return {\n",
    "            \"start_lrs\": self.start_lrs,\n",
    "            \"max_lrs\": self.max_lrs,\n",
    "            \"base_lrs\": self.base_lrs,\n",
    "            \"min_lrs\": self.min_lrs,\n",
    "            \"warmup_steps\": self.warmup_steps,\n",
    "            \"anneal_steps\": self.anneal_steps,\n",
    "            \"last_step\": self.last_step,\n",
    "            \"phase\": self.phase,\n",
    "            \"in_plateau\": self._in_plateau,\n",
    "            \"plateau\": self._plateau.state_dict(),\n",
    "        }\n",
    "\n",
    "    def load_state_dict(self, state):\n",
    "        self.start_lrs  = state[\"start_lrs\"]\n",
    "        self.max_lrs    = state[\"max_lrs\"]\n",
    "        self.base_lrs   = state[\"base_lrs\"]\n",
    "        self.min_lrs    = state[\"min_lrs\"]\n",
    "        self.warmup_steps = state[\"warmup_steps\"]\n",
    "        self.anneal_steps = state[\"anneal_steps\"]\n",
    "        self.last_step  = state[\"last_step\"]\n",
    "        self.phase      = state[\"phase\"]\n",
    "        self._in_plateau = state[\"in_plateau\"]\n",
    "        self._plateau.load_state_dict(state[\"plateau\"])\n",
    "\n",
    "    # ----- internals -----\n",
    "    def _interp(self, a: float, b: float, t: float, strategy: str) -> float:\n",
    "        t = min(max(t, 0.0), 1.0)\n",
    "        if strategy == \"linear\":\n",
    "            return a + (b - a) * t\n",
    "        # cosine: a -> b\n",
    "        cos_t = (1 + math.cos(math.pi * t)) / 2.0  # 1->0\n",
    "        return b + (a - b) * cos_t                  # t=0=>a, t=1=>b\n",
    "\n",
    "    def _set_lrs(self, lrs: Iterable[float]) -> None:\n",
    "        for g, lr in zip(self.optimizer.param_groups, lrs):\n",
    "            g[\"lr\"] = max(self.eps, float(lr))\n",
    "\n",
    "    def _step_warmup(self, k: int):\n",
    "        t = (k + 1) / self.warmup_steps\n",
    "        lrs = [self._interp(s, m, t, \"linear\") for s, m in zip(self.start_lrs, self.max_lrs)]\n",
    "        self._set_lrs(lrs)\n",
    "        if k + 1 >= self.warmup_steps:\n",
    "            self.phase = \"anneal\"\n",
    "\n",
    "    def _step_anneal(self, k: int):\n",
    "        t = 1.0 if self.anneal_steps <= 1 else (k + 1) / self.anneal_steps\n",
    "        lrs = [self._interp(m, b, t, self.anneal_strategy) for m, b in zip(self.max_lrs, self.base_lrs)]\n",
    "        self._set_lrs(lrs)\n",
    "        if k + 1 >= self.anneal_steps:\n",
    "            self._set_lrs(self.base_lrs)  # snap exactly\n",
    "            self.phase = \"plateau\"\n",
    "            self._in_plateau = True\n"
   ]
  },
  {
   "cell_type": "code",
   "execution_count": null,
   "id": "6fd35923-e00c-4da7-9dcc-e68749a9c215",
   "metadata": {},
   "outputs": [],
   "source": [
    "# warmup_anneal_then_plateau.py\n",
    "from __future__ import annotations\n",
    "import math\n",
    "from typing import Iterable, List, Optional, Union\n",
    "import torch\n",
    "from torch.optim import Optimizer\n",
    "\n",
    "class WarmupAnnealThenPlateau:\n",
    "    \"\"\"\n",
    "    Two-phase LR schedule:\n",
    "      A) Per-step:\n",
    "         - Warmup:   start_lr -> max_lr over (pct_start * total_steps) [linear]\n",
    "         - Anneal:   max_lr   -> base_lr over remaining steps [cos or linear]\n",
    "\n",
    "    Usage (per *batch* call .step(); per *epoch* call .step_plateau(val_metric)):\n",
    "        sched = WarmupAnnealThenPlateau(\n",
    "            optimizer,\n",
    "            total_epochs=30, steps_per_epoch=len(train_dl),\n",
    "            pct_start=0.1,\n",
    "            start_lr=1e-3, max_lr=0.1, base_lr=1e-2,\n",
    "            anneal_strategy=\"cos\",       # \"cos\" or \"linear\"\n",
    "            plateau_mode=\"min\",          # \"min\" for loss, \"max\" for accuracy\n",
    "            plateau_factor=0.5,\n",
    "            plateau_patience=2,\n",
    "            plateau_cooldown=0,\n",
    "            plateau_min_lr=1e-6,\n",
    "        )\n",
    "\n",
    "        for epoch in range(num_epochs):\n",
    "            model.train()\n",
    "            for batch in train_loader:\n",
    "                loss = ...\n",
    "                loss.backward()\n",
    "                optimizer.step()\n",
    "                optimizer.zero_grad(set_to_none=True)\n",
    "                sched.step()              # <-- per-batch\n",
    "\n",
    "            model.eval()\n",
    "            val_loss = evaluate(...)\n",
    "            sched.step_plateau(val_loss) # <-- per-epoch (only matters in plateau phase)\n",
    "    \"\"\"\n",
    "\n",
    "    def __init__(\n",
    "        self,\n",
    "        optimizer: Optimizer,\n",
    "        *,\n",
    "        total_epochs: Optional[int] = None,\n",
    "        steps_per_epoch: Optional[int] = None,\n",
    "        pct_start: float = 0.1,\n",
    "        start_lr: Optional[Union[float, List[float]]] = None,\n",
    "        max_lr: Optional[Union[float, List[float]]] = None,\n",
    "        base_lr: Optional[Union[float, List[float]]] = None,\n",
    "        anneal_strategy: Literal[\"cos\",  = \"cos\",  # \"cos\" or \"linear\"\n",
    "        plateau_mode: str = \"min\",\n",
    "        plateau_factor: float = 0.5,\n",
    "        plateau_patience: int = 2,\n",
    "        plateau_threshold: float = 1e-4,\n",
    "        plateau_cooldown: int = 0,\n",
    "        plateau_min_lr: Union[float, List[float]] = 0.0,\n",
    "        eps: float = 1e-8,\n",
    "    ):\n",
    "    \n",
    "        self.optimizer = optimizer\n",
    "        self.n_groups = len(optimizer.param_groups)\n",
    "        self.total_steps = int(total_steps)\n",
    "        self.pct_start = float(pct_start)\n",
    "        self.anneal_strategy = anneal_strategy\n",
    "        self.eps = eps\n",
    "\n",
    "        current_lrs = [g.get(\"lr\", 0.0) for g in optimizer.param_groups]\n",
    "\n",
    "        def _to_list(x, default):\n",
    "            if x is None:\n",
    "                return [default for _ in range(self.n_groups)]\n",
    "            if isinstance(x, (list, tuple)):\n",
    "                if len(x) != self.n_groups:\n",
    "                    raise ValueError(\"List-like LR must match #param_groups.\")\n",
    "                return list(x)\n",
    "            return [float(x) for _ in range(self.n_groups)]\n",
    "\n",
    "        base_lrs = _to_list(base_lr, None)\n",
    "        if any(v is None for v in base_lrs):\n",
    "            base_lrs = current_lrs\n",
    "        start_lrs = _to_list(start_lr, None)\n",
    "        if any(v is None for v in start_lrs):\n",
    "            start_lrs = [max(self.eps, blr * 0.1) for blr in base_lrs]\n",
    "        max_lrs = _to_list(max_lr, None)\n",
    "        if any(v is None for v in max_lrs):\n",
    "            max_lrs = [max(blr + self.eps, blr * 10.0) for blr in base_lrs]\n",
    "        min_lrs = _to_list(plateau_min_lr, 0.0)\n",
    "\n",
    "        self.start_lrs = [float(v) for v in start_lrs]\n",
    "        self.max_lrs = [float(v) for v in max_lrs]\n",
    "        self.base_lrs = [float(v) for v in base_lrs]\n",
    "        self.min_lrs = [float(v) for v in min_lrs]\n",
    "\n",
    "        # Initialize optimizer to start_lrs\n",
    "        for g, lr in zip(self.optimizer.param_groups, self.start_lrs):\n",
    "            g[\"lr\"] = lr\n",
    "\n",
    "        self.warmup_steps = max(1, int(round(self.total_steps * self.pct_start)))\n",
    "        self.anneal_steps = max(1, self.total_steps - self.warmup_steps)\n",
    "        self.last_step = -1\n",
    "\n",
    "        self.phase = \"warmup\" if self.warmup_steps > 0 else \"anneal\"\n",
    "        self._plateau = torch.optim.lr_scheduler.ReduceLROnPlateau(\n",
    "            self.optimizer,\n",
    "            mode=plateau_mode,\n",
    "            factor=plateau_factor,\n",
    "            patience=plateau_patience,\n",
    "            threshold=plateau_threshold,\n",
    "            cooldown=plateau_cooldown,\n",
    "            min_lr=self.min_lrs if self.n_groups > 1 else self.min_lrs[0],\n",
    "            eps=self.eps,\n",
    "        )\n",
    "        self._in_plateau = False\n",
    "\n",
    "    # ----- public API -----\n",
    "    def step(self) -> None:\n",
    "        \"\"\"Call once per *iteration* (batch). No metric needed.\"\"\"\n",
    "        if self.phase == \"plateau\":\n",
    "            self.last_step += 1\n",
    "            return\n",
    "        self.last_step += 1\n",
    "        if self.phase == \"warmup\":\n",
    "            self._step_warmup(min(self.last_step, self.warmup_steps - 1))\n",
    "            if self.phase != \"warmup\":\n",
    "                self._anneal_k = -1\n",
    "        if self.phase == \"anneal\":\n",
    "            self._anneal_k = getattr(self, \"_anneal_k\", -1) + 1\n",
    "            self._step_anneal(self._anneal_k)\n",
    "\n",
    "    def step_plateau(self, metrics: float) -> None:\n",
    "        \"\"\"\n",
    "        Call once per *epoch* with validation metric.\n",
    "        - During warmup/anneal: no effect (we're still moving toward base_lr).\n",
    "        - During plateau: delegates to ReduceLROnPlateau.\n",
    "        \"\"\"\n",
    "        if self._in_plateau:\n",
    "            self._plateau.step(float(metrics))\n",
    "\n",
    "    def get_last_lr(self) -> List[float]:\n",
    "        return [g[\"lr\"] for g in self.optimizer.param_groups]\n",
    "\n",
    "    def state_dict(self):\n",
    "        return {\n",
    "            \"start_lrs\": self.start_lrs,\n",
    "            \"max_lrs\": self.max_lrs,\n",
    "            \"base_lrs\": self.base_lrs,\n",
    "            \"min_lrs\": self.min_lrs,\n",
    "            \"warmup_steps\": self.warmup_steps,\n",
    "            \"anneal_steps\": self.anneal_steps,\n",
    "            \"last_step\": self.last_step,\n",
    "            \"phase\": self.phase,\n",
    "            \"in_plateau\": self._in_plateau,\n",
    "            \"plateau\": self._plateau.state_dict(),\n",
    "        }\n",
    "\n",
    "    def load_state_dict(self, state):\n",
    "        self.start_lrs  = state[\"start_lrs\"]\n",
    "        self.max_lrs    = state[\"max_lrs\"]\n",
    "        self.base_lrs   = state[\"base_lrs\"]\n",
    "        self.min_lrs    = state[\"min_lrs\"]\n",
    "        self.warmup_steps = state[\"warmup_steps\"]\n",
    "        self.anneal_steps = state[\"anneal_steps\"]\n",
    "        self.last_step  = state[\"last_step\"]\n",
    "        self.phase      = state[\"phase\"]\n",
    "        self._in_plateau = state[\"in_plateau\"]\n",
    "        self._plateau.load_state_dict(state[\"plateau\"])\n",
    "\n",
    "    # ----- internals -----\n",
    "    def _interp(self, a: float, b: float, t: float, strategy: str) -> float:\n",
    "        t = min(max(t, 0.0), 1.0)\n",
    "        if strategy == \"linear\":\n",
    "            return a + (b - a) * t\n",
    "        # cosine: a -> b\n",
    "        cos_t = (1 + math.cos(math.pi * t)) / 2.0  # 1->0\n",
    "        return b + (a - b) * cos_t                  # t=0=>a, t=1=>b\n",
    "\n",
    "    def _set_lrs(self, lrs: Iterable[float]) -> None:\n",
    "        for g, lr in zip(self.optimizer.param_groups, lrs):\n",
    "            g[\"lr\"] = max(self.eps, float(lr))\n",
    "\n",
    "    def _step_warmup(self, k: int):\n",
    "        t = (k + 1) / self.warmup_steps\n",
    "        lrs = [self._interp(s, m, t, \"linear\") for s, m in zip(self.start_lrs, self.max_lrs)]\n",
    "        self._set_lrs(lrs)\n",
    "        if k + 1 >= self.warmup_steps:\n",
    "            self.phase = \"anneal\"\n",
    "\n",
    "    def _step_anneal(self, k: int):\n",
    "        t = 1.0 if self.anneal_steps <= 1 else (k + 1) / self.anneal_steps\n",
    "        lrs = [self._interp(m, b, t, self.anneal_strategy) for m, b in zip(self.max_lrs, self.base_lrs)]\n",
    "        self._set_lrs(lrs)\n",
    "        if k + 1 >= self.anneal_steps:\n",
    "            self._set_lrs(self.base_lrs)  # snap exactly\n",
    "            self.phase = \"plateau\"\n",
    "            self._in_plateau = True\n"
   ]
  },
  {
   "cell_type": "code",
   "execution_count": null,
   "id": "00cafc6d-3af7-4599-ae61-bf676fb89dbb",
   "metadata": {},
   "outputs": [],
   "source": []
  },
  {
   "cell_type": "code",
   "execution_count": null,
   "id": "8e378dbe-01cf-4449-9d42-111df5faae8a",
   "metadata": {},
   "outputs": [],
   "source": []
  },
  {
   "cell_type": "code",
   "execution_count": null,
   "id": "523944d8-8c08-4ec6-8605-2bbc6c44bf9c",
   "metadata": {},
   "outputs": [],
   "source": []
  },
  {
   "cell_type": "code",
   "execution_count": 35,
   "id": "745e87c1-97c2-412f-97cb-73950eae1d55",
   "metadata": {},
   "outputs": [
    {
     "data": {
      "image/png": "[encoded data removed]",
      "text/plain": [
       "<Figure size 800x400 with 1 Axes>"
      ]
     },
     "metadata": {},
     "output_type": "display_data"
    }
   ],
   "source": [
    "import matplotlib.pyplot as plt\n",
    "\n",
    "def simulate_and_plot_lrs(optimizer, scheduler, steps_per_epoch, num_epochs, metric_trajectory=\"plateau\"):\n",
    "    \"\"\"\n",
    "    metric_trajectory:\n",
    "      - \"plateau\": improves first few epochs then stagnates\n",
    "      - \"improving\": keeps improving (no LR drop on plateau)\n",
    "      - \"worsening\": gets worse (forces LR to drop when in plateau)\n",
    "    \"\"\"\n",
    "    lrs, marks = [], []\n",
    "    best = 1.0\n",
    "    for epoch in range(num_epochs):\n",
    "        # pretend training\n",
    "        for _ in range(steps_per_epoch):\n",
    "            optimizer.step()\n",
    "            scheduler.step()\n",
    "            lrs.append(scheduler.get_last_lr()[0])\n",
    "        # pretend validation metric\n",
    "        if metric_trajectory == \"plateau\":\n",
    "            metric = best if epoch >= 4 else best * (0.8 ** (epoch + 1))\n",
    "        elif metric_trajectory == \"improving\":\n",
    "            metric = best * (0.8 ** (epoch + 1))\n",
    "        else:  # worsening\n",
    "            metric = best * (1.05 ** (epoch + 1))\n",
    "        scheduler.step_plateau(metric)\n",
    "        marks.append(len(lrs))  # end-of-epoch marker\n",
    "\n",
    "    # Plot\n",
    "    plt.figure(figsize=(8, 4))\n",
    "    plt.plot(lrs, label=\"LR\")\n",
    "    for m in marks:\n",
    "        plt.axvline(m, linestyle=\"--\", alpha=0.2)\n",
    "    plt.title(\"Learning Rate over Steps\")\n",
    "    plt.xlabel(\"Optimizer steps\")\n",
    "    plt.ylabel(\"LR\")\n",
    "    plt.legend()\n",
    "    plt.show()\n",
    "\n",
    "# Example (toy):\n",
    "model = nn.Linear(128, 10)\n",
    "opt2 = torch.optim.SGD(model.parameters(), lr=1e-3, momentum=0.9)\n",
    "sched2 = WarmupAnnealThenPlateau(\n",
    "    opt2,\n",
    "    total_epochs=10, steps_per_epoch=100,\n",
    "    pct_start=0.2,\n",
    "    start_lr=1e-3, max_lr=0.05, base_lr=0.01,\n",
    "    anneal_strategy=\"cos\",\n",
    "    plateau_mode=\"min\",\n",
    "    plateau_factor=0.5,\n",
    "    plateau_patience=1,\n",
    "    plateau_min_lr=1e-6,\n",
    ")\n",
    "simulate_and_plot_lrs(opt2, sched2, steps_per_epoch=60, num_epochs=60, metric_trajectory=\"plateau\")"
   ]
  },
  {
   "cell_type": "code",
   "execution_count": null,
   "id": "c983e6b4-b747-450a-bb11-649b180b4b6c",
   "metadata": {},
   "outputs": [],
   "source": []
  },
  {
   "cell_type": "code",
   "execution_count": 42,
   "id": "d79a00b8-4238-4598-a2b3-2c3f8029ab03",
   "metadata": {},
   "outputs": [],
   "source": [
    "import torch\n",
    "import math\n",
    "from torch.optim.lr_scheduler import _LRScheduler\n",
    "import matplotlib.pyplot as plt\n",
    "\n",
    "class WarmupCosineAnnealScheduler(_LRScheduler):\n",
    "    \"\"\"\n",
    "    Custom LR scheduler with a warm-up phase followed by a cosine annealing phase.\n",
    "    \n",
    "    Args:\n",
    "        optimizer (Optimizer): Wrapped optimizer.\n",
    "        max_lr (float): Upper learning rate boundary after warmup.\n",
    "        total_steps (int): Total number of steps for the entire schedule.\n",
    "        pct_start (float): The percentage of total_steps to use for warmup.\n",
    "        base_lr (float, optional): The final learning rate after annealing. Default: 0.\n",
    "        div_factor (float, optional): Determines the initial learning rate via initial_lr = max_lr / div_factor. Default: 25.\n",
    "        last_epoch (int, optional): The index of last epoch. Default: -1.\n",
    "    \"\"\"\n",
    "    def __init__(self, optimizer, max_lr, total_steps, pct_start, base_lr=0., div_factor=25., last_epoch=-1):\n",
    "        self.max_lr = max_lr\n",
    "        self.total_steps = total_steps\n",
    "        self.warmup_steps = int(total_steps * pct_start)\n",
    "        self.anneal_steps = total_steps - self.warmup_steps\n",
    "        self.initial_lr = max_lr / div_factor\n",
    "        self.base_lr = base_lr\n",
    "        super(WarmupCosineAnnealScheduler, self).__init__(optimizer, last_epoch)\n",
    "\n",
    "    def get_lr(self):\n",
    "        # self.last_epoch is the current step counter\n",
    "        current_step = self.last_epoch\n",
    "\n",
    "        if current_step < self.warmup_steps:\n",
    "            # Linear warmup phase\n",
    "            scale = current_step / self.warmup_steps\n",
    "            lr = self.initial_lr + (self.max_lr - self.initial_lr) * scale\n",
    "        else:\n",
    "            # Cosine annealing phase\n",
    "            step_in_anneal = current_step - self.warmup_steps\n",
    "            scale = 0.5 * (1 + math.cos(math.pi * step_in_anneal / self.anneal_steps))\n",
    "            lr = self.base_lr + (self.max_lr - self.base_lr) * scale\n",
    "\n",
    "        return [lr for _ in self.optimizer.param_groups]"
   ]
  },
  {
   "cell_type": "code",
   "execution_count": 43,
   "id": "816a15a0-cce2-4f8a-a849-b3bf052acf1d",
   "metadata": {},
   "outputs": [
    {
     "data": {
      "image/png": "[encoded data removed]",
      "text/plain": [
       "<Figure size 1000x500 with 1 Axes>"
      ]
     },
     "metadata": {},
     "output_type": "display_data"
    }
   ],
   "source": [
    "def plot_scheduler_lrs(scheduler, total_steps, title=\"Learning Rate Schedule\"):\n",
    "    \"\"\"\n",
    "    Plots the learning rate of a scheduler over a given number of steps.\n",
    "    \"\"\"\n",
    "    # Dummy optimizer for simulation\n",
    "    dummy_model = torch.nn.Linear(1, 1)\n",
    "    optimizer = torch.optim.Adam(dummy_model.parameters(), lr=1.0) # Initial LR doesn't matter\n",
    "    \n",
    "    # Re-assign the scheduler to the dummy optimizer\n",
    "    scheduler.optimizer = optimizer\n",
    "    scheduler.last_epoch = -1 # Reset scheduler state\n",
    "    \n",
    "    lrs = []\n",
    "    for _ in range(total_steps):\n",
    "        # The scheduler's step must be called before the optimizer's step\n",
    "        scheduler.step()\n",
    "        lrs.append(optimizer.param_groups[0]['lr'])\n",
    "\n",
    "    plt.figure(figsize=(10, 5))\n",
    "    plt.plot(range(total_steps), lrs)\n",
    "    plt.xlabel(\"Step\")\n",
    "    plt.ylabel(\"Learning Rate\")\n",
    "    plt.title(title)\n",
    "    plt.grid(True)\n",
    "    plt.show()\n",
    "\n",
    "# --- Example Usage ---\n",
    "\n",
    "# Define a dummy model and optimizer\n",
    "model = torch.nn.Linear(10, 2)\n",
    "optimizer = torch.optim.Adam(model.parameters(), lr=0.01) # Initial LR is overwritten by scheduler\n",
    "\n",
    "# Scheduler parameters\n",
    "TOTAL_STEPS = 1000\n",
    "PCT_START = 0.2\n",
    "MAX_LR = 1e-3\n",
    "BASE_LR = 1e-5\n",
    "DIV_FACTOR = 20\n",
    "\n",
    "# Instantiate the scheduler\n",
    "my_scheduler = WarmupCosineAnnealScheduler(\n",
    "    optimizer,\n",
    "    max_lr=MAX_LR,\n",
    "    total_steps=TOTAL_STEPS,\n",
    "    pct_start=PCT_START,\n",
    "    base_lr=BASE_LR,\n",
    "    div_factor=DIV_FACTOR\n",
    ")\n",
    "\n",
    "# Plot the learning rate schedule\n",
    "plot_scheduler_lrs(my_scheduler, TOTAL_STEPS)"
   ]
  },
  {
   "cell_type": "code",
   "execution_count": 44,
   "id": "6bb50292-322d-446e-aaac-0f593f9727c1",
   "metadata": {},
   "outputs": [
    {
     "data": {
      "text/plain": [
       "Adam (\n",
       "Parameter Group 0\n",
       "    amsgrad: False\n",
       "    betas: (0.9, 0.999)\n",
       "    capturable: False\n",
       "    decoupled_weight_decay: False\n",
       "    differentiable: False\n",
       "    eps: 1e-08\n",
       "    foreach: None\n",
       "    fused: None\n",
       "    initial_lr: 0.01\n",
       "    lr: 5e-05\n",
       "    maximize: False\n",
       "    weight_decay: 0\n",
       ")"
      ]
     },
     "execution_count": 44,
     "metadata": {},
     "output_type": "execute_result"
    },
    {
     "name": "stdout",
     "output_type": "stream",
     "text": [
      "The history saving thread hit an unexpected error (OperationalError('attempt to write a readonly database')).History will not be written to the database.\n"
     ]
    }
   ],
   "source": [
    "optimizer"
   ]
  },
  {
   "cell_type": "code",
   "execution_count": 45,
   "id": "bbf0b806-556f-4457-9896-0fdf6ba89700",
   "metadata": {},
   "outputs": [],
   "source": [
    "optimizer = optim.AdamW(model.parameters())"
   ]
  },
  {
   "cell_type": "code",
   "execution_count": 46,
   "id": "81b6a30d-4d2c-4e67-a9d9-0d00f2c7c17a",
   "metadata": {},
   "outputs": [
    {
     "data": {
      "text/plain": [
       "AdamW (\n",
       "Parameter Group 0\n",
       "    amsgrad: False\n",
       "    betas: (0.9, 0.999)\n",
       "    capturable: False\n",
       "    decoupled_weight_decay: True\n",
       "    differentiable: False\n",
       "    eps: 1e-08\n",
       "    foreach: None\n",
       "    fused: None\n",
       "    lr: 0.001\n",
       "    maximize: False\n",
       "    weight_decay: 0.01\n",
       ")"
      ]
     },
     "execution_count": 46,
     "metadata": {},
     "output_type": "execute_result"
    }
   ],
   "source": [
    "optimizer"
   ]
  },
  {
   "cell_type": "code",
   "execution_count": null,
   "id": "6eb6bd98-597b-48d8-b049-ea071b48baaf",
   "metadata": {},
   "outputs": [],
   "source": []
  }
 ],
 "metadata": {
  "kernelspec": {
   "display_name": "Python 3 (ipykernel)",
   "language": "python",
   "name": "python3"
  },
  "language_info": {
   "codemirror_mode": {
    "name": "ipython",
    "version": 3
   },
   "file_extension": ".py",
   "mimetype": "text/x-python",
   "name": "python",
   "nbconvert_exporter": "python",
   "pygments_lexer": "ipython3",
   "version": "3.10.16"
  }
 },
 "nbformat": 4,
 "nbformat_minor": 5
}
