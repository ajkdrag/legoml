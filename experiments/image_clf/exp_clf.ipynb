{
 "cells": [
  {
   "cell_type": "code",
   "execution_count": 67,
   "id": "6e7234a5-e154-44c0-8805-ef990c438d07",
   "metadata": {},
   "outputs": [
    {
     "name": "stdout",
     "output_type": "stream",
     "text": [
      "The autoreload extension is already loaded. To reload it, use:\n",
      "  %reload_ext autoreload\n"
     ]
    }
   ],
   "source": [
    "%load_ext autoreload\n",
    "%autoreload 2"
   ]
  },
  {
   "cell_type": "code",
   "execution_count": 68,
   "id": "6ed5517d-0666-47eb-b404-140d83b84322",
   "metadata": {},
   "outputs": [],
   "source": [
    "import sys\n",
    "import os\n",
    "import torch\n",
    "import torchsummary"
   ]
  },
  {
   "cell_type": "code",
   "execution_count": 69,
   "id": "3fe49712-a5c5-4d4c-b8d4-0e16ebdbdd5d",
   "metadata": {},
   "outputs": [],
   "source": [
    "from experiments.image_clf.config import Config\n",
    "from experiments.image_clf.data import get_dls\n",
    "from experiments.image_clf.models import CNN__MLP_tiny_28x28"
   ]
  },
  {
   "cell_type": "code",
   "execution_count": 70,
   "id": "45bc8394-612e-4df8-aabf-8616d1d430e0",
   "metadata": {},
   "outputs": [],
   "source": [
    "from legoml.utils.logging import get_logger\n",
    "from legoml.utils.seed import set_seed"
   ]
  },
  {
   "cell_type": "code",
   "execution_count": 71,
   "id": "956ed3da-cece-4ca8-8be7-fc6fdbc69500",
   "metadata": {},
   "outputs": [],
   "source": [
    "import matplotlib.pyplot as plt\n",
    "\n",
    "%matplotlib inline"
   ]
  },
  {
   "cell_type": "code",
   "execution_count": 72,
   "id": "273b5fcf-9755-4f2f-bd43-f5959d3eb318",
   "metadata": {},
   "outputs": [],
   "source": [
    "device = torch.device(\"mps\")\n",
    "set_seed(42)\n",
    "config = Config(max_epochs=1, data_root=\"../../raw_data/\")"
   ]
  },
  {
   "cell_type": "code",
   "execution_count": 73,
   "id": "535a284f-7232-4dac-b1a3-faf53d77b25a",
   "metadata": {},
   "outputs": [],
   "source": [
    "model = CNN__MLP_tiny_28x28()"
   ]
  },
  {
   "cell_type": "code",
   "execution_count": 74,
   "id": "84c1916c-ad87-4381-a679-01fe14947c1e",
   "metadata": {
    "scrolled": true
   },
   "outputs": [
    {
     "data": {
      "text/plain": [
       "CNN__MLP_tiny_28x28(\n",
       "  (0): Conv_3x3__BnAct__Pool(\n",
       "    (0): Conv_3x3__BnAct(\n",
       "      (0): Conv2d(1, 32, kernel_size=(3, 3), stride=(1, 1), padding=(1, 1), bias=False)\n",
       "      (1): BatchNorm2d(32, eps=1e-05, momentum=0.1, affine=True, track_running_stats=True)\n",
       "      (2): ReLU(inplace=True)\n",
       "    )\n",
       "    (1): MaxPool2d(kernel_size=2, stride=2, padding=0, dilation=1, ceil_mode=True)\n",
       "  )\n",
       "  (1): Conv_3x3__BnAct(\n",
       "    (0): Conv2d(32, 32, kernel_size=(3, 3), stride=(1, 1), padding=(1, 1), bias=False)\n",
       "    (1): BatchNorm2d(32, eps=1e-05, momentum=0.1, affine=True, track_running_stats=True)\n",
       "    (2): ReLU(inplace=True)\n",
       "  )\n",
       "  (2): Conv_3x3__BnAct__Pool(\n",
       "    (0): Conv_3x3__BnAct(\n",
       "      (0): Conv2d(32, 64, kernel_size=(3, 3), stride=(1, 1), padding=(1, 1), bias=False)\n",
       "      (1): BatchNorm2d(64, eps=1e-05, momentum=0.1, affine=True, track_running_stats=True)\n",
       "      (2): ReLU(inplace=True)\n",
       "    )\n",
       "    (1): MaxPool2d(kernel_size=2, stride=2, padding=0, dilation=1, ceil_mode=True)\n",
       "  )\n",
       "  (3): Conv_3x3__BnAct(\n",
       "    (0): Conv2d(64, 64, kernel_size=(3, 3), stride=(1, 1), padding=(1, 1), bias=False)\n",
       "    (1): BatchNorm2d(64, eps=1e-05, momentum=0.1, affine=True, track_running_stats=True)\n",
       "    (2): ReLU(inplace=True)\n",
       "  )\n",
       "  (4): Flatten(start_dim=1, end_dim=-1)\n",
       "  (5): Linear__LnAct(\n",
       "    (0): Linear(in_features=3136, out_features=128, bias=True)\n",
       "    (1): LayerNorm((128,), eps=1e-05, elementwise_affine=True)\n",
       "    (2): ReLU(inplace=True)\n",
       "    (3): Identity()\n",
       "  )\n",
       "  (6): Linear__LnAct(\n",
       "    (0): Linear(in_features=128, out_features=10, bias=True)\n",
       "    (1): LayerNorm((10,), eps=1e-05, elementwise_affine=True)\n",
       "    (2): ReLU(inplace=True)\n",
       "    (3): Identity()\n",
       "  )\n",
       ")"
      ]
     },
     "execution_count": 74,
     "metadata": {},
     "output_type": "execute_result"
    }
   ],
   "source": [
    "model"
   ]
  },
  {
   "cell_type": "code",
   "execution_count": 75,
   "id": "251b8aed-86de-497b-ada5-d7774fb6c165",
   "metadata": {
    "scrolled": true
   },
   "outputs": [],
   "source": [
    "from legoml.core.context import Context\n",
    "from legoml.callbacks.checkpoint import CheckpointCallback\n",
    "\n",
    "eval_context = Context(\n",
    "    config=config,\n",
    "    model=model,\n",
    "    loss_fn=torch.nn.CrossEntropyLoss(),\n",
    "    device=device,\n",
    ")\n",
    "\n",
    "checkpoint_path = \"../../runs/train_img_clf/run_20250824_183653/artifacts/checkpoints/ckpt_last.pt\"\n",
    "_ = CheckpointCallback.load_into(\n",
    "    context=eval_context,\n",
    "    path=checkpoint_path,\n",
    "    map_location=device.type,\n",
    ")\n"
   ]
  },
  {
   "cell_type": "code",
   "execution_count": 76,
   "id": "9388606e-a270-4245-bfff-293324d214de",
   "metadata": {},
   "outputs": [
    {
     "name": "stdout",
     "output_type": "stream",
     "text": [
      "\u001b[2m2025-08-24 19:44:53\u001b[0m [\u001b[32m\u001b[1minfo     \u001b[0m] \u001b[1mCreated data loaders          \u001b[0m \u001b[36mtrain_size\u001b[0m=\u001b[35m938\u001b[0m \u001b[36mval_size\u001b[0m=\u001b[35m313\u001b[0m\n"
     ]
    }
   ],
   "source": [
    "train_dl, eval_dl = get_dls(config)"
   ]
  },
  {
   "cell_type": "code",
   "execution_count": 77,
   "id": "3140e8ea-3cd1-4443-ba0b-5f73083a8343",
   "metadata": {},
   "outputs": [],
   "source": [
    "single_batch = next(iter(eval_dl))"
   ]
  },
  {
   "cell_type": "code",
   "execution_count": 80,
   "id": "e4c7e7c9-78ed-45c6-9a5b-7f48a6efc51c",
   "metadata": {},
   "outputs": [],
   "source": [
    "images, targets = single_batch.inputs, single_batch.targets"
   ]
  },
  {
   "cell_type": "code",
   "execution_count": 81,
   "id": "ca5238b1-26a8-41a0-83b7-25414dc3addd",
   "metadata": {},
   "outputs": [
    {
     "data": {
      "image/png": "[encoded data removed]",
      "text/plain": [
       "<Figure size 640x480 with 1 Axes>"
      ]
     },
     "metadata": {},
     "output_type": "display_data"
    }
   ],
   "source": [
    "plt.imshow(images[0].reshape((28, 28, 1)), cmap=\"gray\")\n",
    "plt.show();"
   ]
  },
  {
   "cell_type": "code",
   "execution_count": 82,
   "id": "917263a9-7c3b-49d1-b787-4b403ca7070f",
   "metadata": {},
   "outputs": [
    {
     "data": {
      "text/plain": [
       "7"
      ]
     },
     "execution_count": 82,
     "metadata": {},
     "output_type": "execute_result"
    }
   ],
   "source": [
    "targets[0].item()"
   ]
  },
  {
   "cell_type": "markdown",
   "id": "24e28b7a-92cd-4927-816b-31718ca5de0d",
   "metadata": {},
   "source": [
    "## Model outputs"
   ]
  },
  {
   "cell_type": "code",
   "execution_count": 83,
   "id": "8c61d5e1-c9d9-47fa-aa65-c29136415758",
   "metadata": {},
   "outputs": [
    {
     "data": {
      "text/plain": [
       "device(type='cpu')"
      ]
     },
     "execution_count": 83,
     "metadata": {},
     "output_type": "execute_result"
    }
   ],
   "source": [
    "next(eval_context.model.parameters()).device"
   ]
  },
  {
   "cell_type": "code",
   "execution_count": 84,
   "id": "1ab7413f-517f-45c5-8393-1d7dc38a46e7",
   "metadata": {},
   "outputs": [
    {
     "data": {
      "text/plain": [
       "torch.Size([1, 28, 28])"
      ]
     },
     "execution_count": 84,
     "metadata": {},
     "output_type": "execute_result"
    }
   ],
   "source": [
    "images[0].shape"
   ]
  },
  {
   "cell_type": "code",
   "execution_count": 85,
   "id": "0c3d0af6-1c17-44ca-aa80-c73d7a83dbfe",
   "metadata": {},
   "outputs": [
    {
     "name": "stdout",
     "output_type": "stream",
     "text": [
      "----------------------------------------------------------------\n",
      "        Layer (type)               Output Shape         Param #\n",
      "================================================================\n",
      "            Conv2d-1           [-1, 32, 28, 28]             288\n",
      "       BatchNorm2d-2           [-1, 32, 28, 28]              64\n",
      "              ReLU-3           [-1, 32, 28, 28]               0\n",
      "         MaxPool2d-4           [-1, 32, 14, 14]               0\n",
      "            Conv2d-5           [-1, 32, 14, 14]           9,216\n",
      "       BatchNorm2d-6           [-1, 32, 14, 14]              64\n",
      "              ReLU-7           [-1, 32, 14, 14]               0\n",
      "            Conv2d-8           [-1, 64, 14, 14]          18,432\n",
      "       BatchNorm2d-9           [-1, 64, 14, 14]             128\n",
      "             ReLU-10           [-1, 64, 14, 14]               0\n",
      "        MaxPool2d-11             [-1, 64, 7, 7]               0\n",
      "           Conv2d-12             [-1, 64, 7, 7]          36,864\n",
      "      BatchNorm2d-13             [-1, 64, 7, 7]             128\n",
      "             ReLU-14             [-1, 64, 7, 7]               0\n",
      "          Flatten-15                 [-1, 3136]               0\n",
      "           Linear-16                  [-1, 128]         401,536\n",
      "        LayerNorm-17                  [-1, 128]             256\n",
      "             ReLU-18                  [-1, 128]               0\n",
      "         Identity-19                  [-1, 128]               0\n",
      "           Linear-20                   [-1, 10]           1,290\n",
      "        LayerNorm-21                   [-1, 10]              20\n",
      "             ReLU-22                   [-1, 10]               0\n",
      "         Identity-23                   [-1, 10]               0\n",
      "================================================================\n",
      "Total params: 468,286\n",
      "Trainable params: 468,286\n",
      "Non-trainable params: 0\n",
      "----------------------------------------------------------------\n",
      "Input size (MB): 0.00\n",
      "Forward/backward pass size (MB): 1.18\n",
      "Params size (MB): 1.79\n",
      "Estimated Total Size (MB): 2.97\n",
      "----------------------------------------------------------------\n"
     ]
    }
   ],
   "source": [
    "torchsummary.summary(eval_context.model.cpu(), images[0].shape)"
   ]
  },
  {
   "cell_type": "code",
   "execution_count": null,
   "id": "cf5f36ba-3aba-4524-bb40-315f7b2f05f5",
   "metadata": {},
   "outputs": [],
   "source": []
  },
  {
   "cell_type": "code",
   "execution_count": 86,
   "id": "31e45655-2de6-484b-a08f-d56e587d5a0a",
   "metadata": {},
   "outputs": [],
   "source": [
    "_ = eval_context.model.to(device).eval()\n",
    "with torch.no_grad():\n",
    "    model_op = eval_context.model(images.to(device))"
   ]
  },
  {
   "cell_type": "code",
   "execution_count": 87,
   "id": "f55e10bd-4283-4cfd-a3f2-b98a2b5f599a",
   "metadata": {},
   "outputs": [
    {
     "name": "stdout",
     "output_type": "stream",
     "text": [
      "Pred: 7, target: 7\n",
      "Pred: 2, target: 2\n",
      "Pred: 1, target: 1\n",
      "Pred: 0, target: 0\n",
      "Pred: 4, target: 4\n"
     ]
    }
   ],
   "source": [
    "for idx in range(len(targets))[:5]:\n",
    "    pred = model_op[idx].argmax(dim=-1).item()\n",
    "    tgt = targets[idx].item()\n",
    "    print(f\"Pred: {pred}, target: {tgt}\")"
   ]
  },
  {
   "cell_type": "code",
   "execution_count": 112,
   "id": "1b44531e-bb65-488e-8c78-144d4d428b05",
   "metadata": {},
   "outputs": [],
   "source": [
    "from collections import OrderedDict\n",
    "\n",
    "class TestModel(torch.nn.Sequential):\n",
    "    def __init__(self):\n",
    "        super().__init__(\n",
    "            OrderedDict([\n",
    "                ('fc1', torch.nn.Linear(2, 10)),\n",
    "                ('activation', torch.nn.ReLU(inplace=True)),\n",
    "                ('fc2', torch.nn.Linear(10, 2))\n",
    "            ])\n",
    "        )"
   ]
  },
  {
   "cell_type": "code",
   "execution_count": 113,
   "id": "96af645f-e148-4401-9dd8-94dd3eb585e3",
   "metadata": {},
   "outputs": [],
   "source": [
    "md = TestModel()"
   ]
  },
  {
   "cell_type": "code",
   "execution_count": 114,
   "id": "447f9b98-27fd-4e5c-a0c5-21dc1308187a",
   "metadata": {},
   "outputs": [
    {
     "data": {
      "text/plain": [
       "Linear(in_features=2, out_features=10, bias=True)"
      ]
     },
     "execution_count": 114,
     "metadata": {},
     "output_type": "execute_result"
    }
   ],
   "source": [
    "md.fc1"
   ]
  },
  {
   "cell_type": "code",
   "execution_count": 116,
   "id": "e4c1bc5f-b04d-40f3-91c1-55c34e2a74a4",
   "metadata": {},
   "outputs": [
    {
     "data": {
      "text/plain": [
       "TestModel(\n",
       "  (fc1): Linear(in_features=2, out_features=10, bias=True)\n",
       "  (activation): ReLU(inplace=True)\n",
       "  (fc2): Linear(in_features=10, out_features=2, bias=True)\n",
       ")"
      ]
     },
     "execution_count": 116,
     "metadata": {},
     "output_type": "execute_result"
    }
   ],
   "source": [
    "md"
   ]
  },
  {
   "cell_type": "code",
   "execution_count": 118,
   "id": "b835cb38-282d-4cfc-a7ef-6b10b9ca3107",
   "metadata": {},
   "outputs": [],
   "source": [
    "import torch.nn as nn"
   ]
  },
  {
   "cell_type": "code",
   "execution_count": 121,
   "id": "643f2d43-8c55-44d9-9160-7b0730c2cc64",
   "metadata": {},
   "outputs": [],
   "source": [
    "class AEBackbone__MLP(nn.Sequential):\n",
    "    def __init__(self, encoder: nn.Module):\n",
    "        super().__init__(\n",
    "            OrderedDict(\n",
    "                [\n",
    "                    (\"encoder\", encoder),\n",
    "                    (\"head\", nn.Linear(128, 10)),  # [10]\n",
    "                ]\n",
    "            )\n",
    "        )"
   ]
  },
  {
   "cell_type": "code",
   "execution_count": 122,
   "id": "a42154fc-49e4-4f63-b8d8-304625978dae",
   "metadata": {},
   "outputs": [],
   "source": [
    "aemlp = AEBackbone__MLP(md)"
   ]
  },
  {
   "cell_type": "code",
   "execution_count": 124,
   "id": "d1d7e520-8a15-451d-b8bf-6444c9790912",
   "metadata": {},
   "outputs": [
    {
     "data": {
      "text/plain": [
       "TestModel(\n",
       "  (fc1): Linear(in_features=2, out_features=10, bias=True)\n",
       "  (activation): ReLU(inplace=True)\n",
       "  (fc2): Linear(in_features=10, out_features=2, bias=True)\n",
       ")"
      ]
     },
     "execution_count": 124,
     "metadata": {},
     "output_type": "execute_result"
    }
   ],
   "source": [
    "aemlp.encoder"
   ]
  },
  {
   "cell_type": "code",
   "execution_count": 13,
   "id": "5d965ed9-96a3-4885-8b5b-1929a4df04a9",
   "metadata": {},
   "outputs": [],
   "source": [
    "import torch\n",
    "import torch.nn as nn\n",
    "from collections import OrderedDict"
   ]
  },
  {
   "cell_type": "code",
   "execution_count": 20,
   "id": "60df8776-bd13-4551-87b4-17be5f1c1cfd",
   "metadata": {},
   "outputs": [],
   "source": [
    "class NormAct(nn.Module):\n",
    "    def __init__(self, norm: nn.Module, act: nn.Module):\n",
    "        super().__init__()\n",
    "        self.norm = norm\n",
    "        self.act = act\n",
    "\n",
    "    def forward(self, x: torch.Tensor): return self.act(self.norm(x))"
   ]
  },
  {
   "cell_type": "code",
   "execution_count": 31,
   "id": "4bdbba30-c149-45e6-9333-2183f4a6f798",
   "metadata": {},
   "outputs": [],
   "source": [
    "class ConvLayer(nn.Sequential):\n",
    "    def __init__(self, c1, c2, norm_fn, act_fn):\n",
    "        norm = norm_fn(c2)\n",
    "        act = act_fn()\n",
    "        conv = nn.Conv2d(c1, c2, 3, 1, 1)\n",
    "        layers = [conv, NormAct(norm=norm, act=act)]\n",
    "        super().__init__(*layers)\n",
    "        self.conv = conv\n",
    "        self.norm = norm\n",
    "        self.act = act\n"
   ]
  },
  {
   "cell_type": "code",
   "execution_count": 32,
   "id": "414f256d-4390-4a9b-b43c-6d4b99313639",
   "metadata": {},
   "outputs": [],
   "source": [
    "cv = ConvLayer(3, 16, norm_fn=nn.BatchNorm2d, act_fn=nn.ReLU)"
   ]
  },
  {
   "cell_type": "code",
   "execution_count": 34,
   "id": "2d9fc679-ef74-483b-818a-3edf888d354e",
   "metadata": {},
   "outputs": [
    {
     "data": {
      "text/plain": [
       "BatchNorm2d(16, eps=1e-05, momentum=0.1, affine=True, track_running_stats=True)"
      ]
     },
     "execution_count": 34,
     "metadata": {},
     "output_type": "execute_result"
    }
   ],
   "source": [
    "cv.norm"
   ]
  },
  {
   "cell_type": "code",
   "execution_count": 35,
   "id": "8ff224fb-319a-4f03-9e54-42e5932ff7ec",
   "metadata": {},
   "outputs": [],
   "source": [
    "cv.act = nn.ReLU6()"
   ]
  },
  {
   "cell_type": "code",
   "execution_count": 36,
   "id": "f3ef686e-267a-4d69-b1cc-e960d0239c4a",
   "metadata": {},
   "outputs": [
    {
     "data": {
      "text/plain": [
       "ConvLayer(\n",
       "  (0): Conv2d(3, 16, kernel_size=(3, 3), stride=(1, 1), padding=(1, 1))\n",
       "  (1): NormAct(\n",
       "    (norm): BatchNorm2d(16, eps=1e-05, momentum=0.1, affine=True, track_running_stats=True)\n",
       "    (act): ReLU()\n",
       "  )\n",
       "  (conv): Conv2d(3, 16, kernel_size=(3, 3), stride=(1, 1), padding=(1, 1))\n",
       "  (norm): BatchNorm2d(16, eps=1e-05, momentum=0.1, affine=True, track_running_stats=True)\n",
       "  (act): ReLU6()\n",
       ")"
      ]
     },
     "execution_count": 36,
     "metadata": {},
     "output_type": "execute_result"
    }
   ],
   "source": [
    "cv"
   ]
  },
  {
   "cell_type": "code",
   "execution_count": null,
   "id": "42286f27-106b-454a-8adf-14fe5368acaf",
   "metadata": {},
   "outputs": [],
   "source": []
  }
 ],
 "metadata": {
  "kernelspec": {
   "display_name": "Python 3 (ipykernel)",
   "language": "python",
   "name": "python3"
  },
  "language_info": {
   "codemirror_mode": {
    "name": "ipython",
    "version": 3
   },
   "file_extension": ".py",
   "mimetype": "text/x-python",
   "name": "python",
   "nbconvert_exporter": "python",
   "pygments_lexer": "ipython3",
   "version": "3.10.18"
  }
 },
 "nbformat": 4,
 "nbformat_minor": 5
}
