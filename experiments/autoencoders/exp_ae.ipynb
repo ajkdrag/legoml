{
 "cells": [
  {
   "cell_type": "code",
   "execution_count": 1,
   "id": "5cefb987-0ef0-4527-b9fb-8d0845eaee89",
   "metadata": {},
   "outputs": [],
   "source": [
    "%load_ext autoreload\n",
    "%autoreload 2"
   ]
  },
  {
   "cell_type": "code",
   "execution_count": 88,
   "id": "50d86c4b-2b97-48ad-bc09-022e2391ef37",
   "metadata": {},
   "outputs": [],
   "source": [
    "import sys\n",
    "import os\n",
    "import torch\n",
    "import torchsummary"
   ]
  },
  {
   "cell_type": "code",
   "execution_count": 93,
   "id": "31bead78-6b3f-4e8e-94f9-24f700732148",
   "metadata": {},
   "outputs": [],
   "source": [
    "from experiments.autoencoders.config import Config\n",
    "from experiments.autoencoders.data import get_dls\n",
    "from experiments.autoencoders.models import Autoencoder"
   ]
  },
  {
   "cell_type": "code",
   "execution_count": 94,
   "id": "d9856a97-bd0e-48d3-98d8-3586f5820fcd",
   "metadata": {},
   "outputs": [],
   "source": [
    "from legoml.utils.logging import get_logger\n",
    "from legoml.utils.seed import set_seed"
   ]
  },
  {
   "cell_type": "code",
   "execution_count": 5,
   "id": "b6a05b35-28d0-4a4d-bb0a-cb21fa30fabb",
   "metadata": {},
   "outputs": [],
   "source": [
    "import matplotlib.pyplot as plt\n",
    "\n",
    "%matplotlib inline"
   ]
  },
  {
   "cell_type": "code",
   "execution_count": 95,
   "id": "477516f3-9306-4b10-9c59-0892109bad9d",
   "metadata": {},
   "outputs": [],
   "source": [
    "device = torch.device(\"mps\")\n",
    "set_seed(42)\n",
    "config = Config(max_epochs=1, data_root=\"../../raw_data/\")"
   ]
  },
  {
   "cell_type": "code",
   "execution_count": 96,
   "id": "0a7654a7-8073-4020-b852-c198b1239c35",
   "metadata": {},
   "outputs": [],
   "source": [
    "model = Autoencoder()"
   ]
  },
  {
   "cell_type": "code",
   "execution_count": 97,
   "id": "fb8ad24c-e11e-4406-b3b4-6b99bccd8053",
   "metadata": {
    "scrolled": true
   },
   "outputs": [
    {
     "data": {
      "text/plain": [
       "Autoencoder(\n",
       "  (0): Encoder(\n",
       "    (0): Conv_3x3__BnAct__Pool(\n",
       "      (0): Conv_3x3__BnAct(\n",
       "        (0): Conv2d(1, 32, kernel_size=(3, 3), stride=(1, 1), padding=(1, 1), bias=False)\n",
       "        (1): BatchNorm2d(32, eps=1e-05, momentum=0.1, affine=True, track_running_stats=True)\n",
       "        (2): ReLU(inplace=True)\n",
       "      )\n",
       "      (1): MaxPool2d(kernel_size=2, stride=2, padding=0, dilation=1, ceil_mode=True)\n",
       "    )\n",
       "    (1): Conv_3x3__BnAct(\n",
       "      (0): Conv2d(32, 32, kernel_size=(3, 3), stride=(1, 1), padding=(1, 1), bias=False)\n",
       "      (1): BatchNorm2d(32, eps=1e-05, momentum=0.1, affine=True, track_running_stats=True)\n",
       "      (2): ReLU(inplace=True)\n",
       "    )\n",
       "    (2): Conv_3x3__BnAct__Pool(\n",
       "      (0): Conv_3x3__BnAct(\n",
       "        (0): Conv2d(32, 64, kernel_size=(3, 3), stride=(1, 1), padding=(1, 1), bias=False)\n",
       "        (1): BatchNorm2d(64, eps=1e-05, momentum=0.1, affine=True, track_running_stats=True)\n",
       "        (2): ReLU(inplace=True)\n",
       "      )\n",
       "      (1): MaxPool2d(kernel_size=2, stride=2, padding=0, dilation=1, ceil_mode=True)\n",
       "    )\n",
       "    (3): Conv_3x3__BnAct(\n",
       "      (0): Conv2d(64, 64, kernel_size=(3, 3), stride=(1, 1), padding=(1, 1), bias=False)\n",
       "      (1): BatchNorm2d(64, eps=1e-05, momentum=0.1, affine=True, track_running_stats=True)\n",
       "      (2): ReLU(inplace=True)\n",
       "    )\n",
       "    (4): Conv_3x3__BnAct__Pool(\n",
       "      (0): Conv_3x3__BnAct(\n",
       "        (0): Conv2d(64, 128, kernel_size=(3, 3), stride=(1, 1), padding=(1, 1), bias=False)\n",
       "        (1): BatchNorm2d(128, eps=1e-05, momentum=0.1, affine=True, track_running_stats=True)\n",
       "        (2): ReLU(inplace=True)\n",
       "      )\n",
       "      (1): MaxPool2d(kernel_size=2, stride=2, padding=0, dilation=1, ceil_mode=True)\n",
       "    )\n",
       "    (5): Flatten(start_dim=1, end_dim=-1)\n",
       "    (6): Linear__LnAct(\n",
       "      (0): Linear(in_features=2048, out_features=128, bias=True)\n",
       "      (1): LayerNorm((128,), eps=1e-05, elementwise_affine=True)\n",
       "      (2): ReLU(inplace=True)\n",
       "      (3): Identity()\n",
       "    )\n",
       "  )\n",
       "  (1): Decoder(\n",
       "    (0): Linear__LnAct(\n",
       "      (0): Linear(in_features=128, out_features=2048, bias=True)\n",
       "      (1): LayerNorm((2048,), eps=1e-05, elementwise_affine=True)\n",
       "      (2): ReLU(inplace=True)\n",
       "      (3): Identity()\n",
       "    )\n",
       "    (1): Rearrange('b (c h w) -> b c h w', c=128, h=4, w=4)\n",
       "    (2): ConvTranspose_3x3_Up__BnAct(\n",
       "      (0): ConvTranspose2d(128, 64, kernel_size=(3, 3), stride=(2, 2), padding=(1, 1), bias=False)\n",
       "      (1): BatchNorm2d(64, eps=1e-05, momentum=0.1, affine=True, track_running_stats=True)\n",
       "      (2): ReLU(inplace=True)\n",
       "    )\n",
       "    (3): Conv_3x3__BnAct(\n",
       "      (0): Conv2d(64, 64, kernel_size=(3, 3), stride=(1, 1), padding=(1, 1), bias=False)\n",
       "      (1): BatchNorm2d(64, eps=1e-05, momentum=0.1, affine=True, track_running_stats=True)\n",
       "      (2): ReLU(inplace=True)\n",
       "    )\n",
       "    (4): ConvTranspose_3x3_Up__BnAct(\n",
       "      (0): ConvTranspose2d(64, 32, kernel_size=(3, 3), stride=(2, 2), padding=(1, 1), output_padding=(1, 1), bias=False)\n",
       "      (1): BatchNorm2d(32, eps=1e-05, momentum=0.1, affine=True, track_running_stats=True)\n",
       "      (2): ReLU(inplace=True)\n",
       "    )\n",
       "    (5): Conv_3x3__BnAct(\n",
       "      (0): Conv2d(32, 32, kernel_size=(3, 3), stride=(1, 1), padding=(1, 1), bias=False)\n",
       "      (1): BatchNorm2d(32, eps=1e-05, momentum=0.1, affine=True, track_running_stats=True)\n",
       "      (2): ReLU(inplace=True)\n",
       "    )\n",
       "    (6): ConvTranspose_3x3_Up__BnAct(\n",
       "      (0): ConvTranspose2d(32, 1, kernel_size=(3, 3), stride=(2, 2), padding=(1, 1), output_padding=(1, 1), bias=False)\n",
       "      (1): BatchNorm2d(1, eps=1e-05, momentum=0.1, affine=True, track_running_stats=True)\n",
       "      (2): ReLU(inplace=True)\n",
       "    )\n",
       "  )\n",
       ")"
      ]
     },
     "execution_count": 97,
     "metadata": {},
     "output_type": "execute_result"
    }
   ],
   "source": [
    "model"
   ]
  },
  {
   "cell_type": "code",
   "execution_count": 107,
   "id": "520bb2e8-9e01-4abb-91fb-f44d4c5c3d16",
   "metadata": {},
   "outputs": [],
   "source": [
    "from legoml.core.context import Context\n",
    "from legoml.callbacks.checkpoint import CheckpointCallback\n",
    "\n",
    "eval_context = Context(\n",
    "    config=config,\n",
    "    model=model,\n",
    "    loss_fn=torch.nn.MSELoss(),\n",
    "    device=device,\n",
    ")\n",
    "\n",
    "checkpoint_path = \"../../runs/autoencoder/run_20250824_193922/artifacts/checkpoints/ckpt_last.pt\"\n",
    "_ = CheckpointCallback.load_into(\n",
    "    context=eval_context,\n",
    "    path=checkpoint_path,\n",
    "    map_location=device.type,\n",
    ")\n"
   ]
  },
  {
   "cell_type": "code",
   "execution_count": 99,
   "id": "2bcf7bf9-a8d7-421f-afe5-0c5fab34c76c",
   "metadata": {},
   "outputs": [
    {
     "name": "stdout",
     "output_type": "stream",
     "text": [
      "\u001b[2m2025-08-24 19:41:00\u001b[0m [\u001b[32m\u001b[1minfo     \u001b[0m] \u001b[1mCreated data loaders          \u001b[0m \u001b[36mtrain_size\u001b[0m=\u001b[35m938\u001b[0m \u001b[36mval_size\u001b[0m=\u001b[35m313\u001b[0m\n"
     ]
    }
   ],
   "source": [
    "train_dl, eval_dl = get_dls(config)"
   ]
  },
  {
   "cell_type": "code",
   "execution_count": 100,
   "id": "b0c916f8-12ce-4b15-b049-d60a69979238",
   "metadata": {},
   "outputs": [],
   "source": [
    "single_batch = next(iter(eval_dl))"
   ]
  },
  {
   "cell_type": "code",
   "execution_count": 101,
   "id": "0f9f0e9d-4cde-4671-84bd-3bdb79375d2c",
   "metadata": {},
   "outputs": [],
   "source": [
    "images = single_batch.inputs"
   ]
  },
  {
   "cell_type": "code",
   "execution_count": 102,
   "id": "a4c2fb16-fb10-4df3-b2f1-2ae56cb883f5",
   "metadata": {},
   "outputs": [
    {
     "data": {
      "image/png": "[encoded data removed]",
      "text/plain": [
       "<Figure size 640x480 with 1 Axes>"
      ]
     },
     "metadata": {},
     "output_type": "display_data"
    }
   ],
   "source": [
    "plt.imshow(images[0].reshape((28, 28, 1)), cmap=\"gray\")\n",
    "plt.show();"
   ]
  },
  {
   "cell_type": "markdown",
   "id": "684fbd8f-176c-44fb-9dcd-1c82fe3e3040",
   "metadata": {},
   "source": [
    "## Model Outputs"
   ]
  },
  {
   "cell_type": "code",
   "execution_count": 125,
   "id": "0a56d55c-1eb1-4c53-ba7c-0352f9425d8b",
   "metadata": {},
   "outputs": [
    {
     "data": {
      "text/plain": [
       "device(type='mps', index=0)"
      ]
     },
     "execution_count": 125,
     "metadata": {},
     "output_type": "execute_result"
    }
   ],
   "source": [
    "next(eval_context.model.parameters()).device"
   ]
  },
  {
   "cell_type": "code",
   "execution_count": 109,
   "id": "1c5690ce-72fc-41e1-8f3a-373de2964773",
   "metadata": {},
   "outputs": [
    {
     "name": "stdout",
     "output_type": "stream",
     "text": [
      "----------------------------------------------------------------\n",
      "        Layer (type)               Output Shape         Param #\n",
      "================================================================\n",
      "            Conv2d-1           [-1, 32, 28, 28]             288\n",
      "       BatchNorm2d-2           [-1, 32, 28, 28]              64\n",
      "              ReLU-3           [-1, 32, 28, 28]               0\n",
      "         MaxPool2d-4           [-1, 32, 14, 14]               0\n",
      "            Conv2d-5           [-1, 32, 14, 14]           9,216\n",
      "       BatchNorm2d-6           [-1, 32, 14, 14]              64\n",
      "              ReLU-7           [-1, 32, 14, 14]               0\n",
      "            Conv2d-8           [-1, 64, 14, 14]          18,432\n",
      "       BatchNorm2d-9           [-1, 64, 14, 14]             128\n",
      "             ReLU-10           [-1, 64, 14, 14]               0\n",
      "        MaxPool2d-11             [-1, 64, 7, 7]               0\n",
      "           Conv2d-12             [-1, 64, 7, 7]          36,864\n",
      "      BatchNorm2d-13             [-1, 64, 7, 7]             128\n",
      "             ReLU-14             [-1, 64, 7, 7]               0\n",
      "           Conv2d-15            [-1, 128, 7, 7]          73,728\n",
      "      BatchNorm2d-16            [-1, 128, 7, 7]             256\n",
      "             ReLU-17            [-1, 128, 7, 7]               0\n",
      "        MaxPool2d-18            [-1, 128, 4, 4]               0\n",
      "          Flatten-19                 [-1, 2048]               0\n",
      "           Linear-20                  [-1, 128]         262,272\n",
      "        LayerNorm-21                  [-1, 128]             256\n",
      "             ReLU-22                  [-1, 128]               0\n",
      "         Identity-23                  [-1, 128]               0\n",
      "           Linear-24                 [-1, 2048]         264,192\n",
      "        LayerNorm-25                 [-1, 2048]           4,096\n",
      "             ReLU-26                 [-1, 2048]               0\n",
      "         Identity-27                 [-1, 2048]               0\n",
      "        Rearrange-28            [-1, 128, 4, 4]               0\n",
      "  ConvTranspose2d-29             [-1, 64, 7, 7]          73,728\n",
      "      BatchNorm2d-30             [-1, 64, 7, 7]             128\n",
      "             ReLU-31             [-1, 64, 7, 7]               0\n",
      "           Conv2d-32             [-1, 64, 7, 7]          36,864\n",
      "      BatchNorm2d-33             [-1, 64, 7, 7]             128\n",
      "             ReLU-34             [-1, 64, 7, 7]               0\n",
      "  ConvTranspose2d-35           [-1, 32, 14, 14]          18,432\n",
      "      BatchNorm2d-36           [-1, 32, 14, 14]              64\n",
      "             ReLU-37           [-1, 32, 14, 14]               0\n",
      "           Conv2d-38           [-1, 32, 14, 14]           9,216\n",
      "      BatchNorm2d-39           [-1, 32, 14, 14]              64\n",
      "             ReLU-40           [-1, 32, 14, 14]               0\n",
      "  ConvTranspose2d-41            [-1, 1, 28, 28]             288\n",
      "      BatchNorm2d-42            [-1, 1, 28, 28]               2\n",
      "             ReLU-43            [-1, 1, 28, 28]               0\n",
      "================================================================\n",
      "Total params: 808,898\n",
      "Trainable params: 808,898\n",
      "Non-trainable params: 0\n",
      "----------------------------------------------------------------\n",
      "Input size (MB): 0.00\n",
      "Forward/backward pass size (MB): 1.85\n",
      "Params size (MB): 3.09\n",
      "Estimated Total Size (MB): 4.94\n",
      "----------------------------------------------------------------\n"
     ]
    }
   ],
   "source": [
    "torchsummary.summary(eval_context.model.cpu(), images[0].shape)"
   ]
  },
  {
   "cell_type": "code",
   "execution_count": 110,
   "id": "eadfd6d1-704b-40d3-96ec-e4e6a656864a",
   "metadata": {},
   "outputs": [],
   "source": [
    "_ = eval_context.model.to(device).eval()\n",
    "with torch.no_grad():\n",
    "    model_op = eval_context.model(images.to(device))"
   ]
  },
  {
   "cell_type": "code",
   "execution_count": 122,
   "id": "9605901b-b1b6-4737-9ff0-240e38a7ee44",
   "metadata": {},
   "outputs": [],
   "source": [
    "pred = model_op[3]"
   ]
  },
  {
   "cell_type": "code",
   "execution_count": 123,
   "id": "02775130-ca57-41e3-b310-8dfaa95f5b09",
   "metadata": {},
   "outputs": [
    {
     "data": {
      "text/plain": [
       "<matplotlib.image.AxesImage at 0x13a135270>"
      ]
     },
     "execution_count": 123,
     "metadata": {},
     "output_type": "execute_result"
    },
    {
     "data": {
      "image/png": "[encoded data removed]",
      "text/plain": [
       "<Figure size 640x480 with 1 Axes>"
      ]
     },
     "metadata": {},
     "output_type": "display_data"
    }
   ],
   "source": [
    "plt.imshow(pred.detach().cpu().reshape((28, 28, 1)), cmap=\"gray\")"
   ]
  },
  {
   "cell_type": "code",
   "execution_count": 124,
   "id": "3412f9de-86ad-46cf-9897-4bfc416fb501",
   "metadata": {},
   "outputs": [
    {
     "data": {
      "image/png": "[encoded data removed]",
      "text/plain": [
       "<Figure size 640x480 with 1 Axes>"
      ]
     },
     "metadata": {},
     "output_type": "display_data"
    }
   ],
   "source": [
    "plt.imshow(images[3].reshape((28, 28, 1)), cmap=\"gray\")\n",
    "plt.show();"
   ]
  },
  {
   "cell_type": "code",
   "execution_count": null,
   "id": "46c7a745-9eeb-4ee2-8877-1d2b22788472",
   "metadata": {},
   "outputs": [],
   "source": []
  },
  {
   "cell_type": "code",
   "execution_count": null,
   "id": "845c9b01-239e-48ca-a2f6-f6ace61a92be",
   "metadata": {},
   "outputs": [],
   "source": []
  }
 ],
 "metadata": {
  "kernelspec": {
   "display_name": "Python 3 (ipykernel)",
   "language": "python",
   "name": "python3"
  },
  "language_info": {
   "codemirror_mode": {
    "name": "ipython",
    "version": 3
   },
   "file_extension": ".py",
   "mimetype": "text/x-python",
   "name": "python",
   "nbconvert_exporter": "python",
   "pygments_lexer": "ipython3",
   "version": "3.10.16"
  }
 },
 "nbformat": 4,
 "nbformat_minor": 5
}
